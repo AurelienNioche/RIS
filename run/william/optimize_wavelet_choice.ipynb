{
 "cells": [
  {
   "cell_type": "code",
   "execution_count": 1,
   "id": "2c8cfb8d",
   "metadata": {},
   "outputs": [],
   "source": [
    "import optuna\n",
    "import pywt\n",
    "import numpy as np"
   ]
  },
  {
   "cell_type": "code",
   "execution_count": 2,
   "id": "c221a5d2",
   "metadata": {},
   "outputs": [],
   "source": [
    "from main__wavelet_cnn import train"
   ]
  },
  {
   "cell_type": "code",
   "execution_count": 3,
   "id": "a642341c",
   "metadata": {},
   "outputs": [],
   "source": [
    "wavelet_list = pywt.wavelist(kind='continuous')"
   ]
  },
  {
   "cell_type": "code",
   "execution_count": null,
   "id": "d0e47c58",
   "metadata": {},
   "outputs": [
    {
     "name": "stderr",
     "output_type": "stream",
     "text": [
      "\u001b[32m[I 2022-11-08 18:04:45,070]\u001b[0m A new study created in memory with name: no-name-afbd9d24-b93a-4934-8203-800b2bf7ff91\u001b[0m\n",
      "/Users/aureliennioche/.pyenv/versions/3.9.13/lib/python3.9/site-packages/torch/nn/modules/lazy.py:180: UserWarning: Lazy modules are a new feature under heavy development so changes to the API or functionality can happen at any moment.\n",
      "  warnings.warn('Lazy modules are a new feature under heavy development '\n",
      "100%|████████████████████████████████████████████████████████████| 500/500 [02:44<00:00,  3.05it/s, acc_training=1, acc_validation=0.752]\n",
      "\u001b[32m[I 2022-11-08 18:07:45,764]\u001b[0m Trial 0 finished with value: 0.7515151500701904 and parameters: {'wavelet': 'cgau6'}. Best is trial 0 with value: 0.7515151500701904.\u001b[0m\n",
      "/Users/aureliennioche/.pyenv/versions/3.9.13/lib/python3.9/site-packages/pywt/_cwt.py:117: FutureWarning: Wavelets from the family cmor, without parameters specified in the name are deprecated. The name should takethe form cmorB-C where B and C are floats representing the bandwidth frequency and center frequency, respectively (example: cmor1.5-1.0).\n",
      "  wavelet = DiscreteContinuousWavelet(wavelet)\n",
      "/Users/aureliennioche/.pyenv/versions/3.9.13/lib/python3.9/site-packages/torch/nn/modules/lazy.py:180: UserWarning: Lazy modules are a new feature under heavy development so changes to the API or functionality can happen at any moment.\n",
      "  warnings.warn('Lazy modules are a new feature under heavy development '\n",
      "100%|████████████████████████████████████████████████████████████| 500/500 [03:40<00:00,  2.26it/s, acc_training=1, acc_validation=0.842]\n",
      "\u001b[32m[I 2022-11-08 18:11:57,001]\u001b[0m Trial 1 finished with value: 0.842424213886261 and parameters: {'wavelet': 'cmor'}. Best is trial 1 with value: 0.842424213886261.\u001b[0m\n",
      "/Users/aureliennioche/.pyenv/versions/3.9.13/lib/python3.9/site-packages/torch/nn/modules/lazy.py:180: UserWarning: Lazy modules are a new feature under heavy development so changes to the API or functionality can happen at any moment.\n",
      "  warnings.warn('Lazy modules are a new feature under heavy development '\n",
      "100%|████████████████████████████████████████████████████████████| 500/500 [03:46<00:00,  2.21it/s, acc_training=1, acc_validation=0.833]\n",
      "\u001b[32m[I 2022-11-08 18:15:55,338]\u001b[0m Trial 2 finished with value: 0.8333333134651184 and parameters: {'wavelet': 'morl'}. Best is trial 1 with value: 0.842424213886261.\u001b[0m\n",
      "/Users/aureliennioche/.pyenv/versions/3.9.13/lib/python3.9/site-packages/torch/nn/modules/lazy.py:180: UserWarning: Lazy modules are a new feature under heavy development so changes to the API or functionality can happen at any moment.\n",
      "  warnings.warn('Lazy modules are a new feature under heavy development '\n",
      "100%|████████████████████████████████████████████████████████| 500/500 [03:38<00:00,  2.28it/s, acc_training=0.512, acc_validation=0.512]\n",
      "\u001b[32m[I 2022-11-08 18:19:54,035]\u001b[0m Trial 3 finished with value: 0.5121212005615234 and parameters: {'wavelet': 'cgau5'}. Best is trial 1 with value: 0.842424213886261.\u001b[0m\n",
      "/Users/aureliennioche/.pyenv/versions/3.9.13/lib/python3.9/site-packages/torch/nn/modules/lazy.py:180: UserWarning: Lazy modules are a new feature under heavy development so changes to the API or functionality can happen at any moment.\n",
      "  warnings.warn('Lazy modules are a new feature under heavy development '\n",
      "100%|████████████████████████████████████████████████████████████| 500/500 [03:39<00:00,  2.28it/s, acc_training=1, acc_validation=0.748]\n",
      "\u001b[32m[I 2022-11-08 18:23:41,148]\u001b[0m Trial 4 finished with value: 0.7484848499298096 and parameters: {'wavelet': 'gaus7'}. Best is trial 1 with value: 0.842424213886261.\u001b[0m\n",
      "/Users/aureliennioche/.pyenv/versions/3.9.13/lib/python3.9/site-packages/torch/nn/modules/lazy.py:180: UserWarning: Lazy modules are a new feature under heavy development so changes to the API or functionality can happen at any moment.\n",
      "  warnings.warn('Lazy modules are a new feature under heavy development '\n",
      "100%|████████████████████████████████████████████████████████████| 500/500 [03:39<00:00,  2.28it/s, acc_training=1, acc_validation=0.818]\n",
      "\u001b[32m[I 2022-11-08 18:27:40,300]\u001b[0m Trial 5 finished with value: 0.8181818127632141 and parameters: {'wavelet': 'cgau6'}. Best is trial 1 with value: 0.842424213886261.\u001b[0m\n",
      "/Users/aureliennioche/.pyenv/versions/3.9.13/lib/python3.9/site-packages/torch/nn/modules/lazy.py:180: UserWarning: Lazy modules are a new feature under heavy development so changes to the API or functionality can happen at any moment.\n",
      "  warnings.warn('Lazy modules are a new feature under heavy development '\n",
      "100%|████████████████████████████████████████████████████████████| 500/500 [03:31<00:00,  2.36it/s, acc_training=1, acc_validation=0.827]\n",
      "\u001b[32m[I 2022-11-08 18:31:19,792]\u001b[0m Trial 6 finished with value: 0.8272727131843567 and parameters: {'wavelet': 'gaus6'}. Best is trial 1 with value: 0.842424213886261.\u001b[0m\n",
      "/Users/aureliennioche/.pyenv/versions/3.9.13/lib/python3.9/site-packages/torch/nn/modules/lazy.py:180: UserWarning: Lazy modules are a new feature under heavy development so changes to the API or functionality can happen at any moment.\n",
      "  warnings.warn('Lazy modules are a new feature under heavy development '\n",
      "100%|████████████████████████████████████████████████████████████| 500/500 [02:56<00:00,  2.83it/s, acc_training=1, acc_validation=0.785]\n",
      "\u001b[32m[I 2022-11-08 18:34:33,464]\u001b[0m Trial 7 finished with value: 0.7848485112190247 and parameters: {'wavelet': 'cgau7'}. Best is trial 1 with value: 0.842424213886261.\u001b[0m\n",
      "/Users/aureliennioche/.pyenv/versions/3.9.13/lib/python3.9/site-packages/torch/nn/modules/lazy.py:180: UserWarning: Lazy modules are a new feature under heavy development so changes to the API or functionality can happen at any moment.\n",
      "  warnings.warn('Lazy modules are a new feature under heavy development '\n",
      "100%|████████████████████████████████████████████████████████████| 500/500 [03:10<00:00,  2.62it/s, acc_training=1, acc_validation=0.809]\n",
      "\u001b[32m[I 2022-11-08 18:37:50,794]\u001b[0m Trial 8 finished with value: 0.8090909123420715 and parameters: {'wavelet': 'gaus8'}. Best is trial 1 with value: 0.842424213886261.\u001b[0m\n",
      "/Users/aureliennioche/.pyenv/versions/3.9.13/lib/python3.9/site-packages/torch/nn/modules/lazy.py:180: UserWarning: Lazy modules are a new feature under heavy development so changes to the API or functionality can happen at any moment.\n",
      "  warnings.warn('Lazy modules are a new feature under heavy development '\n",
      "100%|████████████████████████████████████████████████████████████| 500/500 [03:27<00:00,  2.41it/s, acc_training=1, acc_validation=0.752]\n",
      "\u001b[32m[I 2022-11-08 18:41:26,022]\u001b[0m Trial 9 finished with value: 0.7515151500701904 and parameters: {'wavelet': 'gaus2'}. Best is trial 1 with value: 0.842424213886261.\u001b[0m\n",
      "/Users/aureliennioche/.pyenv/versions/3.9.13/lib/python3.9/site-packages/pywt/_cwt.py:117: FutureWarning: Wavelets from the family cmor, without parameters specified in the name are deprecated. The name should takethe form cmorB-C where B and C are floats representing the bandwidth frequency and center frequency, respectively (example: cmor1.5-1.0).\n",
      "  wavelet = DiscreteContinuousWavelet(wavelet)\n",
      "/Users/aureliennioche/.pyenv/versions/3.9.13/lib/python3.9/site-packages/torch/nn/modules/lazy.py:180: UserWarning: Lazy modules are a new feature under heavy development so changes to the API or functionality can happen at any moment.\n",
      "  warnings.warn('Lazy modules are a new feature under heavy development '\n",
      " 13%|███████▏                                                 | 63/500 [00:22<02:33,  2.84it/s, acc_training=0.758, acc_validation=0.709]"
     ]
    }
   ],
   "source": [
    "def objective(trial):\n",
    "    wavelet = trial.suggest_categorical('wavelet', wavelet_list)\n",
    "    \n",
    "    data_file = \"../../data/william/dataset2/preprocessed_data__no_decimate.csv\"\n",
    "\n",
    "    metrics = train(\n",
    "        wavelet=wavelet,\n",
    "        data_file=data_file,\n",
    "        fig_folder=None,\n",
    "        seed=np.random.randint(2**32 - 1), \n",
    "        n_epochs=500,\n",
    "        learning_rate=0.005,\n",
    "        scales=np.geomspace(10, 520, num=20, dtype=int),\n",
    "        dt=1,\n",
    "        decimate=5,\n",
    "        select_every=5,\n",
    "        verbose=False)\n",
    "    \n",
    "    return metrics[\"accuracy_validation\"]\n",
    "\n",
    "study = optuna.create_study(direction='maximize')\n",
    "study.optimize(objective, n_trials=100)\n",
    "\n",
    "study.best_params "
   ]
  },
  {
   "cell_type": "code",
   "execution_count": null,
   "id": "48900832",
   "metadata": {},
   "outputs": [],
   "source": []
  }
 ],
 "metadata": {
  "kernelspec": {
   "display_name": "Python 3 (ipykernel)",
   "language": "python",
   "name": "python3"
  },
  "language_info": {
   "codemirror_mode": {
    "name": "ipython",
    "version": 3
   },
   "file_extension": ".py",
   "mimetype": "text/x-python",
   "name": "python",
   "nbconvert_exporter": "python",
   "pygments_lexer": "ipython3",
   "version": "3.9.13"
  },
  "toc": {
   "base_numbering": 1,
   "nav_menu": {},
   "number_sections": true,
   "sideBar": true,
   "skip_h1_title": false,
   "title_cell": "Table of Contents",
   "title_sidebar": "Contents",
   "toc_cell": false,
   "toc_position": {},
   "toc_section_display": true,
   "toc_window_display": false
  }
 },
 "nbformat": 4,
 "nbformat_minor": 5
}
