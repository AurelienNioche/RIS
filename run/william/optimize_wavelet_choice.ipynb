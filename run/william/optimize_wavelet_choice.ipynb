{
 "cells": [
  {
   "cell_type": "code",
   "execution_count": 1,
   "id": "5204dc05",
   "metadata": {},
   "outputs": [],
   "source": [
    "import optuna\n",
    "import pywt\n",
    "import numpy as np\n",
    "\n",
    "from main__wavelet_cnn import train"
   ]
  },
  {
   "cell_type": "code",
   "execution_count": 3,
   "id": "276b2cf2",
   "metadata": {},
   "outputs": [],
   "source": [
    "wavelet_list = pywt.wavelist(kind='continuous')"
   ]
  },
  {
   "cell_type": "code",
   "execution_count": 5,
   "id": "9ab5037b",
   "metadata": {},
   "outputs": [
    {
     "name": "stderr",
     "output_type": "stream",
     "text": [
      "\u001b[32m[I 2022-11-08 18:04:45,070]\u001b[0m A new study created in memory with name: no-name-afbd9d24-b93a-4934-8203-800b2bf7ff91\u001b[0m\n",
      "/Users/aureliennioche/.pyenv/versions/3.9.13/lib/python3.9/site-packages/torch/nn/modules/lazy.py:180: UserWarning: Lazy modules are a new feature under heavy development so changes to the API or functionality can happen at any moment.\n",
      "  warnings.warn('Lazy modules are a new feature under heavy development '\n",
      "100%|████████████████████████████████████████████████████████████| 500/500 [02:44<00:00,  3.05it/s, acc_training=1, acc_validation=0.752]\n",
      "\u001b[32m[I 2022-11-08 18:07:45,764]\u001b[0m Trial 0 finished with value: 0.7515151500701904 and parameters: {'wavelet': 'cgau6'}. Best is trial 0 with value: 0.7515151500701904.\u001b[0m\n",
      "/Users/aureliennioche/.pyenv/versions/3.9.13/lib/python3.9/site-packages/pywt/_cwt.py:117: FutureWarning: Wavelets from the family cmor, without parameters specified in the name are deprecated. The name should takethe form cmorB-C where B and C are floats representing the bandwidth frequency and center frequency, respectively (example: cmor1.5-1.0).\n",
      "  wavelet = DiscreteContinuousWavelet(wavelet)\n",
      "/Users/aureliennioche/.pyenv/versions/3.9.13/lib/python3.9/site-packages/torch/nn/modules/lazy.py:180: UserWarning: Lazy modules are a new feature under heavy development so changes to the API or functionality can happen at any moment.\n",
      "  warnings.warn('Lazy modules are a new feature under heavy development '\n",
      "100%|████████████████████████████████████████████████████████████| 500/500 [03:40<00:00,  2.26it/s, acc_training=1, acc_validation=0.842]\n",
      "\u001b[32m[I 2022-11-08 18:11:57,001]\u001b[0m Trial 1 finished with value: 0.842424213886261 and parameters: {'wavelet': 'cmor'}. Best is trial 1 with value: 0.842424213886261.\u001b[0m\n",
      "/Users/aureliennioche/.pyenv/versions/3.9.13/lib/python3.9/site-packages/torch/nn/modules/lazy.py:180: UserWarning: Lazy modules are a new feature under heavy development so changes to the API or functionality can happen at any moment.\n",
      "  warnings.warn('Lazy modules are a new feature under heavy development '\n",
      "100%|████████████████████████████████████████████████████████████| 500/500 [03:46<00:00,  2.21it/s, acc_training=1, acc_validation=0.833]\n",
      "\u001b[32m[I 2022-11-08 18:15:55,338]\u001b[0m Trial 2 finished with value: 0.8333333134651184 and parameters: {'wavelet': 'morl'}. Best is trial 1 with value: 0.842424213886261.\u001b[0m\n",
      "/Users/aureliennioche/.pyenv/versions/3.9.13/lib/python3.9/site-packages/torch/nn/modules/lazy.py:180: UserWarning: Lazy modules are a new feature under heavy development so changes to the API or functionality can happen at any moment.\n",
      "  warnings.warn('Lazy modules are a new feature under heavy development '\n",
      "100%|████████████████████████████████████████████████████████| 500/500 [03:38<00:00,  2.28it/s, acc_training=0.512, acc_validation=0.512]\n",
      "\u001b[32m[I 2022-11-08 18:19:54,035]\u001b[0m Trial 3 finished with value: 0.5121212005615234 and parameters: {'wavelet': 'cgau5'}. Best is trial 1 with value: 0.842424213886261.\u001b[0m\n",
      "/Users/aureliennioche/.pyenv/versions/3.9.13/lib/python3.9/site-packages/torch/nn/modules/lazy.py:180: UserWarning: Lazy modules are a new feature under heavy development so changes to the API or functionality can happen at any moment.\n",
      "  warnings.warn('Lazy modules are a new feature under heavy development '\n",
      "100%|████████████████████████████████████████████████████████████| 500/500 [03:39<00:00,  2.28it/s, acc_training=1, acc_validation=0.748]\n",
      "\u001b[32m[I 2022-11-08 18:23:41,148]\u001b[0m Trial 4 finished with value: 0.7484848499298096 and parameters: {'wavelet': 'gaus7'}. Best is trial 1 with value: 0.842424213886261.\u001b[0m\n",
      "/Users/aureliennioche/.pyenv/versions/3.9.13/lib/python3.9/site-packages/torch/nn/modules/lazy.py:180: UserWarning: Lazy modules are a new feature under heavy development so changes to the API or functionality can happen at any moment.\n",
      "  warnings.warn('Lazy modules are a new feature under heavy development '\n",
      "100%|████████████████████████████████████████████████████████████| 500/500 [03:39<00:00,  2.28it/s, acc_training=1, acc_validation=0.818]\n",
      "\u001b[32m[I 2022-11-08 18:27:40,300]\u001b[0m Trial 5 finished with value: 0.8181818127632141 and parameters: {'wavelet': 'cgau6'}. Best is trial 1 with value: 0.842424213886261.\u001b[0m\n",
      "/Users/aureliennioche/.pyenv/versions/3.9.13/lib/python3.9/site-packages/torch/nn/modules/lazy.py:180: UserWarning: Lazy modules are a new feature under heavy development so changes to the API or functionality can happen at any moment.\n",
      "  warnings.warn('Lazy modules are a new feature under heavy development '\n",
      "100%|████████████████████████████████████████████████████████████| 500/500 [03:31<00:00,  2.36it/s, acc_training=1, acc_validation=0.827]\n",
      "\u001b[32m[I 2022-11-08 18:31:19,792]\u001b[0m Trial 6 finished with value: 0.8272727131843567 and parameters: {'wavelet': 'gaus6'}. Best is trial 1 with value: 0.842424213886261.\u001b[0m\n",
      "/Users/aureliennioche/.pyenv/versions/3.9.13/lib/python3.9/site-packages/torch/nn/modules/lazy.py:180: UserWarning: Lazy modules are a new feature under heavy development so changes to the API or functionality can happen at any moment.\n",
      "  warnings.warn('Lazy modules are a new feature under heavy development '\n",
      "100%|████████████████████████████████████████████████████████████| 500/500 [02:56<00:00,  2.83it/s, acc_training=1, acc_validation=0.785]\n",
      "\u001b[32m[I 2022-11-08 18:34:33,464]\u001b[0m Trial 7 finished with value: 0.7848485112190247 and parameters: {'wavelet': 'cgau7'}. Best is trial 1 with value: 0.842424213886261.\u001b[0m\n",
      "/Users/aureliennioche/.pyenv/versions/3.9.13/lib/python3.9/site-packages/torch/nn/modules/lazy.py:180: UserWarning: Lazy modules are a new feature under heavy development so changes to the API or functionality can happen at any moment.\n",
      "  warnings.warn('Lazy modules are a new feature under heavy development '\n",
      "100%|████████████████████████████████████████████████████████████| 500/500 [03:10<00:00,  2.62it/s, acc_training=1, acc_validation=0.809]\n",
      "\u001b[32m[I 2022-11-08 18:37:50,794]\u001b[0m Trial 8 finished with value: 0.8090909123420715 and parameters: {'wavelet': 'gaus8'}. Best is trial 1 with value: 0.842424213886261.\u001b[0m\n",
      "/Users/aureliennioche/.pyenv/versions/3.9.13/lib/python3.9/site-packages/torch/nn/modules/lazy.py:180: UserWarning: Lazy modules are a new feature under heavy development so changes to the API or functionality can happen at any moment.\n",
      "  warnings.warn('Lazy modules are a new feature under heavy development '\n",
      "100%|████████████████████████████████████████████████████████████| 500/500 [03:27<00:00,  2.41it/s, acc_training=1, acc_validation=0.752]\n",
      "\u001b[32m[I 2022-11-08 18:41:26,022]\u001b[0m Trial 9 finished with value: 0.7515151500701904 and parameters: {'wavelet': 'gaus2'}. Best is trial 1 with value: 0.842424213886261.\u001b[0m\n",
      "/Users/aureliennioche/.pyenv/versions/3.9.13/lib/python3.9/site-packages/pywt/_cwt.py:117: FutureWarning: Wavelets from the family cmor, without parameters specified in the name are deprecated. The name should takethe form cmorB-C where B and C are floats representing the bandwidth frequency and center frequency, respectively (example: cmor1.5-1.0).\n",
      "  wavelet = DiscreteContinuousWavelet(wavelet)\n",
      "/Users/aureliennioche/.pyenv/versions/3.9.13/lib/python3.9/site-packages/torch/nn/modules/lazy.py:180: UserWarning: Lazy modules are a new feature under heavy development so changes to the API or functionality can happen at any moment.\n",
      "  warnings.warn('Lazy modules are a new feature under heavy development '\n",
      "100%|████████████████████████████████████████████████████████| 500/500 [02:56<00:00,  2.83it/s, acc_training=0.512, acc_validation=0.512]\n",
      "\u001b[32m[I 2022-11-08 18:44:48,756]\u001b[0m Trial 10 finished with value: 0.5121212005615234 and parameters: {'wavelet': 'cmor'}. Best is trial 1 with value: 0.842424213886261.\u001b[0m\n",
      "/Users/aureliennioche/.pyenv/versions/3.9.13/lib/python3.9/site-packages/torch/nn/modules/lazy.py:180: UserWarning: Lazy modules are a new feature under heavy development so changes to the API or functionality can happen at any moment.\n",
      "  warnings.warn('Lazy modules are a new feature under heavy development '\n",
      "100%|████████████████████████████████████████████████████████| 500/500 [02:55<00:00,  2.85it/s, acc_training=0.539, acc_validation=0.515]\n",
      "\u001b[32m[I 2022-11-08 18:47:53,897]\u001b[0m Trial 11 finished with value: 0.5151515007019043 and parameters: {'wavelet': 'morl'}. Best is trial 1 with value: 0.842424213886261.\u001b[0m\n",
      "/Users/aureliennioche/.pyenv/versions/3.9.13/lib/python3.9/site-packages/pywt/_cwt.py:117: FutureWarning: Wavelets from the family cmor, without parameters specified in the name are deprecated. The name should takethe form cmorB-C where B and C are floats representing the bandwidth frequency and center frequency, respectively (example: cmor1.5-1.0).\n",
      "  wavelet = DiscreteContinuousWavelet(wavelet)\n",
      "/Users/aureliennioche/.pyenv/versions/3.9.13/lib/python3.9/site-packages/torch/nn/modules/lazy.py:180: UserWarning: Lazy modules are a new feature under heavy development so changes to the API or functionality can happen at any moment.\n",
      "  warnings.warn('Lazy modules are a new feature under heavy development '\n",
      "100%|█████████████████████████████████████████████████████████| 500/500 [02:53<00:00,  2.88it/s, acc_training=0.63, acc_validation=0.573]\n",
      "\u001b[32m[I 2022-11-08 18:51:13,429]\u001b[0m Trial 12 finished with value: 0.5727272629737854 and parameters: {'wavelet': 'cmor'}. Best is trial 1 with value: 0.842424213886261.\u001b[0m\n",
      "/Users/aureliennioche/.pyenv/versions/3.9.13/lib/python3.9/site-packages/torch/nn/modules/lazy.py:180: UserWarning: Lazy modules are a new feature under heavy development so changes to the API or functionality can happen at any moment.\n",
      "  warnings.warn('Lazy modules are a new feature under heavy development '\n",
      "100%|████████████████████████████████████████████████████████████| 500/500 [02:56<00:00,  2.83it/s, acc_training=1, acc_validation=0.836]\n",
      "\u001b[32m[I 2022-11-08 18:54:26,351]\u001b[0m Trial 13 finished with value: 0.8363636136054993 and parameters: {'wavelet': 'cgau4'}. Best is trial 1 with value: 0.842424213886261.\u001b[0m\n",
      "/Users/aureliennioche/.pyenv/versions/3.9.13/lib/python3.9/site-packages/torch/nn/modules/lazy.py:180: UserWarning: Lazy modules are a new feature under heavy development so changes to the API or functionality can happen at any moment.\n",
      "  warnings.warn('Lazy modules are a new feature under heavy development '\n",
      "100%|████████████████████████████████████████████████████████████| 500/500 [02:55<00:00,  2.85it/s, acc_training=1, acc_validation=0.818]\n",
      "\u001b[32m[I 2022-11-08 18:57:37,837]\u001b[0m Trial 14 finished with value: 0.8181818127632141 and parameters: {'wavelet': 'cgau4'}. Best is trial 1 with value: 0.842424213886261.\u001b[0m\n",
      "/Users/aureliennioche/.pyenv/versions/3.9.13/lib/python3.9/site-packages/torch/nn/modules/lazy.py:180: UserWarning: Lazy modules are a new feature under heavy development so changes to the API or functionality can happen at any moment.\n",
      "  warnings.warn('Lazy modules are a new feature under heavy development '\n",
      "100%|████████████████████████████████████████████████████████████| 500/500 [02:55<00:00,  2.86it/s, acc_training=1, acc_validation=0.788]\n",
      "\u001b[32m[I 2022-11-08 19:00:49,129]\u001b[0m Trial 15 finished with value: 0.7878788113594055 and parameters: {'wavelet': 'cgau4'}. Best is trial 1 with value: 0.842424213886261.\u001b[0m\n",
      "/Users/aureliennioche/.pyenv/versions/3.9.13/lib/python3.9/site-packages/pywt/_cwt.py:117: FutureWarning: Wavelets from the family shan, without parameters specified in the name are deprecated. The name should takethe form shanB-C where B and C are floats representing the bandwidth frequency and center frequency, respectively (example: shan1.5-1.0).\n",
      "  wavelet = DiscreteContinuousWavelet(wavelet)\n",
      "/Users/aureliennioche/.pyenv/versions/3.9.13/lib/python3.9/site-packages/torch/nn/modules/lazy.py:180: UserWarning: Lazy modules are a new feature under heavy development so changes to the API or functionality can happen at any moment.\n",
      "  warnings.warn('Lazy modules are a new feature under heavy development '\n",
      "100%|████████████████████████████████████████████████████████| 500/500 [02:55<00:00,  2.85it/s, acc_training=0.511, acc_validation=0.518]\n",
      "\u001b[32m[I 2022-11-08 19:04:47,055]\u001b[0m Trial 16 finished with value: 0.5181818008422852 and parameters: {'wavelet': 'shan'}. Best is trial 1 with value: 0.842424213886261.\u001b[0m\n",
      "/Users/aureliennioche/.pyenv/versions/3.9.13/lib/python3.9/site-packages/torch/nn/modules/lazy.py:180: UserWarning: Lazy modules are a new feature under heavy development so changes to the API or functionality can happen at any moment.\n",
      "  warnings.warn('Lazy modules are a new feature under heavy development '\n",
      "100%|████████████████████████████████████████████████████████████| 500/500 [02:52<00:00,  2.90it/s, acc_training=1, acc_validation=0.755]\n",
      "\u001b[32m[I 2022-11-08 19:07:45,614]\u001b[0m Trial 17 finished with value: 0.7545454502105713 and parameters: {'wavelet': 'gaus1'}. Best is trial 1 with value: 0.842424213886261.\u001b[0m\n",
      "/Users/aureliennioche/.pyenv/versions/3.9.13/lib/python3.9/site-packages/torch/nn/modules/lazy.py:180: UserWarning: Lazy modules are a new feature under heavy development so changes to the API or functionality can happen at any moment.\n",
      "  warnings.warn('Lazy modules are a new feature under heavy development '\n",
      "100%|████████████████████████████████████████████████████████████| 500/500 [02:55<00:00,  2.84it/s, acc_training=1, acc_validation=0.815]\n",
      "\u001b[32m[I 2022-11-08 19:10:57,802]\u001b[0m Trial 18 finished with value: 0.8151515126228333 and parameters: {'wavelet': 'cgau3'}. Best is trial 1 with value: 0.842424213886261.\u001b[0m\n",
      "/Users/aureliennioche/.pyenv/versions/3.9.13/lib/python3.9/site-packages/torch/nn/modules/lazy.py:180: UserWarning: Lazy modules are a new feature under heavy development so changes to the API or functionality can happen at any moment.\n",
      "  warnings.warn('Lazy modules are a new feature under heavy development '\n",
      "100%|██████████████████████████████████████████████████████████████| 500/500 [02:47<00:00,  2.98it/s, acc_training=1, acc_validation=0.8]\n",
      "\u001b[32m[I 2022-11-08 19:14:01,806]\u001b[0m Trial 19 finished with value: 0.800000011920929 and parameters: {'wavelet': 'cgau2'}. Best is trial 1 with value: 0.842424213886261.\u001b[0m\n",
      "/Users/aureliennioche/.pyenv/versions/3.9.13/lib/python3.9/site-packages/torch/nn/modules/lazy.py:180: UserWarning: Lazy modules are a new feature under heavy development so changes to the API or functionality can happen at any moment.\n",
      "  warnings.warn('Lazy modules are a new feature under heavy development '\n",
      "100%|████████████████████████████████████████████████████████| 500/500 [02:50<00:00,  2.93it/s, acc_training=0.519, acc_validation=0.485]\n",
      "\u001b[32m[I 2022-11-08 19:16:58,653]\u001b[0m Trial 20 finished with value: 0.4848484992980957 and parameters: {'wavelet': 'gaus4'}. Best is trial 1 with value: 0.842424213886261.\u001b[0m\n",
      "/Users/aureliennioche/.pyenv/versions/3.9.13/lib/python3.9/site-packages/torch/nn/modules/lazy.py:180: UserWarning: Lazy modules are a new feature under heavy development so changes to the API or functionality can happen at any moment.\n",
      "  warnings.warn('Lazy modules are a new feature under heavy development '\n",
      "100%|████████████████████████████████████████████████████████████| 500/500 [02:50<00:00,  2.94it/s, acc_training=1, acc_validation=0.824]\n",
      "\u001b[32m[I 2022-11-08 19:19:58,446]\u001b[0m Trial 21 finished with value: 0.8242424130439758 and parameters: {'wavelet': 'morl'}. Best is trial 1 with value: 0.842424213886261.\u001b[0m\n",
      "/Users/aureliennioche/.pyenv/versions/3.9.13/lib/python3.9/site-packages/torch/nn/modules/lazy.py:180: UserWarning: Lazy modules are a new feature under heavy development so changes to the API or functionality can happen at any moment.\n",
      "  warnings.warn('Lazy modules are a new feature under heavy development '\n",
      "100%|████████████████████████████████████████████████████████████| 500/500 [02:47<00:00,  2.98it/s, acc_training=1, acc_validation=0.809]\n",
      "\u001b[32m[I 2022-11-08 19:22:52,505]\u001b[0m Trial 22 finished with value: 0.8090909123420715 and parameters: {'wavelet': 'gaus5'}. Best is trial 1 with value: 0.842424213886261.\u001b[0m\n",
      "/Users/aureliennioche/.pyenv/versions/3.9.13/lib/python3.9/site-packages/torch/nn/modules/lazy.py:180: UserWarning: Lazy modules are a new feature under heavy development so changes to the API or functionality can happen at any moment.\n",
      "  warnings.warn('Lazy modules are a new feature under heavy development '\n"
     ]
    },
    {
     "name": "stderr",
     "output_type": "stream",
     "text": [
      "100%|████████████████████████████████████████████████████████| 500/500 [02:55<00:00,  2.85it/s, acc_training=0.995, acc_validation=0.827]\n",
      "\u001b[32m[I 2022-11-08 19:26:04,093]\u001b[0m Trial 23 finished with value: 0.8272727131843567 and parameters: {'wavelet': 'cgau1'}. Best is trial 1 with value: 0.842424213886261.\u001b[0m\n",
      "/Users/aureliennioche/.pyenv/versions/3.9.13/lib/python3.9/site-packages/torch/nn/modules/lazy.py:180: UserWarning: Lazy modules are a new feature under heavy development so changes to the API or functionality can happen at any moment.\n",
      "  warnings.warn('Lazy modules are a new feature under heavy development '\n",
      "100%|████████████████████████████████████████████████████████████| 500/500 [02:56<00:00,  2.84it/s, acc_training=1, acc_validation=0.733]\n",
      "\u001b[32m[I 2022-11-08 19:29:06,738]\u001b[0m Trial 24 finished with value: 0.7333333492279053 and parameters: {'wavelet': 'gaus3'}. Best is trial 1 with value: 0.842424213886261.\u001b[0m\n",
      "/Users/aureliennioche/.pyenv/versions/3.9.13/lib/python3.9/site-packages/torch/nn/modules/lazy.py:180: UserWarning: Lazy modules are a new feature under heavy development so changes to the API or functionality can happen at any moment.\n",
      "  warnings.warn('Lazy modules are a new feature under heavy development '\n",
      "100%|████████████████████████████████████████████████████████████| 500/500 [02:55<00:00,  2.84it/s, acc_training=1, acc_validation=0.745]\n",
      "\u001b[32m[I 2022-11-08 19:32:12,298]\u001b[0m Trial 25 finished with value: 0.7454545497894287 and parameters: {'wavelet': 'mexh'}. Best is trial 1 with value: 0.842424213886261.\u001b[0m\n",
      "/Users/aureliennioche/.pyenv/versions/3.9.13/lib/python3.9/site-packages/pywt/_cwt.py:117: FutureWarning: Wavelets of family fbsp, without parameters specified in the name are deprecated.  The name should take the form fbspM-B-C where M is the spline order and B, C are floats representing the bandwidth frequency and center frequency, respectively (example: fbsp1-1.5-1.0).\n",
      "  wavelet = DiscreteContinuousWavelet(wavelet)\n",
      "/Users/aureliennioche/.pyenv/versions/3.9.13/lib/python3.9/site-packages/torch/nn/modules/lazy.py:180: UserWarning: Lazy modules are a new feature under heavy development so changes to the API or functionality can happen at any moment.\n",
      "  warnings.warn('Lazy modules are a new feature under heavy development '\n",
      "100%|████████████████████████████████████████████████████████| 500/500 [02:55<00:00,  2.86it/s, acc_training=0.873, acc_validation=0.658]\n",
      "\u001b[32m[I 2022-11-08 19:36:10,118]\u001b[0m Trial 26 finished with value: 0.657575786113739 and parameters: {'wavelet': 'fbsp'}. Best is trial 1 with value: 0.842424213886261.\u001b[0m\n",
      "/Users/aureliennioche/.pyenv/versions/3.9.13/lib/python3.9/site-packages/torch/nn/modules/lazy.py:180: UserWarning: Lazy modules are a new feature under heavy development so changes to the API or functionality can happen at any moment.\n",
      "  warnings.warn('Lazy modules are a new feature under heavy development '\n",
      "100%|████████████████████████████████████████████████████████████| 500/500 [02:49<00:00,  2.94it/s, acc_training=1, acc_validation=0.842]\n",
      "\u001b[32m[I 2022-11-08 19:39:16,498]\u001b[0m Trial 27 finished with value: 0.842424213886261 and parameters: {'wavelet': 'cgau8'}. Best is trial 1 with value: 0.842424213886261.\u001b[0m\n",
      "/Users/aureliennioche/.pyenv/versions/3.9.13/lib/python3.9/site-packages/torch/nn/modules/lazy.py:180: UserWarning: Lazy modules are a new feature under heavy development so changes to the API or functionality can happen at any moment.\n",
      "  warnings.warn('Lazy modules are a new feature under heavy development '\n",
      "100%|████████████████████████████████████████████████████████████| 500/500 [02:55<00:00,  2.85it/s, acc_training=1, acc_validation=0.745]\n",
      "\u001b[32m[I 2022-11-08 19:42:28,392]\u001b[0m Trial 28 finished with value: 0.7454545497894287 and parameters: {'wavelet': 'cgau8'}. Best is trial 1 with value: 0.842424213886261.\u001b[0m\n",
      "/Users/aureliennioche/.pyenv/versions/3.9.13/lib/python3.9/site-packages/torch/nn/modules/lazy.py:180: UserWarning: Lazy modules are a new feature under heavy development so changes to the API or functionality can happen at any moment.\n",
      "  warnings.warn('Lazy modules are a new feature under heavy development '\n",
      "100%|████████████████████████████████████████████████████████| 500/500 [02:55<00:00,  2.85it/s, acc_training=0.997, acc_validation=0.842]\n",
      "\u001b[32m[I 2022-11-08 19:45:40,082]\u001b[0m Trial 29 finished with value: 0.842424213886261 and parameters: {'wavelet': 'cgau8'}. Best is trial 1 with value: 0.842424213886261.\u001b[0m\n",
      "/Users/aureliennioche/.pyenv/versions/3.9.13/lib/python3.9/site-packages/torch/nn/modules/lazy.py:180: UserWarning: Lazy modules are a new feature under heavy development so changes to the API or functionality can happen at any moment.\n",
      "  warnings.warn('Lazy modules are a new feature under heavy development '\n",
      "100%|████████████████████████████████████████████████████████| 500/500 [02:56<00:00,  2.84it/s, acc_training=0.514, acc_validation=0.506]\n",
      "\u001b[32m[I 2022-11-08 19:48:52,654]\u001b[0m Trial 30 finished with value: 0.5060606002807617 and parameters: {'wavelet': 'cgau8'}. Best is trial 1 with value: 0.842424213886261.\u001b[0m\n",
      "/Users/aureliennioche/.pyenv/versions/3.9.13/lib/python3.9/site-packages/torch/nn/modules/lazy.py:180: UserWarning: Lazy modules are a new feature under heavy development so changes to the API or functionality can happen at any moment.\n",
      "  warnings.warn('Lazy modules are a new feature under heavy development '\n",
      "100%|████████████████████████████████████████████████████████████| 500/500 [02:57<00:00,  2.82it/s, acc_training=1, acc_validation=0.824]\n",
      "\u001b[32m[I 2022-11-08 19:52:06,314]\u001b[0m Trial 31 finished with value: 0.8242424130439758 and parameters: {'wavelet': 'cgau8'}. Best is trial 1 with value: 0.842424213886261.\u001b[0m\n",
      "/Users/aureliennioche/.pyenv/versions/3.9.13/lib/python3.9/site-packages/torch/nn/modules/lazy.py:180: UserWarning: Lazy modules are a new feature under heavy development so changes to the API or functionality can happen at any moment.\n",
      "  warnings.warn('Lazy modules are a new feature under heavy development '\n",
      "100%|████████████████████████████████████████████████████████████| 500/500 [02:56<00:00,  2.83it/s, acc_training=1, acc_validation=0.818]\n",
      "\u001b[32m[I 2022-11-08 19:55:19,235]\u001b[0m Trial 32 finished with value: 0.8181818127632141 and parameters: {'wavelet': 'cgau8'}. Best is trial 1 with value: 0.842424213886261.\u001b[0m\n",
      "/Users/aureliennioche/.pyenv/versions/3.9.13/lib/python3.9/site-packages/pywt/_cwt.py:117: FutureWarning: Wavelets from the family cmor, without parameters specified in the name are deprecated. The name should takethe form cmorB-C where B and C are floats representing the bandwidth frequency and center frequency, respectively (example: cmor1.5-1.0).\n",
      "  wavelet = DiscreteContinuousWavelet(wavelet)\n",
      "/Users/aureliennioche/.pyenv/versions/3.9.13/lib/python3.9/site-packages/torch/nn/modules/lazy.py:180: UserWarning: Lazy modules are a new feature under heavy development so changes to the API or functionality can happen at any moment.\n",
      "  warnings.warn('Lazy modules are a new feature under heavy development '\n",
      "100%|████████████████████████████████████████████████████████████| 500/500 [02:55<00:00,  2.84it/s, acc_training=1, acc_validation=0.812]\n",
      "\u001b[32m[I 2022-11-08 19:58:40,719]\u001b[0m Trial 33 finished with value: 0.8121212124824524 and parameters: {'wavelet': 'cmor'}. Best is trial 1 with value: 0.842424213886261.\u001b[0m\n",
      "/Users/aureliennioche/.pyenv/versions/3.9.13/lib/python3.9/site-packages/torch/nn/modules/lazy.py:180: UserWarning: Lazy modules are a new feature under heavy development so changes to the API or functionality can happen at any moment.\n",
      "  warnings.warn('Lazy modules are a new feature under heavy development '\n",
      "100%|████████████████████████████████████████████████████████████| 500/500 [02:55<00:00,  2.84it/s, acc_training=1, acc_validation=0.791]\n",
      "\u001b[32m[I 2022-11-08 20:01:52,885]\u001b[0m Trial 34 finished with value: 0.7909091114997864 and parameters: {'wavelet': 'cgau5'}. Best is trial 1 with value: 0.842424213886261.\u001b[0m\n",
      "/Users/aureliennioche/.pyenv/versions/3.9.13/lib/python3.9/site-packages/torch/nn/modules/lazy.py:180: UserWarning: Lazy modules are a new feature under heavy development so changes to the API or functionality can happen at any moment.\n",
      "  warnings.warn('Lazy modules are a new feature under heavy development '\n"
     ]
    },
    {
     "name": "stderr",
     "output_type": "stream",
     "text": [
      "100%|████████████████████████████████████████████████████████| 500/500 [02:55<00:00,  2.85it/s, acc_training=0.486, acc_validation=0.494]\n",
      "\u001b[32m[I 2022-11-08 20:05:04,790]\u001b[0m Trial 35 finished with value: 0.4939393997192383 and parameters: {'wavelet': 'cgau4'}. Best is trial 1 with value: 0.842424213886261.\u001b[0m\n",
      "/Users/aureliennioche/.pyenv/versions/3.9.13/lib/python3.9/site-packages/torch/nn/modules/lazy.py:180: UserWarning: Lazy modules are a new feature under heavy development so changes to the API or functionality can happen at any moment.\n",
      "  warnings.warn('Lazy modules are a new feature under heavy development '\n",
      "100%|████████████████████████████████████████████████████████████| 500/500 [02:47<00:00,  2.98it/s, acc_training=1, acc_validation=0.764]\n",
      "\u001b[32m[I 2022-11-08 20:07:59,071]\u001b[0m Trial 36 finished with value: 0.7636363506317139 and parameters: {'wavelet': 'gaus7'}. Best is trial 1 with value: 0.842424213886261.\u001b[0m\n",
      "/Users/aureliennioche/.pyenv/versions/3.9.13/lib/python3.9/site-packages/torch/nn/modules/lazy.py:180: UserWarning: Lazy modules are a new feature under heavy development so changes to the API or functionality can happen at any moment.\n",
      "  warnings.warn('Lazy modules are a new feature under heavy development '\n",
      "100%|████████████████████████████████████████████████████████████| 500/500 [02:55<00:00,  2.85it/s, acc_training=1, acc_validation=0.788]\n",
      "\u001b[32m[I 2022-11-08 20:11:11,176]\u001b[0m Trial 37 finished with value: 0.7878788113594055 and parameters: {'wavelet': 'cgau6'}. Best is trial 1 with value: 0.842424213886261.\u001b[0m\n",
      "/Users/aureliennioche/.pyenv/versions/3.9.13/lib/python3.9/site-packages/torch/nn/modules/lazy.py:180: UserWarning: Lazy modules are a new feature under heavy development so changes to the API or functionality can happen at any moment.\n",
      "  warnings.warn('Lazy modules are a new feature under heavy development '\n",
      "100%|████████████████████████████████████████████████████████████| 500/500 [02:55<00:00,  2.85it/s, acc_training=1, acc_validation=0.864]\n",
      "\u001b[32m[I 2022-11-08 20:14:23,124]\u001b[0m Trial 38 finished with value: 0.8636363744735718 and parameters: {'wavelet': 'cgau8'}. Best is trial 38 with value: 0.8636363744735718.\u001b[0m\n",
      "/Users/aureliennioche/.pyenv/versions/3.9.13/lib/python3.9/site-packages/torch/nn/modules/lazy.py:180: UserWarning: Lazy modules are a new feature under heavy development so changes to the API or functionality can happen at any moment.\n",
      "  warnings.warn('Lazy modules are a new feature under heavy development '\n",
      "100%|████████████████████████████████████████████████████████| 500/500 [02:50<00:00,  2.93it/s, acc_training=0.688, acc_validation=0.748]\n",
      "\u001b[32m[I 2022-11-08 20:17:30,165]\u001b[0m Trial 39 finished with value: 0.7484848499298096 and parameters: {'wavelet': 'cgau8'}. Best is trial 38 with value: 0.8636363744735718.\u001b[0m\n",
      "/Users/aureliennioche/.pyenv/versions/3.9.13/lib/python3.9/site-packages/torch/nn/modules/lazy.py:180: UserWarning: Lazy modules are a new feature under heavy development so changes to the API or functionality can happen at any moment.\n",
      "  warnings.warn('Lazy modules are a new feature under heavy development '\n",
      "100%|████████████████████████████████████████████████████████████| 500/500 [02:55<00:00,  2.85it/s, acc_training=1, acc_validation=0.803]\n",
      "\u001b[32m[I 2022-11-08 20:20:42,294]\u001b[0m Trial 40 finished with value: 0.8030303120613098 and parameters: {'wavelet': 'cgau7'}. Best is trial 38 with value: 0.8636363744735718.\u001b[0m\n",
      "/Users/aureliennioche/.pyenv/versions/3.9.13/lib/python3.9/site-packages/torch/nn/modules/lazy.py:180: UserWarning: Lazy modules are a new feature under heavy development so changes to the API or functionality can happen at any moment.\n",
      "  warnings.warn('Lazy modules are a new feature under heavy development '\n",
      "100%|████████████████████████████████████████████████████████████| 500/500 [02:47<00:00,  2.98it/s, acc_training=1, acc_validation=0.779]\n",
      "\u001b[32m[I 2022-11-08 20:23:36,777]\u001b[0m Trial 41 finished with value: 0.7787878513336182 and parameters: {'wavelet': 'gaus6'}. Best is trial 38 with value: 0.8636363744735718.\u001b[0m\n",
      "/Users/aureliennioche/.pyenv/versions/3.9.13/lib/python3.9/site-packages/torch/nn/modules/lazy.py:180: UserWarning: Lazy modules are a new feature under heavy development so changes to the API or functionality can happen at any moment.\n",
      "  warnings.warn('Lazy modules are a new feature under heavy development '\n",
      "100%|████████████████████████████████████████████████████████████| 500/500 [02:55<00:00,  2.85it/s, acc_training=1, acc_validation=0.812]\n",
      "\u001b[32m[I 2022-11-08 20:26:48,814]\u001b[0m Trial 42 finished with value: 0.8121212124824524 and parameters: {'wavelet': 'cgau8'}. Best is trial 38 with value: 0.8636363744735718.\u001b[0m\n",
      "/Users/aureliennioche/.pyenv/versions/3.9.13/lib/python3.9/site-packages/torch/nn/modules/lazy.py:180: UserWarning: Lazy modules are a new feature under heavy development so changes to the API or functionality can happen at any moment.\n",
      "  warnings.warn('Lazy modules are a new feature under heavy development '\n",
      "100%|████████████████████████████████████████████████████████| 500/500 [02:48<00:00,  2.97it/s, acc_training=0.511, acc_validation=0.518]\n",
      "\u001b[32m[I 2022-11-08 20:29:43,601]\u001b[0m Trial 43 finished with value: 0.5181818008422852 and parameters: {'wavelet': 'gaus8'}. Best is trial 38 with value: 0.8636363744735718.\u001b[0m\n",
      "/Users/aureliennioche/.pyenv/versions/3.9.13/lib/python3.9/site-packages/torch/nn/modules/lazy.py:180: UserWarning: Lazy modules are a new feature under heavy development so changes to the API or functionality can happen at any moment.\n",
      "  warnings.warn('Lazy modules are a new feature under heavy development '\n",
      "100%|████████████████████████████████████████████████████████| 500/500 [02:52<00:00,  2.90it/s, acc_training=0.999, acc_validation=0.667]\n",
      "\u001b[32m[I 2022-11-08 20:32:42,491]\u001b[0m Trial 44 finished with value: 0.6666666865348816 and parameters: {'wavelet': 'gaus2'}. Best is trial 38 with value: 0.8636363744735718.\u001b[0m\n",
      "/Users/aureliennioche/.pyenv/versions/3.9.13/lib/python3.9/site-packages/pywt/_cwt.py:117: FutureWarning: Wavelets from the family cmor, without parameters specified in the name are deprecated. The name should takethe form cmorB-C where B and C are floats representing the bandwidth frequency and center frequency, respectively (example: cmor1.5-1.0).\n",
      "  wavelet = DiscreteContinuousWavelet(wavelet)\n",
      "/Users/aureliennioche/.pyenv/versions/3.9.13/lib/python3.9/site-packages/torch/nn/modules/lazy.py:180: UserWarning: Lazy modules are a new feature under heavy development so changes to the API or functionality can happen at any moment.\n",
      "  warnings.warn('Lazy modules are a new feature under heavy development '\n",
      "100%|████████████████████████████████████████████████████████████| 500/500 [02:47<00:00,  2.98it/s, acc_training=1, acc_validation=0.679]\n",
      "\u001b[32m[I 2022-11-08 20:35:56,084]\u001b[0m Trial 45 finished with value: 0.678787887096405 and parameters: {'wavelet': 'cmor'}. Best is trial 38 with value: 0.8636363744735718.\u001b[0m\n",
      "/Users/aureliennioche/.pyenv/versions/3.9.13/lib/python3.9/site-packages/torch/nn/modules/lazy.py:180: UserWarning: Lazy modules are a new feature under heavy development so changes to the API or functionality can happen at any moment.\n",
      "  warnings.warn('Lazy modules are a new feature under heavy development '\n",
      "100%|████████████████████████████████████████████████████████████| 500/500 [02:50<00:00,  2.94it/s, acc_training=1, acc_validation=0.809]\n",
      "\u001b[32m[I 2022-11-08 20:39:02,595]\u001b[0m Trial 46 finished with value: 0.8090909123420715 and parameters: {'wavelet': 'cgau8'}. Best is trial 38 with value: 0.8636363744735718.\u001b[0m\n",
      "/Users/aureliennioche/.pyenv/versions/3.9.13/lib/python3.9/site-packages/pywt/_cwt.py:117: FutureWarning: Wavelets from the family shan, without parameters specified in the name are deprecated. The name should takethe form shanB-C where B and C are floats representing the bandwidth frequency and center frequency, respectively (example: shan1.5-1.0).\n",
      "  wavelet = DiscreteContinuousWavelet(wavelet)\n",
      "/Users/aureliennioche/.pyenv/versions/3.9.13/lib/python3.9/site-packages/torch/nn/modules/lazy.py:180: UserWarning: Lazy modules are a new feature under heavy development so changes to the API or functionality can happen at any moment.\n",
      "  warnings.warn('Lazy modules are a new feature under heavy development '\n"
     ]
    },
    {
     "name": "stderr",
     "output_type": "stream",
     "text": [
      "100%|████████████████████████████████████████████████████████| 500/500 [02:58<00:00,  2.81it/s, acc_training=0.507, acc_validation=0.533]\n",
      "\u001b[32m[I 2022-11-08 20:43:03,631]\u001b[0m Trial 47 finished with value: 0.5333333611488342 and parameters: {'wavelet': 'shan'}. Best is trial 38 with value: 0.8636363744735718.\u001b[0m\n",
      "/Users/aureliennioche/.pyenv/versions/3.9.13/lib/python3.9/site-packages/torch/nn/modules/lazy.py:180: UserWarning: Lazy modules are a new feature under heavy development so changes to the API or functionality can happen at any moment.\n",
      "  warnings.warn('Lazy modules are a new feature under heavy development '\n",
      "100%|████████████████████████████████████████████████████████████| 500/500 [02:56<00:00,  2.83it/s, acc_training=1, acc_validation=0.821]\n",
      "\u001b[32m[I 2022-11-08 20:46:16,696]\u001b[0m Trial 48 finished with value: 0.821212112903595 and parameters: {'wavelet': 'cgau4'}. Best is trial 38 with value: 0.8636363744735718.\u001b[0m\n",
      "/Users/aureliennioche/.pyenv/versions/3.9.13/lib/python3.9/site-packages/torch/nn/modules/lazy.py:180: UserWarning: Lazy modules are a new feature under heavy development so changes to the API or functionality can happen at any moment.\n",
      "  warnings.warn('Lazy modules are a new feature under heavy development '\n",
      "100%|████████████████████████████████████████████████████████████| 500/500 [02:57<00:00,  2.82it/s, acc_training=1, acc_validation=0.739]\n",
      "\u001b[32m[I 2022-11-08 20:49:30,262]\u001b[0m Trial 49 finished with value: 0.739393949508667 and parameters: {'wavelet': 'cgau3'}. Best is trial 38 with value: 0.8636363744735718.\u001b[0m\n",
      "/Users/aureliennioche/.pyenv/versions/3.9.13/lib/python3.9/site-packages/torch/nn/modules/lazy.py:180: UserWarning: Lazy modules are a new feature under heavy development so changes to the API or functionality can happen at any moment.\n",
      "  warnings.warn('Lazy modules are a new feature under heavy development '\n",
      "100%|████████████████████████████████████████████████████████| 500/500 [02:49<00:00,  2.95it/s, acc_training=0.507, acc_validation=0.533]\n",
      "\u001b[32m[I 2022-11-08 20:52:26,660]\u001b[0m Trial 50 finished with value: 0.5333333611488342 and parameters: {'wavelet': 'gaus1'}. Best is trial 38 with value: 0.8636363744735718.\u001b[0m\n",
      "/Users/aureliennioche/.pyenv/versions/3.9.13/lib/python3.9/site-packages/torch/nn/modules/lazy.py:180: UserWarning: Lazy modules are a new feature under heavy development so changes to the API or functionality can happen at any moment.\n",
      "  warnings.warn('Lazy modules are a new feature under heavy development '\n",
      "100%|████████████████████████████████████████████████████████████| 500/500 [02:51<00:00,  2.92it/s, acc_training=1, acc_validation=0.736]\n",
      "\u001b[32m[I 2022-11-08 20:55:34,599]\u001b[0m Trial 51 finished with value: 0.7363636493682861 and parameters: {'wavelet': 'cgau1'}. Best is trial 38 with value: 0.8636363744735718.\u001b[0m\n",
      "/Users/aureliennioche/.pyenv/versions/3.9.13/lib/python3.9/site-packages/torch/nn/modules/lazy.py:180: UserWarning: Lazy modules are a new feature under heavy development so changes to the API or functionality can happen at any moment.\n",
      "  warnings.warn('Lazy modules are a new feature under heavy development '\n",
      "100%|████████████████████████████████████████████████████████████| 500/500 [02:49<00:00,  2.95it/s, acc_training=1, acc_validation=0.845]\n",
      "\u001b[32m[I 2022-11-08 20:58:34,094]\u001b[0m Trial 52 finished with value: 0.8454545736312866 and parameters: {'wavelet': 'morl'}. Best is trial 38 with value: 0.8636363744735718.\u001b[0m\n",
      "/Users/aureliennioche/.pyenv/versions/3.9.13/lib/python3.9/site-packages/torch/nn/modules/lazy.py:180: UserWarning: Lazy modules are a new feature under heavy development so changes to the API or functionality can happen at any moment.\n",
      "  warnings.warn('Lazy modules are a new feature under heavy development '\n",
      "100%|████████████████████████████████████████████████████████| 500/500 [02:49<00:00,  2.95it/s, acc_training=0.516, acc_validation=0.497]\n",
      "\u001b[32m[I 2022-11-08 21:01:40,083]\u001b[0m Trial 53 finished with value: 0.49696969985961914 and parameters: {'wavelet': 'cgau2'}. Best is trial 38 with value: 0.8636363744735718.\u001b[0m\n",
      "/Users/aureliennioche/.pyenv/versions/3.9.13/lib/python3.9/site-packages/torch/nn/modules/lazy.py:180: UserWarning: Lazy modules are a new feature under heavy development so changes to the API or functionality can happen at any moment.\n",
      "  warnings.warn('Lazy modules are a new feature under heavy development '\n",
      "100%|████████████████████████████████████████████████████████| 500/500 [02:48<00:00,  2.96it/s, acc_training=0.505, acc_validation=0.539]\n",
      "\u001b[32m[I 2022-11-08 21:04:38,796]\u001b[0m Trial 54 finished with value: 0.539393961429596 and parameters: {'wavelet': 'morl'}. Best is trial 38 with value: 0.8636363744735718.\u001b[0m\n",
      "/Users/aureliennioche/.pyenv/versions/3.9.13/lib/python3.9/site-packages/torch/nn/modules/lazy.py:180: UserWarning: Lazy modules are a new feature under heavy development so changes to the API or functionality can happen at any moment.\n",
      "  warnings.warn('Lazy modules are a new feature under heavy development '\n",
      "100%|████████████████████████████████████████████████████████████| 500/500 [02:55<00:00,  2.85it/s, acc_training=1, acc_validation=0.836]\n",
      "\u001b[32m[I 2022-11-08 21:07:40,570]\u001b[0m Trial 55 finished with value: 0.8363636136054993 and parameters: {'wavelet': 'gaus5'}. Best is trial 38 with value: 0.8636363744735718.\u001b[0m\n",
      "/Users/aureliennioche/.pyenv/versions/3.9.13/lib/python3.9/site-packages/torch/nn/modules/lazy.py:180: UserWarning: Lazy modules are a new feature under heavy development so changes to the API or functionality can happen at any moment.\n",
      "  warnings.warn('Lazy modules are a new feature under heavy development '\n",
      "100%|██████████████████████████████████████████████████████████████| 500/500 [03:25<00:00,  2.43it/s, acc_training=1, acc_validation=0.8]\n",
      "\u001b[32m[I 2022-11-08 21:11:12,681]\u001b[0m Trial 56 finished with value: 0.800000011920929 and parameters: {'wavelet': 'gaus4'}. Best is trial 38 with value: 0.8636363744735718.\u001b[0m\n",
      "/Users/aureliennioche/.pyenv/versions/3.9.13/lib/python3.9/site-packages/torch/nn/modules/lazy.py:180: UserWarning: Lazy modules are a new feature under heavy development so changes to the API or functionality can happen at any moment.\n",
      "  warnings.warn('Lazy modules are a new feature under heavy development '\n",
      "100%|████████████████████████████████████████████████████████████| 500/500 [03:37<00:00,  2.29it/s, acc_training=1, acc_validation=0.842]\n",
      "\u001b[32m[I 2022-11-08 21:14:58,331]\u001b[0m Trial 57 finished with value: 0.842424213886261 and parameters: {'wavelet': 'gaus5'}. Best is trial 38 with value: 0.8636363744735718.\u001b[0m\n",
      "/Users/aureliennioche/.pyenv/versions/3.9.13/lib/python3.9/site-packages/torch/nn/modules/lazy.py:180: UserWarning: Lazy modules are a new feature under heavy development so changes to the API or functionality can happen at any moment.\n",
      "  warnings.warn('Lazy modules are a new feature under heavy development '\n",
      "100%|█████████████████████████████████████████████████████████| 500/500 [03:38<00:00,  2.29it/s, acc_training=0.51, acc_validation=0.521]\n",
      "\u001b[32m[I 2022-11-08 21:18:44,440]\u001b[0m Trial 58 finished with value: 0.521212100982666 and parameters: {'wavelet': 'gaus5'}. Best is trial 38 with value: 0.8636363744735718.\u001b[0m\n",
      "/Users/aureliennioche/.pyenv/versions/3.9.13/lib/python3.9/site-packages/torch/nn/modules/lazy.py:180: UserWarning: Lazy modules are a new feature under heavy development so changes to the API or functionality can happen at any moment.\n",
      "  warnings.warn('Lazy modules are a new feature under heavy development '\n",
      "100%|████████████████████████████████████████████████████████████| 500/500 [03:38<00:00,  2.29it/s, acc_training=1, acc_validation=0.873]\n",
      "\u001b[32m[I 2022-11-08 21:22:34,935]\u001b[0m Trial 59 finished with value: 0.8727272748947144 and parameters: {'wavelet': 'morl'}. Best is trial 59 with value: 0.8727272748947144.\u001b[0m\n",
      "/Users/aureliennioche/.pyenv/versions/3.9.13/lib/python3.9/site-packages/torch/nn/modules/lazy.py:180: UserWarning: Lazy modules are a new feature under heavy development so changes to the API or functionality can happen at any moment.\n",
      "  warnings.warn('Lazy modules are a new feature under heavy development '\n",
      "100%|████████████████████████████████████████████████████████████| 500/500 [03:38<00:00,  2.29it/s, acc_training=1, acc_validation=0.752]\n",
      "\u001b[32m[I 2022-11-08 21:26:24,948]\u001b[0m Trial 60 finished with value: 0.7515151500701904 and parameters: {'wavelet': 'morl'}. Best is trial 59 with value: 0.8727272748947144.\u001b[0m\n",
      "/Users/aureliennioche/.pyenv/versions/3.9.13/lib/python3.9/site-packages/torch/nn/modules/lazy.py:180: UserWarning: Lazy modules are a new feature under heavy development so changes to the API or functionality can happen at any moment.\n",
      "  warnings.warn('Lazy modules are a new feature under heavy development '\n",
      "100%|█████████████████████████████████████████████████████████████| 500/500 [03:38<00:00,  2.29it/s, acc_training=1, acc_validation=0.83]\n",
      "\u001b[32m[I 2022-11-08 21:30:15,011]\u001b[0m Trial 61 finished with value: 0.8303030133247375 and parameters: {'wavelet': 'morl'}. Best is trial 59 with value: 0.8727272748947144.\u001b[0m\n",
      "/Users/aureliennioche/.pyenv/versions/3.9.13/lib/python3.9/site-packages/torch/nn/modules/lazy.py:180: UserWarning: Lazy modules are a new feature under heavy development so changes to the API or functionality can happen at any moment.\n",
      "  warnings.warn('Lazy modules are a new feature under heavy development '\n",
      "100%|████████████████████████████████████████████████████████████| 500/500 [03:15<00:00,  2.55it/s, acc_training=1, acc_validation=0.812]\n",
      "\u001b[32m[I 2022-11-08 21:33:38,419]\u001b[0m Trial 62 finished with value: 0.8121212124824524 and parameters: {'wavelet': 'gaus3'}. Best is trial 59 with value: 0.8727272748947144.\u001b[0m\n",
      "/Users/aureliennioche/.pyenv/versions/3.9.13/lib/python3.9/site-packages/torch/nn/modules/lazy.py:180: UserWarning: Lazy modules are a new feature under heavy development so changes to the API or functionality can happen at any moment.\n",
      "  warnings.warn('Lazy modules are a new feature under heavy development '\n",
      "100%|████████████████████████████████████████████████████████| 500/500 [02:55<00:00,  2.85it/s, acc_training=0.516, acc_validation=0.497]\n",
      "\u001b[32m[I 2022-11-08 21:36:43,924]\u001b[0m Trial 63 finished with value: 0.49696969985961914 and parameters: {'wavelet': 'morl'}. Best is trial 59 with value: 0.8727272748947144.\u001b[0m\n",
      "/Users/aureliennioche/.pyenv/versions/3.9.13/lib/python3.9/site-packages/pywt/_cwt.py:117: FutureWarning: Wavelets of family fbsp, without parameters specified in the name are deprecated.  The name should take the form fbspM-B-C where M is the spline order and B, C are floats representing the bandwidth frequency and center frequency, respectively (example: fbsp1-1.5-1.0).\n",
      "  wavelet = DiscreteContinuousWavelet(wavelet)\n",
      "/Users/aureliennioche/.pyenv/versions/3.9.13/lib/python3.9/site-packages/torch/nn/modules/lazy.py:180: UserWarning: Lazy modules are a new feature under heavy development so changes to the API or functionality can happen at any moment.\n",
      "  warnings.warn('Lazy modules are a new feature under heavy development '\n",
      "100%|████████████████████████████████████████████████████████| 500/500 [02:55<00:00,  2.84it/s, acc_training=0.999, acc_validation=0.758]\n",
      "\u001b[32m[I 2022-11-08 21:40:42,456]\u001b[0m Trial 64 finished with value: 0.7575757503509521 and parameters: {'wavelet': 'fbsp'}. Best is trial 59 with value: 0.8727272748947144.\u001b[0m\n",
      "/Users/aureliennioche/.pyenv/versions/3.9.13/lib/python3.9/site-packages/torch/nn/modules/lazy.py:180: UserWarning: Lazy modules are a new feature under heavy development so changes to the API or functionality can happen at any moment.\n",
      "  warnings.warn('Lazy modules are a new feature under heavy development '\n",
      "100%|████████████████████████████████████████████████████████████| 500/500 [02:49<00:00,  2.95it/s, acc_training=1, acc_validation=0.709]\n",
      "\u001b[32m[I 2022-11-08 21:43:41,695]\u001b[0m Trial 65 finished with value: 0.7090908885002136 and parameters: {'wavelet': 'mexh'}. Best is trial 59 with value: 0.8727272748947144.\u001b[0m\n",
      "/Users/aureliennioche/.pyenv/versions/3.9.13/lib/python3.9/site-packages/pywt/_cwt.py:117: FutureWarning: Wavelets from the family cmor, without parameters specified in the name are deprecated. The name should takethe form cmorB-C where B and C are floats representing the bandwidth frequency and center frequency, respectively (example: cmor1.5-1.0).\n",
      "  wavelet = DiscreteContinuousWavelet(wavelet)\n",
      "/Users/aureliennioche/.pyenv/versions/3.9.13/lib/python3.9/site-packages/torch/nn/modules/lazy.py:180: UserWarning: Lazy modules are a new feature under heavy development so changes to the API or functionality can happen at any moment.\n",
      "  warnings.warn('Lazy modules are a new feature under heavy development '\n",
      "100%|█████████████████████████████████████████████████████████████| 500/500 [02:56<00:00,  2.84it/s, acc_training=1, acc_validation=0.87]\n",
      "\u001b[32m[I 2022-11-08 21:47:03,622]\u001b[0m Trial 66 finished with value: 0.8696969747543335 and parameters: {'wavelet': 'cmor'}. Best is trial 59 with value: 0.8727272748947144.\u001b[0m\n",
      "/Users/aureliennioche/.pyenv/versions/3.9.13/lib/python3.9/site-packages/torch/nn/modules/lazy.py:180: UserWarning: Lazy modules are a new feature under heavy development so changes to the API or functionality can happen at any moment.\n",
      "  warnings.warn('Lazy modules are a new feature under heavy development '\n",
      "100%|████████████████████████████████████████████████████████| 500/500 [02:55<00:00,  2.84it/s, acc_training=0.511, acc_validation=0.515]\n",
      "\u001b[32m[I 2022-11-08 21:50:15,800]\u001b[0m Trial 67 finished with value: 0.5151515007019043 and parameters: {'wavelet': 'cgau5'}. Best is trial 59 with value: 0.8727272748947144.\u001b[0m\n",
      "/Users/aureliennioche/.pyenv/versions/3.9.13/lib/python3.9/site-packages/pywt/_cwt.py:117: FutureWarning: Wavelets from the family cmor, without parameters specified in the name are deprecated. The name should takethe form cmorB-C where B and C are floats representing the bandwidth frequency and center frequency, respectively (example: cmor1.5-1.0).\n",
      "  wavelet = DiscreteContinuousWavelet(wavelet)\n",
      "/Users/aureliennioche/.pyenv/versions/3.9.13/lib/python3.9/site-packages/torch/nn/modules/lazy.py:180: UserWarning: Lazy modules are a new feature under heavy development so changes to the API or functionality can happen at any moment.\n",
      "  warnings.warn('Lazy modules are a new feature under heavy development '\n",
      "100%|████████████████████████████████████████████████████████████| 500/500 [02:56<00:00,  2.84it/s, acc_training=1, acc_validation=0.797]\n",
      "\u001b[32m[I 2022-11-08 21:53:37,598]\u001b[0m Trial 68 finished with value: 0.7969697117805481 and parameters: {'wavelet': 'cmor'}. Best is trial 59 with value: 0.8727272748947144.\u001b[0m\n",
      "/Users/aureliennioche/.pyenv/versions/3.9.13/lib/python3.9/site-packages/torch/nn/modules/lazy.py:180: UserWarning: Lazy modules are a new feature under heavy development so changes to the API or functionality can happen at any moment.\n",
      "  warnings.warn('Lazy modules are a new feature under heavy development '\n",
      "100%|████████████████████████████████████████████████████████████| 500/500 [02:48<00:00,  2.97it/s, acc_training=1, acc_validation=0.821]\n",
      "\u001b[32m[I 2022-11-08 21:56:32,424]\u001b[0m Trial 69 finished with value: 0.821212112903595 and parameters: {'wavelet': 'gaus7'}. Best is trial 59 with value: 0.8727272748947144.\u001b[0m\n",
      "/Users/aureliennioche/.pyenv/versions/3.9.13/lib/python3.9/site-packages/torch/nn/modules/lazy.py:180: UserWarning: Lazy modules are a new feature under heavy development so changes to the API or functionality can happen at any moment.\n",
      "  warnings.warn('Lazy modules are a new feature under heavy development '\n",
      "100%|████████████████████████████████████████████████████████████| 500/500 [02:58<00:00,  2.81it/s, acc_training=1, acc_validation=0.818]\n",
      "\u001b[32m[I 2022-11-08 21:59:46,939]\u001b[0m Trial 70 finished with value: 0.8181818127632141 and parameters: {'wavelet': 'cgau8'}. Best is trial 59 with value: 0.8727272748947144.\u001b[0m\n",
      "/Users/aureliennioche/.pyenv/versions/3.9.13/lib/python3.9/site-packages/pywt/_cwt.py:117: FutureWarning: Wavelets from the family cmor, without parameters specified in the name are deprecated. The name should takethe form cmorB-C where B and C are floats representing the bandwidth frequency and center frequency, respectively (example: cmor1.5-1.0).\n",
      "  wavelet = DiscreteContinuousWavelet(wavelet)\n",
      "/Users/aureliennioche/.pyenv/versions/3.9.13/lib/python3.9/site-packages/torch/nn/modules/lazy.py:180: UserWarning: Lazy modules are a new feature under heavy development so changes to the API or functionality can happen at any moment.\n",
      "  warnings.warn('Lazy modules are a new feature under heavy development '\n"
     ]
    },
    {
     "name": "stderr",
     "output_type": "stream",
     "text": [
      "100%|████████████████████████████████████████████████████████████| 500/500 [02:55<00:00,  2.84it/s, acc_training=1, acc_validation=0.779]\n",
      "\u001b[32m[I 2022-11-08 22:03:08,633]\u001b[0m Trial 71 finished with value: 0.7787878513336182 and parameters: {'wavelet': 'cmor'}. Best is trial 59 with value: 0.8727272748947144.\u001b[0m\n",
      "/Users/aureliennioche/.pyenv/versions/3.9.13/lib/python3.9/site-packages/torch/nn/modules/lazy.py:180: UserWarning: Lazy modules are a new feature under heavy development so changes to the API or functionality can happen at any moment.\n",
      "  warnings.warn('Lazy modules are a new feature under heavy development '\n",
      "100%|████████████████████████████████████████████████████████████| 500/500 [02:57<00:00,  2.82it/s, acc_training=1, acc_validation=0.824]\n",
      "\u001b[32m[I 2022-11-08 22:06:12,723]\u001b[0m Trial 72 finished with value: 0.8242424130439758 and parameters: {'wavelet': 'gaus5'}. Best is trial 59 with value: 0.8727272748947144.\u001b[0m\n",
      "/Users/aureliennioche/.pyenv/versions/3.9.13/lib/python3.9/site-packages/pywt/_cwt.py:117: FutureWarning: Wavelets from the family cmor, without parameters specified in the name are deprecated. The name should takethe form cmorB-C where B and C are floats representing the bandwidth frequency and center frequency, respectively (example: cmor1.5-1.0).\n",
      "  wavelet = DiscreteContinuousWavelet(wavelet)\n",
      "/Users/aureliennioche/.pyenv/versions/3.9.13/lib/python3.9/site-packages/torch/nn/modules/lazy.py:180: UserWarning: Lazy modules are a new feature under heavy development so changes to the API or functionality can happen at any moment.\n",
      "  warnings.warn('Lazy modules are a new feature under heavy development '\n",
      "100%|████████████████████████████████████████████████████████████| 500/500 [02:56<00:00,  2.84it/s, acc_training=1, acc_validation=0.833]\n",
      "\u001b[32m[I 2022-11-08 22:09:34,543]\u001b[0m Trial 73 finished with value: 0.8333333134651184 and parameters: {'wavelet': 'cmor'}. Best is trial 59 with value: 0.8727272748947144.\u001b[0m\n",
      "/Users/aureliennioche/.pyenv/versions/3.9.13/lib/python3.9/site-packages/torch/nn/modules/lazy.py:180: UserWarning: Lazy modules are a new feature under heavy development so changes to the API or functionality can happen at any moment.\n",
      "  warnings.warn('Lazy modules are a new feature under heavy development '\n",
      "100%|████████████████████████████████████████████████████████████| 500/500 [02:56<00:00,  2.84it/s, acc_training=1, acc_validation=0.824]\n",
      "\u001b[32m[I 2022-11-08 22:12:47,120]\u001b[0m Trial 74 finished with value: 0.8242424130439758 and parameters: {'wavelet': 'cgau6'}. Best is trial 59 with value: 0.8727272748947144.\u001b[0m\n",
      "/Users/aureliennioche/.pyenv/versions/3.9.13/lib/python3.9/site-packages/torch/nn/modules/lazy.py:180: UserWarning: Lazy modules are a new feature under heavy development so changes to the API or functionality can happen at any moment.\n",
      "  warnings.warn('Lazy modules are a new feature under heavy development '\n",
      "100%|████████████████████████████████████████████████████████████| 500/500 [02:48<00:00,  2.98it/s, acc_training=1, acc_validation=0.839]\n",
      "\u001b[32m[I 2022-11-08 22:15:51,617]\u001b[0m Trial 75 finished with value: 0.8393939137458801 and parameters: {'wavelet': 'cgau7'}. Best is trial 59 with value: 0.8727272748947144.\u001b[0m\n",
      "/Users/aureliennioche/.pyenv/versions/3.9.13/lib/python3.9/site-packages/torch/nn/modules/lazy.py:180: UserWarning: Lazy modules are a new feature under heavy development so changes to the API or functionality can happen at any moment.\n",
      "  warnings.warn('Lazy modules are a new feature under heavy development '\n",
      "100%|████████████████████████████████████████████████████████████| 500/500 [02:48<00:00,  2.97it/s, acc_training=1, acc_validation=0.806]\n",
      "\u001b[32m[I 2022-11-08 22:18:46,397]\u001b[0m Trial 76 finished with value: 0.8060606122016907 and parameters: {'wavelet': 'gaus6'}. Best is trial 59 with value: 0.8727272748947144.\u001b[0m\n",
      "/Users/aureliennioche/.pyenv/versions/3.9.13/lib/python3.9/site-packages/torch/nn/modules/lazy.py:180: UserWarning: Lazy modules are a new feature under heavy development so changes to the API or functionality can happen at any moment.\n",
      "  warnings.warn('Lazy modules are a new feature under heavy development '\n",
      "100%|████████████████████████████████████████████████████████| 500/500 [02:56<00:00,  2.83it/s, acc_training=0.983, acc_validation=0.821]\n",
      "\u001b[32m[I 2022-11-08 22:21:59,491]\u001b[0m Trial 77 finished with value: 0.821212112903595 and parameters: {'wavelet': 'cgau8'}. Best is trial 59 with value: 0.8727272748947144.\u001b[0m\n",
      "/Users/aureliennioche/.pyenv/versions/3.9.13/lib/python3.9/site-packages/torch/nn/modules/lazy.py:180: UserWarning: Lazy modules are a new feature under heavy development so changes to the API or functionality can happen at any moment.\n",
      "  warnings.warn('Lazy modules are a new feature under heavy development '\n",
      "100%|████████████████████████████████████████████████████████████| 500/500 [02:48<00:00,  2.97it/s, acc_training=1, acc_validation=0.724]\n",
      "\u001b[32m[I 2022-11-08 22:24:54,308]\u001b[0m Trial 78 finished with value: 0.7242424488067627 and parameters: {'wavelet': 'gaus8'}. Best is trial 59 with value: 0.8727272748947144.\u001b[0m\n",
      "/Users/aureliennioche/.pyenv/versions/3.9.13/lib/python3.9/site-packages/torch/nn/modules/lazy.py:180: UserWarning: Lazy modules are a new feature under heavy development so changes to the API or functionality can happen at any moment.\n",
      "  warnings.warn('Lazy modules are a new feature under heavy development '\n",
      "100%|█████████████████████████████████████████████████████████████| 500/500 [02:56<00:00,  2.83it/s, acc_training=1, acc_validation=0.77]\n",
      "\u001b[32m[I 2022-11-08 22:28:00,585]\u001b[0m Trial 79 finished with value: 0.7696969509124756 and parameters: {'wavelet': 'morl'}. Best is trial 59 with value: 0.8727272748947144.\u001b[0m\n",
      "/Users/aureliennioche/.pyenv/versions/3.9.13/lib/python3.9/site-packages/torch/nn/modules/lazy.py:180: UserWarning: Lazy modules are a new feature under heavy development so changes to the API or functionality can happen at any moment.\n",
      "  warnings.warn('Lazy modules are a new feature under heavy development '\n",
      "100%|████████████████████████████████████████████████████████████| 500/500 [02:48<00:00,  2.97it/s, acc_training=1, acc_validation=0.812]\n",
      "\u001b[32m[I 2022-11-08 22:30:55,292]\u001b[0m Trial 80 finished with value: 0.8121212124824524 and parameters: {'wavelet': 'gaus2'}. Best is trial 59 with value: 0.8727272748947144.\u001b[0m\n",
      "/Users/aureliennioche/.pyenv/versions/3.9.13/lib/python3.9/site-packages/torch/nn/modules/lazy.py:180: UserWarning: Lazy modules are a new feature under heavy development so changes to the API or functionality can happen at any moment.\n",
      "  warnings.warn('Lazy modules are a new feature under heavy development '\n",
      "100%|██████████████████████████████████████████████████████████| 500/500 [02:48<00:00,  2.97it/s, acc_training=0.5, acc_validation=0.439]\n",
      "\u001b[32m[I 2022-11-08 22:33:59,814]\u001b[0m Trial 81 finished with value: 0.43939393758773804 and parameters: {'wavelet': 'cgau7'}. Best is trial 59 with value: 0.8727272748947144.\u001b[0m\n",
      "/Users/aureliennioche/.pyenv/versions/3.9.13/lib/python3.9/site-packages/torch/nn/modules/lazy.py:180: UserWarning: Lazy modules are a new feature under heavy development so changes to the API or functionality can happen at any moment.\n",
      "  warnings.warn('Lazy modules are a new feature under heavy development '\n",
      "100%|████████████████████████████████████████████████████████████| 500/500 [02:56<00:00,  2.84it/s, acc_training=1, acc_validation=0.858]\n",
      "\u001b[32m[I 2022-11-08 22:37:12,304]\u001b[0m Trial 82 finished with value: 0.8575757741928101 and parameters: {'wavelet': 'cgau8'}. Best is trial 59 with value: 0.8727272748947144.\u001b[0m\n",
      "/Users/aureliennioche/.pyenv/versions/3.9.13/lib/python3.9/site-packages/torch/nn/modules/lazy.py:180: UserWarning: Lazy modules are a new feature under heavy development so changes to the API or functionality can happen at any moment.\n",
      "  warnings.warn('Lazy modules are a new feature under heavy development '\n",
      "100%|████████████████████████████████████████████████████████████| 500/500 [02:56<00:00,  2.83it/s, acc_training=1, acc_validation=0.824]\n",
      "\u001b[32m[I 2022-11-08 22:40:25,584]\u001b[0m Trial 83 finished with value: 0.8242424130439758 and parameters: {'wavelet': 'cgau8'}. Best is trial 59 with value: 0.8727272748947144.\u001b[0m\n"
     ]
    },
    {
     "name": "stderr",
     "output_type": "stream",
     "text": [
      "/Users/aureliennioche/.pyenv/versions/3.9.13/lib/python3.9/site-packages/torch/nn/modules/lazy.py:180: UserWarning: Lazy modules are a new feature under heavy development so changes to the API or functionality can happen at any moment.\n",
      "  warnings.warn('Lazy modules are a new feature under heavy development '\n",
      "100%|████████████████████████████████████████████████████████████| 500/500 [03:00<00:00,  2.77it/s, acc_training=1, acc_validation=0.724]\n",
      "\u001b[32m[I 2022-11-08 22:43:42,822]\u001b[0m Trial 84 finished with value: 0.7242424488067627 and parameters: {'wavelet': 'cgau8'}. Best is trial 59 with value: 0.8727272748947144.\u001b[0m\n",
      "/Users/aureliennioche/.pyenv/versions/3.9.13/lib/python3.9/site-packages/pywt/_cwt.py:117: FutureWarning: Wavelets from the family cmor, without parameters specified in the name are deprecated. The name should takethe form cmorB-C where B and C are floats representing the bandwidth frequency and center frequency, respectively (example: cmor1.5-1.0).\n",
      "  wavelet = DiscreteContinuousWavelet(wavelet)\n",
      "/Users/aureliennioche/.pyenv/versions/3.9.13/lib/python3.9/site-packages/torch/nn/modules/lazy.py:180: UserWarning: Lazy modules are a new feature under heavy development so changes to the API or functionality can happen at any moment.\n",
      "  warnings.warn('Lazy modules are a new feature under heavy development '\n",
      "100%|██████████████████████████████████████████████████████████████| 500/500 [02:58<00:00,  2.80it/s, acc_training=1, acc_validation=0.8]\n",
      "\u001b[32m[I 2022-11-08 22:47:06,914]\u001b[0m Trial 85 finished with value: 0.800000011920929 and parameters: {'wavelet': 'cmor'}. Best is trial 59 with value: 0.8727272748947144.\u001b[0m\n",
      "/Users/aureliennioche/.pyenv/versions/3.9.13/lib/python3.9/site-packages/torch/nn/modules/lazy.py:180: UserWarning: Lazy modules are a new feature under heavy development so changes to the API or functionality can happen at any moment.\n",
      "  warnings.warn('Lazy modules are a new feature under heavy development '\n",
      "100%|████████████████████████████████████████████████████████████| 500/500 [02:56<00:00,  2.84it/s, acc_training=1, acc_validation=0.858]\n",
      "\u001b[32m[I 2022-11-08 22:50:19,680]\u001b[0m Trial 86 finished with value: 0.8575757741928101 and parameters: {'wavelet': 'cgau8'}. Best is trial 59 with value: 0.8727272748947144.\u001b[0m\n",
      "/Users/aureliennioche/.pyenv/versions/3.9.13/lib/python3.9/site-packages/torch/nn/modules/lazy.py:180: UserWarning: Lazy modules are a new feature under heavy development so changes to the API or functionality can happen at any moment.\n",
      "  warnings.warn('Lazy modules are a new feature under heavy development '\n",
      "100%|████████████████████████████████████████████████████████████| 500/500 [02:59<00:00,  2.79it/s, acc_training=1, acc_validation=0.858]\n",
      "\u001b[32m[I 2022-11-08 22:53:35,790]\u001b[0m Trial 87 finished with value: 0.8575757741928101 and parameters: {'wavelet': 'cgau8'}. Best is trial 59 with value: 0.8727272748947144.\u001b[0m\n",
      "/Users/aureliennioche/.pyenv/versions/3.9.13/lib/python3.9/site-packages/torch/nn/modules/lazy.py:180: UserWarning: Lazy modules are a new feature under heavy development so changes to the API or functionality can happen at any moment.\n",
      "  warnings.warn('Lazy modules are a new feature under heavy development '\n",
      "100%|████████████████████████████████████████████████████████████| 500/500 [02:56<00:00,  2.84it/s, acc_training=1, acc_validation=0.842]\n",
      "\u001b[32m[I 2022-11-08 22:56:48,329]\u001b[0m Trial 88 finished with value: 0.842424213886261 and parameters: {'wavelet': 'cgau8'}. Best is trial 59 with value: 0.8727272748947144.\u001b[0m\n",
      "/Users/aureliennioche/.pyenv/versions/3.9.13/lib/python3.9/site-packages/torch/nn/modules/lazy.py:180: UserWarning: Lazy modules are a new feature under heavy development so changes to the API or functionality can happen at any moment.\n",
      "  warnings.warn('Lazy modules are a new feature under heavy development '\n",
      "100%|████████████████████████████████████████████████████████████| 500/500 [02:56<00:00,  2.83it/s, acc_training=1, acc_validation=0.785]\n",
      "\u001b[32m[I 2022-11-08 23:00:01,538]\u001b[0m Trial 89 finished with value: 0.7848485112190247 and parameters: {'wavelet': 'cgau8'}. Best is trial 59 with value: 0.8727272748947144.\u001b[0m\n",
      "/Users/aureliennioche/.pyenv/versions/3.9.13/lib/python3.9/site-packages/pywt/_cwt.py:117: FutureWarning: Wavelets from the family shan, without parameters specified in the name are deprecated. The name should takethe form shanB-C where B and C are floats representing the bandwidth frequency and center frequency, respectively (example: shan1.5-1.0).\n",
      "  wavelet = DiscreteContinuousWavelet(wavelet)\n",
      "/Users/aureliennioche/.pyenv/versions/3.9.13/lib/python3.9/site-packages/torch/nn/modules/lazy.py:180: UserWarning: Lazy modules are a new feature under heavy development so changes to the API or functionality can happen at any moment.\n",
      "  warnings.warn('Lazy modules are a new feature under heavy development '\n",
      "100%|████████████████████████████████████████████████████████████| 500/500 [02:56<00:00,  2.83it/s, acc_training=1, acc_validation=0.745]\n",
      "\u001b[32m[I 2022-11-08 23:04:01,135]\u001b[0m Trial 90 finished with value: 0.7454545497894287 and parameters: {'wavelet': 'shan'}. Best is trial 59 with value: 0.8727272748947144.\u001b[0m\n",
      "/Users/aureliennioche/.pyenv/versions/3.9.13/lib/python3.9/site-packages/torch/nn/modules/lazy.py:180: UserWarning: Lazy modules are a new feature under heavy development so changes to the API or functionality can happen at any moment.\n",
      "  warnings.warn('Lazy modules are a new feature under heavy development '\n",
      "100%|████████████████████████████████████████████████████████████| 500/500 [02:55<00:00,  2.84it/s, acc_training=1, acc_validation=0.791]\n",
      "\u001b[32m[I 2022-11-08 23:07:13,540]\u001b[0m Trial 91 finished with value: 0.7909091114997864 and parameters: {'wavelet': 'cgau8'}. Best is trial 59 with value: 0.8727272748947144.\u001b[0m\n",
      "/Users/aureliennioche/.pyenv/versions/3.9.13/lib/python3.9/site-packages/torch/nn/modules/lazy.py:180: UserWarning: Lazy modules are a new feature under heavy development so changes to the API or functionality can happen at any moment.\n",
      "  warnings.warn('Lazy modules are a new feature under heavy development '\n",
      "100%|████████████████████████████████████████████████████████| 500/500 [02:56<00:00,  2.84it/s, acc_training=0.971, acc_validation=0.676]\n",
      "\u001b[32m[I 2022-11-08 23:10:26,184]\u001b[0m Trial 92 finished with value: 0.6757575869560242 and parameters: {'wavelet': 'cgau8'}. Best is trial 59 with value: 0.8727272748947144.\u001b[0m\n",
      "/Users/aureliennioche/.pyenv/versions/3.9.13/lib/python3.9/site-packages/torch/nn/modules/lazy.py:180: UserWarning: Lazy modules are a new feature under heavy development so changes to the API or functionality can happen at any moment.\n",
      "  warnings.warn('Lazy modules are a new feature under heavy development '\n",
      "100%|█████████████████████████████████████████████████████████████| 500/500 [02:48<00:00,  2.97it/s, acc_training=1, acc_validation=0.77]\n",
      "\u001b[32m[I 2022-11-08 23:13:20,941]\u001b[0m Trial 93 finished with value: 0.7696969509124756 and parameters: {'wavelet': 'gaus1'}. Best is trial 59 with value: 0.8727272748947144.\u001b[0m\n",
      "/Users/aureliennioche/.pyenv/versions/3.9.13/lib/python3.9/site-packages/torch/nn/modules/lazy.py:180: UserWarning: Lazy modules are a new feature under heavy development so changes to the API or functionality can happen at any moment.\n",
      "  warnings.warn('Lazy modules are a new feature under heavy development '\n",
      "100%|████████████████████████████████████████████████████████████| 500/500 [02:49<00:00,  2.95it/s, acc_training=1, acc_validation=0.773]\n",
      "\u001b[32m[I 2022-11-08 23:16:16,915]\u001b[0m Trial 94 finished with value: 0.7727272510528564 and parameters: {'wavelet': 'gaus4'}. Best is trial 59 with value: 0.8727272748947144.\u001b[0m\n",
      "/Users/aureliennioche/.pyenv/versions/3.9.13/lib/python3.9/site-packages/torch/nn/modules/lazy.py:180: UserWarning: Lazy modules are a new feature under heavy development so changes to the API or functionality can happen at any moment.\n",
      "  warnings.warn('Lazy modules are a new feature under heavy development '\n",
      "100%|████████████████████████████████████████████████████████████| 500/500 [02:56<00:00,  2.83it/s, acc_training=1, acc_validation=0.736]\n",
      "\u001b[32m[I 2022-11-08 23:19:29,690]\u001b[0m Trial 95 finished with value: 0.7363636493682861 and parameters: {'wavelet': 'cgau3'}. Best is trial 59 with value: 0.8727272748947144.\u001b[0m\n"
     ]
    },
    {
     "name": "stderr",
     "output_type": "stream",
     "text": [
      "/Users/aureliennioche/.pyenv/versions/3.9.13/lib/python3.9/site-packages/torch/nn/modules/lazy.py:180: UserWarning: Lazy modules are a new feature under heavy development so changes to the API or functionality can happen at any moment.\n",
      "  warnings.warn('Lazy modules are a new feature under heavy development '\n",
      "100%|████████████████████████████████████████████████████████████| 500/500 [02:56<00:00,  2.84it/s, acc_training=1, acc_validation=0.803]\n",
      "\u001b[32m[I 2022-11-08 23:22:42,275]\u001b[0m Trial 96 finished with value: 0.8030303120613098 and parameters: {'wavelet': 'cgau8'}. Best is trial 59 with value: 0.8727272748947144.\u001b[0m\n",
      "/Users/aureliennioche/.pyenv/versions/3.9.13/lib/python3.9/site-packages/torch/nn/modules/lazy.py:180: UserWarning: Lazy modules are a new feature under heavy development so changes to the API or functionality can happen at any moment.\n",
      "  warnings.warn('Lazy modules are a new feature under heavy development '\n",
      "100%|████████████████████████████████████████████████████████████| 500/500 [02:50<00:00,  2.94it/s, acc_training=1, acc_validation=0.739]\n",
      "\u001b[32m[I 2022-11-08 23:25:38,853]\u001b[0m Trial 97 finished with value: 0.739393949508667 and parameters: {'wavelet': 'gaus5'}. Best is trial 59 with value: 0.8727272748947144.\u001b[0m\n",
      "/Users/aureliennioche/.pyenv/versions/3.9.13/lib/python3.9/site-packages/torch/nn/modules/lazy.py:180: UserWarning: Lazy modules are a new feature under heavy development so changes to the API or functionality can happen at any moment.\n",
      "  warnings.warn('Lazy modules are a new feature under heavy development '\n",
      "100%|████████████████████████████████████████████████████████████| 500/500 [02:55<00:00,  2.84it/s, acc_training=1, acc_validation=0.836]\n",
      "\u001b[32m[I 2022-11-08 23:28:51,225]\u001b[0m Trial 98 finished with value: 0.8363636136054993 and parameters: {'wavelet': 'cgau8'}. Best is trial 59 with value: 0.8727272748947144.\u001b[0m\n",
      "/Users/aureliennioche/.pyenv/versions/3.9.13/lib/python3.9/site-packages/torch/nn/modules/lazy.py:180: UserWarning: Lazy modules are a new feature under heavy development so changes to the API or functionality can happen at any moment.\n",
      "  warnings.warn('Lazy modules are a new feature under heavy development '\n",
      "100%|████████████████████████████████████████████████████████████| 500/500 [02:56<00:00,  2.83it/s, acc_training=1, acc_validation=0.827]\n",
      "\u001b[32m[I 2022-11-08 23:32:04,153]\u001b[0m Trial 99 finished with value: 0.8272727131843567 and parameters: {'wavelet': 'cgau2'}. Best is trial 59 with value: 0.8727272748947144.\u001b[0m\n"
     ]
    },
    {
     "data": {
      "text/plain": [
       "{'wavelet': 'morl'}"
      ]
     },
     "execution_count": 5,
     "metadata": {},
     "output_type": "execute_result"
    }
   ],
   "source": [
    "def objective(trial):\n",
    "    wavelet = trial.suggest_categorical('wavelet', wavelet_list)\n",
    "    \n",
    "    data_file = \"../../data/william/dataset2/preprocessed_data__no_decimate.csv\"\n",
    "\n",
    "    metrics = train(\n",
    "        wavelet=wavelet,\n",
    "        data_file=data_file,\n",
    "        fig_folder=None,\n",
    "        seed=np.random.randint(2**32 - 1), \n",
    "        n_epochs=500,\n",
    "        learning_rate=0.005,\n",
    "        scales=np.geomspace(10, 520, num=20, dtype=int),\n",
    "        dt=1,\n",
    "        decimate=5,\n",
    "        select_every=5,\n",
    "        verbose=False)\n",
    "    \n",
    "    return metrics[\"accuracy_validation\"]\n",
    "\n",
    "study = optuna.create_study(direction='maximize')\n",
    "study.optimize(objective, n_trials=100)\n",
    "\n",
    "study.best_params "
   ]
  },
  {
   "cell_type": "code",
   "execution_count": 6,
   "id": "8693fee2",
   "metadata": {},
   "outputs": [
    {
     "name": "stderr",
     "output_type": "stream",
     "text": [
      "\u001b[32m[I 2022-11-09 15:37:19,236]\u001b[0m A new study created in memory with name: no-name-62778ac4-aea0-4740-895d-c0c66987df9c\u001b[0m\n",
      "/Users/aureliennioche/.pyenv/versions/3.9.13/lib/python3.9/site-packages/torch/nn/modules/lazy.py:180: UserWarning: Lazy modules are a new feature under heavy development so changes to the API or functionality can happen at any moment.\n",
      "  warnings.warn('Lazy modules are a new feature under heavy development '\n",
      "100%|████████████████████████████████████████████████████████████| 500/500 [02:56<00:00,  2.83it/s, acc_training=1, acc_validation=0.818]\n",
      "\u001b[32m[I 2022-11-09 15:40:32,491]\u001b[0m Trial 0 finished with value: 0.8181818127632141 and parameters: {'wavelet': 'cgau7'}. Best is trial 0 with value: 0.8181818127632141.\u001b[0m\n",
      "/Users/aureliennioche/.pyenv/versions/3.9.13/lib/python3.9/site-packages/torch/nn/modules/lazy.py:180: UserWarning: Lazy modules are a new feature under heavy development so changes to the API or functionality can happen at any moment.\n",
      "  warnings.warn('Lazy modules are a new feature under heavy development '\n",
      "100%|████████████████████████████████████████████████████████| 500/500 [02:49<00:00,  2.94it/s, acc_training=0.514, acc_validation=0.503]\n",
      "\u001b[32m[I 2022-11-09 15:43:28,904]\u001b[0m Trial 1 finished with value: 0.5030303001403809 and parameters: {'wavelet': 'gaus1'}. Best is trial 0 with value: 0.8181818127632141.\u001b[0m\n",
      "/Users/aureliennioche/.pyenv/versions/3.9.13/lib/python3.9/site-packages/torch/nn/modules/lazy.py:180: UserWarning: Lazy modules are a new feature under heavy development so changes to the API or functionality can happen at any moment.\n",
      "  warnings.warn('Lazy modules are a new feature under heavy development '\n",
      " 46%|███████████████████████████▊                                | 232/500 [01:18<01:31,  2.94it/s, acc_training=1, acc_validation=0.752]\n",
      "\u001b[33m[W 2022-11-09 15:45:04,617]\u001b[0m Trial 2 failed because of the following error: KeyboardInterrupt()\u001b[0m\n",
      "Traceback (most recent call last):\n",
      "  File \"/Users/aureliennioche/.pyenv/versions/3.9.13/lib/python3.9/site-packages/optuna/study/_optimize.py\", line 196, in _run_trial\n",
      "    value_or_values = func(trial)\n",
      "  File \"/var/folders/c1/r7bfgyyx387djcym3m51cxvh0000gn/T/ipykernel_23529/3224151476.py\", line 6, in objective\n",
      "    metrics = train(\n",
      "  File \"/Users/aureliennioche/Documents/PythonProjects/RIS/run/william/main__wavelet_cnn.py\", line 183, in train\n",
      "    outputs = model(inputs)\n",
      "  File \"/Users/aureliennioche/.pyenv/versions/3.9.13/lib/python3.9/site-packages/torch/nn/modules/module.py\", line 1190, in _call_impl\n",
      "    return forward_call(*input, **kwargs)\n",
      "  File \"/Users/aureliennioche/Documents/PythonProjects/RIS/run/william/main__wavelet_cnn.py\", line 97, in forward\n",
      "    x = self.pool(F.relu(self.conv1(x)))\n",
      "  File \"/Users/aureliennioche/.pyenv/versions/3.9.13/lib/python3.9/site-packages/torch/nn/modules/module.py\", line 1190, in _call_impl\n",
      "    return forward_call(*input, **kwargs)\n",
      "  File \"/Users/aureliennioche/.pyenv/versions/3.9.13/lib/python3.9/site-packages/torch/nn/modules/conv.py\", line 463, in forward\n",
      "    return self._conv_forward(input, self.weight, self.bias)\n",
      "  File \"/Users/aureliennioche/.pyenv/versions/3.9.13/lib/python3.9/site-packages/torch/nn/modules/conv.py\", line 459, in _conv_forward\n",
      "    return F.conv2d(input, weight, bias, self.stride,\n",
      "KeyboardInterrupt\n",
      "\n",
      "KeyboardInterrupt\n",
      "\n"
     ]
    }
   ],
   "source": [
    "def objective(trial):\n",
    "    wavelet = trial.suggest_categorical('wavelet', wavelet_list)\n",
    "    \n",
    "    data_file = \"../../data/william/dataset2/preprocessed_data__no_decimate.csv\"\n",
    "\n",
    "    metrics = train(\n",
    "        wavelet=wavelet,\n",
    "        data_file=data_file,\n",
    "        fig_folder=None,\n",
    "        seed=np.random.randint(2**32 - 1), \n",
    "        n_epochs=500,\n",
    "        learning_rate=0.005,\n",
    "        scales=np.geomspace(10, 520, num=20, dtype=int),\n",
    "        dt=1,\n",
    "        decimate=5,\n",
    "        select_every=5,\n",
    "        verbose=False)\n",
    "    \n",
    "    return metrics[\"accuracy_validation\"]\n",
    "\n",
    "study2 = optuna.create_study(direction='maximize')\n",
    "study2.optimize(objective, n_trials=500)\n",
    "\n",
    "study2.best_params "
   ]
  },
  {
   "cell_type": "code",
   "execution_count": 2,
   "id": "ecb992a2",
   "metadata": {},
   "outputs": [
    {
     "data": {
      "text/plain": [
       "{'wavelet': 'cgau1'}"
      ]
     },
     "execution_count": 2,
     "metadata": {},
     "output_type": "execute_result"
    }
   ],
   "source": [
    "study = optuna.load_study(\n",
    "    study_name='optimize_wavelet_choice', storage='mysql://root@localhost/optimize_wavelet_choice')\n",
    "\n",
    "study.best_params"
   ]
  },
  {
   "cell_type": "code",
   "execution_count": 6,
   "id": "f1d5b8b1",
   "metadata": {},
   "outputs": [],
   "source": [
    "from optuna import visualization"
   ]
  },
  {
   "cell_type": "code",
   "execution_count": 7,
   "id": "dc69fde2",
   "metadata": {
    "scrolled": true
   },
   "outputs": [
    {
     "data": {
      "application/vnd.plotly.v1+json": {
       "config": {
        "plotlyServerURL": "https://plot.ly"
       },
       "data": [
        {
         "dimensions": [
          {
           "label": "Objective Value",
           "range": [
            0.469696968793869,
            0.8787878751754761
           ],
           "values": [
            0.5454545617103577,
            0.7303030490875244,
            0.8060606122016907,
            0.8333333134651184,
            0.7333333492279053,
            0.8060606122016907,
            0.7848485112190247,
            0.8272727131843567,
            0.7939394116401672,
            0.739393949508667,
            0.8606060743331909,
            0.7939394116401672,
            0.8363636136054993,
            0.7818182110786438,
            0.8545454740524292,
            0.49696969985961914,
            0.800000011920929,
            0.7515151500701904,
            0.8030303120613098,
            0.8575757741928101,
            0.8090909123420715,
            0.8181818127632141,
            0.539393961429596,
            0.5181818008422852,
            0.8333333134651184,
            0.8515151739120483,
            0.5303030014038086,
            0.760606050491333,
            0.7575757503509521,
            0.7060605883598328,
            0.469696968793869,
            0.7030302882194519,
            0.7787878513336182,
            0.8090909123420715,
            0.7909091114997864,
            0.821212112903595,
            0.6878787875175476,
            0.7272727489471436,
            0.842424213886261,
            0.8393939137458801,
            0.6727272868156433,
            0.7151514887809753,
            0.8181818127632141,
            0.8060606122016907,
            0.8303030133247375,
            0.8787878751754761,
            0.7181817889213562,
            0.5090909004211426,
            0.521212100982666,
            0.760606050491333,
            0.8545454740524292,
            0.800000011920929,
            0.8272727131843567,
            0.8515151739120483,
            0.7939394116401672,
            0.7151514887809753,
            0.7060605883598328,
            0.8303030133247375,
            0.7818182110786438,
            0.7545454502105713,
            0.8303030133247375,
            0.8303030133247375,
            0.800000011920929,
            0.7515151500701904,
            0.4939393997192383,
            0.7333333492279053,
            0.5,
            0.5242424011230469,
            0.821212112903595,
            0.7757575511932373,
            0.8393939137458801,
            0.469696968793869,
            0.7545454502105713,
            0.596969723701477,
            0.521212100982666,
            0.7575757503509521,
            0.8030303120613098,
            0.8181818127632141,
            0.8545454740524292,
            0.7848485112190247,
            0.8454545736312866,
            0.8696969747543335,
            0.521212100982666,
            0.8181818127632141,
            0.8272727131843567,
            0.8181818127632141,
            0.7545454502105713,
            0.5151515007019043,
            0.8121212124824524,
            0.8242424130439758,
            0.8333333134651184,
            0.581818163394928,
            0.5090909004211426,
            0.5060606002807617,
            0.8303030133247375,
            0.8121212124824524,
            0.7969697117805481,
            0.821212112903595,
            0.5060606002807617,
            0.800000011920929,
            0.7787878513336182,
            0.800000011920929,
            0.5121212005615234,
            0.7757575511932373,
            0.521212100982666,
            0.821212112903595,
            0.8696969747543335,
            0.821212112903595,
            0.7878788113594055,
            0.7939394116401672,
            0.8272727131843567,
            0.7666666507720947,
            0.5090909004211426,
            0.7909091114997864
           ]
          },
          {
           "label": "wavelet",
           "range": [
            0,
            20
           ],
           "ticktext": [
            "gaus6",
            "gaus4",
            "cgau6",
            "cgau4",
            "cmor",
            "cgau5",
            "cgau3",
            "cgau2",
            "gaus5",
            "shan",
            "gaus7",
            "gaus8",
            "fbsp",
            "gaus2",
            "cgau7",
            "gaus1",
            "morl",
            "cgau8",
            "mexh",
            "cgau1",
            "gaus3"
           ],
           "tickvals": [
            0,
            1,
            2,
            3,
            4,
            5,
            6,
            7,
            8,
            9,
            10,
            11,
            12,
            13,
            14,
            15,
            16,
            17,
            18,
            19,
            20
           ],
           "values": [
            0,
            1,
            0,
            2,
            0,
            3,
            4,
            3,
            5,
            6,
            7,
            3,
            8,
            2,
            2,
            2,
            7,
            8,
            7,
            9,
            10,
            7,
            11,
            12,
            9,
            9,
            9,
            9,
            9,
            13,
            14,
            15,
            15,
            16,
            17,
            16,
            16,
            18,
            19,
            20,
            18,
            19,
            4,
            0,
            19,
            19,
            19,
            19,
            1,
            1,
            9,
            2,
            2,
            2,
            5,
            5,
            9,
            9,
            9,
            9,
            6,
            2,
            10,
            7,
            7,
            7,
            7,
            12,
            11,
            3,
            11,
            11,
            3,
            13,
            14,
            13,
            13,
            14,
            2,
            8,
            8,
            17,
            2,
            2,
            17,
            17,
            17,
            2,
            17,
            20,
            2,
            20,
            2,
            9,
            4,
            20,
            8,
            4,
            8,
            9,
            4,
            9,
            9,
            9,
            0,
            0,
            6,
            19,
            19,
            19,
            6,
            19,
            6,
            6
           ]
          }
         ],
         "labelangle": 30,
         "labelside": "bottom",
         "line": {
          "color": [
           0.5454545617103577,
           0.7303030490875244,
           0.8060606122016907,
           0.8333333134651184,
           0.7333333492279053,
           0.8060606122016907,
           0.7848485112190247,
           0.8272727131843567,
           0.7939394116401672,
           0.739393949508667,
           0.8606060743331909,
           0.7939394116401672,
           0.8363636136054993,
           0.7818182110786438,
           0.8545454740524292,
           0.49696969985961914,
           0.800000011920929,
           0.7515151500701904,
           0.8030303120613098,
           0.8575757741928101,
           0.8090909123420715,
           0.8181818127632141,
           0.539393961429596,
           0.5181818008422852,
           0.8333333134651184,
           0.8515151739120483,
           0.5303030014038086,
           0.760606050491333,
           0.7575757503509521,
           0.7060605883598328,
           0.469696968793869,
           0.7030302882194519,
           0.7787878513336182,
           0.8090909123420715,
           0.7909091114997864,
           0.821212112903595,
           0.6878787875175476,
           0.7272727489471436,
           0.842424213886261,
           0.8393939137458801,
           0.6727272868156433,
           0.7151514887809753,
           0.8181818127632141,
           0.8060606122016907,
           0.8303030133247375,
           0.8787878751754761,
           0.7181817889213562,
           0.5090909004211426,
           0.521212100982666,
           0.760606050491333,
           0.8545454740524292,
           0.800000011920929,
           0.8272727131843567,
           0.8515151739120483,
           0.7939394116401672,
           0.7151514887809753,
           0.7060605883598328,
           0.8303030133247375,
           0.7818182110786438,
           0.7545454502105713,
           0.8303030133247375,
           0.8303030133247375,
           0.800000011920929,
           0.7515151500701904,
           0.4939393997192383,
           0.7333333492279053,
           0.5,
           0.5242424011230469,
           0.821212112903595,
           0.7757575511932373,
           0.8393939137458801,
           0.469696968793869,
           0.7545454502105713,
           0.596969723701477,
           0.521212100982666,
           0.7575757503509521,
           0.8030303120613098,
           0.8181818127632141,
           0.8545454740524292,
           0.7848485112190247,
           0.8454545736312866,
           0.8696969747543335,
           0.521212100982666,
           0.8181818127632141,
           0.8272727131843567,
           0.8181818127632141,
           0.7545454502105713,
           0.5151515007019043,
           0.8121212124824524,
           0.8242424130439758,
           0.8333333134651184,
           0.581818163394928,
           0.5090909004211426,
           0.5060606002807617,
           0.8303030133247375,
           0.8121212124824524,
           0.7969697117805481,
           0.821212112903595,
           0.5060606002807617,
           0.800000011920929,
           0.7787878513336182,
           0.800000011920929,
           0.5121212005615234,
           0.7757575511932373,
           0.521212100982666,
           0.821212112903595,
           0.8696969747543335,
           0.821212112903595,
           0.7878788113594055,
           0.7939394116401672,
           0.8272727131843567,
           0.7666666507720947,
           0.5090909004211426,
           0.7909091114997864
          ],
          "colorbar": {
           "title": {
            "text": "Objective Value"
           }
          },
          "colorscale": [
           [
            0,
            "rgb(247,251,255)"
           ],
           [
            0.125,
            "rgb(222,235,247)"
           ],
           [
            0.25,
            "rgb(198,219,239)"
           ],
           [
            0.375,
            "rgb(158,202,225)"
           ],
           [
            0.5,
            "rgb(107,174,214)"
           ],
           [
            0.625,
            "rgb(66,146,198)"
           ],
           [
            0.75,
            "rgb(33,113,181)"
           ],
           [
            0.875,
            "rgb(8,81,156)"
           ],
           [
            1,
            "rgb(8,48,107)"
           ]
          ],
          "reversescale": false,
          "showscale": true
         },
         "type": "parcoords"
        }
       ],
       "layout": {
        "template": {
         "data": {
          "bar": [
           {
            "error_x": {
             "color": "#2a3f5f"
            },
            "error_y": {
             "color": "#2a3f5f"
            },
            "marker": {
             "line": {
              "color": "#E5ECF6",
              "width": 0.5
             },
             "pattern": {
              "fillmode": "overlay",
              "size": 10,
              "solidity": 0.2
             }
            },
            "type": "bar"
           }
          ],
          "barpolar": [
           {
            "marker": {
             "line": {
              "color": "#E5ECF6",
              "width": 0.5
             },
             "pattern": {
              "fillmode": "overlay",
              "size": 10,
              "solidity": 0.2
             }
            },
            "type": "barpolar"
           }
          ],
          "carpet": [
           {
            "aaxis": {
             "endlinecolor": "#2a3f5f",
             "gridcolor": "white",
             "linecolor": "white",
             "minorgridcolor": "white",
             "startlinecolor": "#2a3f5f"
            },
            "baxis": {
             "endlinecolor": "#2a3f5f",
             "gridcolor": "white",
             "linecolor": "white",
             "minorgridcolor": "white",
             "startlinecolor": "#2a3f5f"
            },
            "type": "carpet"
           }
          ],
          "choropleth": [
           {
            "colorbar": {
             "outlinewidth": 0,
             "ticks": ""
            },
            "type": "choropleth"
           }
          ],
          "contour": [
           {
            "colorbar": {
             "outlinewidth": 0,
             "ticks": ""
            },
            "colorscale": [
             [
              0,
              "#0d0887"
             ],
             [
              0.1111111111111111,
              "#46039f"
             ],
             [
              0.2222222222222222,
              "#7201a8"
             ],
             [
              0.3333333333333333,
              "#9c179e"
             ],
             [
              0.4444444444444444,
              "#bd3786"
             ],
             [
              0.5555555555555556,
              "#d8576b"
             ],
             [
              0.6666666666666666,
              "#ed7953"
             ],
             [
              0.7777777777777778,
              "#fb9f3a"
             ],
             [
              0.8888888888888888,
              "#fdca26"
             ],
             [
              1,
              "#f0f921"
             ]
            ],
            "type": "contour"
           }
          ],
          "contourcarpet": [
           {
            "colorbar": {
             "outlinewidth": 0,
             "ticks": ""
            },
            "type": "contourcarpet"
           }
          ],
          "heatmap": [
           {
            "colorbar": {
             "outlinewidth": 0,
             "ticks": ""
            },
            "colorscale": [
             [
              0,
              "#0d0887"
             ],
             [
              0.1111111111111111,
              "#46039f"
             ],
             [
              0.2222222222222222,
              "#7201a8"
             ],
             [
              0.3333333333333333,
              "#9c179e"
             ],
             [
              0.4444444444444444,
              "#bd3786"
             ],
             [
              0.5555555555555556,
              "#d8576b"
             ],
             [
              0.6666666666666666,
              "#ed7953"
             ],
             [
              0.7777777777777778,
              "#fb9f3a"
             ],
             [
              0.8888888888888888,
              "#fdca26"
             ],
             [
              1,
              "#f0f921"
             ]
            ],
            "type": "heatmap"
           }
          ],
          "heatmapgl": [
           {
            "colorbar": {
             "outlinewidth": 0,
             "ticks": ""
            },
            "colorscale": [
             [
              0,
              "#0d0887"
             ],
             [
              0.1111111111111111,
              "#46039f"
             ],
             [
              0.2222222222222222,
              "#7201a8"
             ],
             [
              0.3333333333333333,
              "#9c179e"
             ],
             [
              0.4444444444444444,
              "#bd3786"
             ],
             [
              0.5555555555555556,
              "#d8576b"
             ],
             [
              0.6666666666666666,
              "#ed7953"
             ],
             [
              0.7777777777777778,
              "#fb9f3a"
             ],
             [
              0.8888888888888888,
              "#fdca26"
             ],
             [
              1,
              "#f0f921"
             ]
            ],
            "type": "heatmapgl"
           }
          ],
          "histogram": [
           {
            "marker": {
             "pattern": {
              "fillmode": "overlay",
              "size": 10,
              "solidity": 0.2
             }
            },
            "type": "histogram"
           }
          ],
          "histogram2d": [
           {
            "colorbar": {
             "outlinewidth": 0,
             "ticks": ""
            },
            "colorscale": [
             [
              0,
              "#0d0887"
             ],
             [
              0.1111111111111111,
              "#46039f"
             ],
             [
              0.2222222222222222,
              "#7201a8"
             ],
             [
              0.3333333333333333,
              "#9c179e"
             ],
             [
              0.4444444444444444,
              "#bd3786"
             ],
             [
              0.5555555555555556,
              "#d8576b"
             ],
             [
              0.6666666666666666,
              "#ed7953"
             ],
             [
              0.7777777777777778,
              "#fb9f3a"
             ],
             [
              0.8888888888888888,
              "#fdca26"
             ],
             [
              1,
              "#f0f921"
             ]
            ],
            "type": "histogram2d"
           }
          ],
          "histogram2dcontour": [
           {
            "colorbar": {
             "outlinewidth": 0,
             "ticks": ""
            },
            "colorscale": [
             [
              0,
              "#0d0887"
             ],
             [
              0.1111111111111111,
              "#46039f"
             ],
             [
              0.2222222222222222,
              "#7201a8"
             ],
             [
              0.3333333333333333,
              "#9c179e"
             ],
             [
              0.4444444444444444,
              "#bd3786"
             ],
             [
              0.5555555555555556,
              "#d8576b"
             ],
             [
              0.6666666666666666,
              "#ed7953"
             ],
             [
              0.7777777777777778,
              "#fb9f3a"
             ],
             [
              0.8888888888888888,
              "#fdca26"
             ],
             [
              1,
              "#f0f921"
             ]
            ],
            "type": "histogram2dcontour"
           }
          ],
          "mesh3d": [
           {
            "colorbar": {
             "outlinewidth": 0,
             "ticks": ""
            },
            "type": "mesh3d"
           }
          ],
          "parcoords": [
           {
            "line": {
             "colorbar": {
              "outlinewidth": 0,
              "ticks": ""
             }
            },
            "type": "parcoords"
           }
          ],
          "pie": [
           {
            "automargin": true,
            "type": "pie"
           }
          ],
          "scatter": [
           {
            "fillpattern": {
             "fillmode": "overlay",
             "size": 10,
             "solidity": 0.2
            },
            "type": "scatter"
           }
          ],
          "scatter3d": [
           {
            "line": {
             "colorbar": {
              "outlinewidth": 0,
              "ticks": ""
             }
            },
            "marker": {
             "colorbar": {
              "outlinewidth": 0,
              "ticks": ""
             }
            },
            "type": "scatter3d"
           }
          ],
          "scattercarpet": [
           {
            "marker": {
             "colorbar": {
              "outlinewidth": 0,
              "ticks": ""
             }
            },
            "type": "scattercarpet"
           }
          ],
          "scattergeo": [
           {
            "marker": {
             "colorbar": {
              "outlinewidth": 0,
              "ticks": ""
             }
            },
            "type": "scattergeo"
           }
          ],
          "scattergl": [
           {
            "marker": {
             "colorbar": {
              "outlinewidth": 0,
              "ticks": ""
             }
            },
            "type": "scattergl"
           }
          ],
          "scattermapbox": [
           {
            "marker": {
             "colorbar": {
              "outlinewidth": 0,
              "ticks": ""
             }
            },
            "type": "scattermapbox"
           }
          ],
          "scatterpolar": [
           {
            "marker": {
             "colorbar": {
              "outlinewidth": 0,
              "ticks": ""
             }
            },
            "type": "scatterpolar"
           }
          ],
          "scatterpolargl": [
           {
            "marker": {
             "colorbar": {
              "outlinewidth": 0,
              "ticks": ""
             }
            },
            "type": "scatterpolargl"
           }
          ],
          "scatterternary": [
           {
            "marker": {
             "colorbar": {
              "outlinewidth": 0,
              "ticks": ""
             }
            },
            "type": "scatterternary"
           }
          ],
          "surface": [
           {
            "colorbar": {
             "outlinewidth": 0,
             "ticks": ""
            },
            "colorscale": [
             [
              0,
              "#0d0887"
             ],
             [
              0.1111111111111111,
              "#46039f"
             ],
             [
              0.2222222222222222,
              "#7201a8"
             ],
             [
              0.3333333333333333,
              "#9c179e"
             ],
             [
              0.4444444444444444,
              "#bd3786"
             ],
             [
              0.5555555555555556,
              "#d8576b"
             ],
             [
              0.6666666666666666,
              "#ed7953"
             ],
             [
              0.7777777777777778,
              "#fb9f3a"
             ],
             [
              0.8888888888888888,
              "#fdca26"
             ],
             [
              1,
              "#f0f921"
             ]
            ],
            "type": "surface"
           }
          ],
          "table": [
           {
            "cells": {
             "fill": {
              "color": "#EBF0F8"
             },
             "line": {
              "color": "white"
             }
            },
            "header": {
             "fill": {
              "color": "#C8D4E3"
             },
             "line": {
              "color": "white"
             }
            },
            "type": "table"
           }
          ]
         },
         "layout": {
          "annotationdefaults": {
           "arrowcolor": "#2a3f5f",
           "arrowhead": 0,
           "arrowwidth": 1
          },
          "autotypenumbers": "strict",
          "coloraxis": {
           "colorbar": {
            "outlinewidth": 0,
            "ticks": ""
           }
          },
          "colorscale": {
           "diverging": [
            [
             0,
             "#8e0152"
            ],
            [
             0.1,
             "#c51b7d"
            ],
            [
             0.2,
             "#de77ae"
            ],
            [
             0.3,
             "#f1b6da"
            ],
            [
             0.4,
             "#fde0ef"
            ],
            [
             0.5,
             "#f7f7f7"
            ],
            [
             0.6,
             "#e6f5d0"
            ],
            [
             0.7,
             "#b8e186"
            ],
            [
             0.8,
             "#7fbc41"
            ],
            [
             0.9,
             "#4d9221"
            ],
            [
             1,
             "#276419"
            ]
           ],
           "sequential": [
            [
             0,
             "#0d0887"
            ],
            [
             0.1111111111111111,
             "#46039f"
            ],
            [
             0.2222222222222222,
             "#7201a8"
            ],
            [
             0.3333333333333333,
             "#9c179e"
            ],
            [
             0.4444444444444444,
             "#bd3786"
            ],
            [
             0.5555555555555556,
             "#d8576b"
            ],
            [
             0.6666666666666666,
             "#ed7953"
            ],
            [
             0.7777777777777778,
             "#fb9f3a"
            ],
            [
             0.8888888888888888,
             "#fdca26"
            ],
            [
             1,
             "#f0f921"
            ]
           ],
           "sequentialminus": [
            [
             0,
             "#0d0887"
            ],
            [
             0.1111111111111111,
             "#46039f"
            ],
            [
             0.2222222222222222,
             "#7201a8"
            ],
            [
             0.3333333333333333,
             "#9c179e"
            ],
            [
             0.4444444444444444,
             "#bd3786"
            ],
            [
             0.5555555555555556,
             "#d8576b"
            ],
            [
             0.6666666666666666,
             "#ed7953"
            ],
            [
             0.7777777777777778,
             "#fb9f3a"
            ],
            [
             0.8888888888888888,
             "#fdca26"
            ],
            [
             1,
             "#f0f921"
            ]
           ]
          },
          "colorway": [
           "#636efa",
           "#EF553B",
           "#00cc96",
           "#ab63fa",
           "#FFA15A",
           "#19d3f3",
           "#FF6692",
           "#B6E880",
           "#FF97FF",
           "#FECB52"
          ],
          "font": {
           "color": "#2a3f5f"
          },
          "geo": {
           "bgcolor": "white",
           "lakecolor": "white",
           "landcolor": "#E5ECF6",
           "showlakes": true,
           "showland": true,
           "subunitcolor": "white"
          },
          "hoverlabel": {
           "align": "left"
          },
          "hovermode": "closest",
          "mapbox": {
           "style": "light"
          },
          "paper_bgcolor": "white",
          "plot_bgcolor": "#E5ECF6",
          "polar": {
           "angularaxis": {
            "gridcolor": "white",
            "linecolor": "white",
            "ticks": ""
           },
           "bgcolor": "#E5ECF6",
           "radialaxis": {
            "gridcolor": "white",
            "linecolor": "white",
            "ticks": ""
           }
          },
          "scene": {
           "xaxis": {
            "backgroundcolor": "#E5ECF6",
            "gridcolor": "white",
            "gridwidth": 2,
            "linecolor": "white",
            "showbackground": true,
            "ticks": "",
            "zerolinecolor": "white"
           },
           "yaxis": {
            "backgroundcolor": "#E5ECF6",
            "gridcolor": "white",
            "gridwidth": 2,
            "linecolor": "white",
            "showbackground": true,
            "ticks": "",
            "zerolinecolor": "white"
           },
           "zaxis": {
            "backgroundcolor": "#E5ECF6",
            "gridcolor": "white",
            "gridwidth": 2,
            "linecolor": "white",
            "showbackground": true,
            "ticks": "",
            "zerolinecolor": "white"
           }
          },
          "shapedefaults": {
           "line": {
            "color": "#2a3f5f"
           }
          },
          "ternary": {
           "aaxis": {
            "gridcolor": "white",
            "linecolor": "white",
            "ticks": ""
           },
           "baxis": {
            "gridcolor": "white",
            "linecolor": "white",
            "ticks": ""
           },
           "bgcolor": "#E5ECF6",
           "caxis": {
            "gridcolor": "white",
            "linecolor": "white",
            "ticks": ""
           }
          },
          "title": {
           "x": 0.05
          },
          "xaxis": {
           "automargin": true,
           "gridcolor": "white",
           "linecolor": "white",
           "ticks": "",
           "title": {
            "standoff": 15
           },
           "zerolinecolor": "white",
           "zerolinewidth": 2
          },
          "yaxis": {
           "automargin": true,
           "gridcolor": "white",
           "linecolor": "white",
           "ticks": "",
           "title": {
            "standoff": 15
           },
           "zerolinecolor": "white",
           "zerolinewidth": 2
          }
         }
        },
        "title": {
         "text": "Parallel Coordinate Plot"
        }
       }
      },
      "text/html": [
       "<div>                            <div id=\"472d2430-67f4-4009-b2fc-379183f24ef5\" class=\"plotly-graph-div\" style=\"height:525px; width:100%;\"></div>            <script type=\"text/javascript\">                require([\"plotly\"], function(Plotly) {                    window.PLOTLYENV=window.PLOTLYENV || {};                                    if (document.getElementById(\"472d2430-67f4-4009-b2fc-379183f24ef5\")) {                    Plotly.newPlot(                        \"472d2430-67f4-4009-b2fc-379183f24ef5\",                        [{\"dimensions\":[{\"label\":\"Objective Value\",\"range\":[0.469696968793869,0.8787878751754761],\"values\":[0.5454545617103577,0.7303030490875244,0.8060606122016907,0.8333333134651184,0.7333333492279053,0.8060606122016907,0.7848485112190247,0.8272727131843567,0.7939394116401672,0.739393949508667,0.8606060743331909,0.7939394116401672,0.8363636136054993,0.7818182110786438,0.8545454740524292,0.49696969985961914,0.800000011920929,0.7515151500701904,0.8030303120613098,0.8575757741928101,0.8090909123420715,0.8181818127632141,0.539393961429596,0.5181818008422852,0.8333333134651184,0.8515151739120483,0.5303030014038086,0.760606050491333,0.7575757503509521,0.7060605883598328,0.469696968793869,0.7030302882194519,0.7787878513336182,0.8090909123420715,0.7909091114997864,0.821212112903595,0.6878787875175476,0.7272727489471436,0.842424213886261,0.8393939137458801,0.6727272868156433,0.7151514887809753,0.8181818127632141,0.8060606122016907,0.8303030133247375,0.8787878751754761,0.7181817889213562,0.5090909004211426,0.521212100982666,0.760606050491333,0.8545454740524292,0.800000011920929,0.8272727131843567,0.8515151739120483,0.7939394116401672,0.7151514887809753,0.7060605883598328,0.8303030133247375,0.7818182110786438,0.7545454502105713,0.8303030133247375,0.8303030133247375,0.800000011920929,0.7515151500701904,0.4939393997192383,0.7333333492279053,0.5,0.5242424011230469,0.821212112903595,0.7757575511932373,0.8393939137458801,0.469696968793869,0.7545454502105713,0.596969723701477,0.521212100982666,0.7575757503509521,0.8030303120613098,0.8181818127632141,0.8545454740524292,0.7848485112190247,0.8454545736312866,0.8696969747543335,0.521212100982666,0.8181818127632141,0.8272727131843567,0.8181818127632141,0.7545454502105713,0.5151515007019043,0.8121212124824524,0.8242424130439758,0.8333333134651184,0.581818163394928,0.5090909004211426,0.5060606002807617,0.8303030133247375,0.8121212124824524,0.7969697117805481,0.821212112903595,0.5060606002807617,0.800000011920929,0.7787878513336182,0.800000011920929,0.5121212005615234,0.7757575511932373,0.521212100982666,0.821212112903595,0.8696969747543335,0.821212112903595,0.7878788113594055,0.7939394116401672,0.8272727131843567,0.7666666507720947,0.5090909004211426,0.7909091114997864]},{\"label\":\"wavelet\",\"range\":[0,20],\"ticktext\":[\"gaus6\",\"gaus4\",\"cgau6\",\"cgau4\",\"cmor\",\"cgau5\",\"cgau3\",\"cgau2\",\"gaus5\",\"shan\",\"gaus7\",\"gaus8\",\"fbsp\",\"gaus2\",\"cgau7\",\"gaus1\",\"morl\",\"cgau8\",\"mexh\",\"cgau1\",\"gaus3\"],\"tickvals\":[0,1,2,3,4,5,6,7,8,9,10,11,12,13,14,15,16,17,18,19,20],\"values\":[0,1,0,2,0,3,4,3,5,6,7,3,8,2,2,2,7,8,7,9,10,7,11,12,9,9,9,9,9,13,14,15,15,16,17,16,16,18,19,20,18,19,4,0,19,19,19,19,1,1,9,2,2,2,5,5,9,9,9,9,6,2,10,7,7,7,7,12,11,3,11,11,3,13,14,13,13,14,2,8,8,17,2,2,17,17,17,2,17,20,2,20,2,9,4,20,8,4,8,9,4,9,9,9,0,0,6,19,19,19,6,19,6,6]}],\"labelangle\":30,\"labelside\":\"bottom\",\"line\":{\"color\":[0.5454545617103577,0.7303030490875244,0.8060606122016907,0.8333333134651184,0.7333333492279053,0.8060606122016907,0.7848485112190247,0.8272727131843567,0.7939394116401672,0.739393949508667,0.8606060743331909,0.7939394116401672,0.8363636136054993,0.7818182110786438,0.8545454740524292,0.49696969985961914,0.800000011920929,0.7515151500701904,0.8030303120613098,0.8575757741928101,0.8090909123420715,0.8181818127632141,0.539393961429596,0.5181818008422852,0.8333333134651184,0.8515151739120483,0.5303030014038086,0.760606050491333,0.7575757503509521,0.7060605883598328,0.469696968793869,0.7030302882194519,0.7787878513336182,0.8090909123420715,0.7909091114997864,0.821212112903595,0.6878787875175476,0.7272727489471436,0.842424213886261,0.8393939137458801,0.6727272868156433,0.7151514887809753,0.8181818127632141,0.8060606122016907,0.8303030133247375,0.8787878751754761,0.7181817889213562,0.5090909004211426,0.521212100982666,0.760606050491333,0.8545454740524292,0.800000011920929,0.8272727131843567,0.8515151739120483,0.7939394116401672,0.7151514887809753,0.7060605883598328,0.8303030133247375,0.7818182110786438,0.7545454502105713,0.8303030133247375,0.8303030133247375,0.800000011920929,0.7515151500701904,0.4939393997192383,0.7333333492279053,0.5,0.5242424011230469,0.821212112903595,0.7757575511932373,0.8393939137458801,0.469696968793869,0.7545454502105713,0.596969723701477,0.521212100982666,0.7575757503509521,0.8030303120613098,0.8181818127632141,0.8545454740524292,0.7848485112190247,0.8454545736312866,0.8696969747543335,0.521212100982666,0.8181818127632141,0.8272727131843567,0.8181818127632141,0.7545454502105713,0.5151515007019043,0.8121212124824524,0.8242424130439758,0.8333333134651184,0.581818163394928,0.5090909004211426,0.5060606002807617,0.8303030133247375,0.8121212124824524,0.7969697117805481,0.821212112903595,0.5060606002807617,0.800000011920929,0.7787878513336182,0.800000011920929,0.5121212005615234,0.7757575511932373,0.521212100982666,0.821212112903595,0.8696969747543335,0.821212112903595,0.7878788113594055,0.7939394116401672,0.8272727131843567,0.7666666507720947,0.5090909004211426,0.7909091114997864],\"colorbar\":{\"title\":{\"text\":\"Objective Value\"}},\"colorscale\":[[0.0,\"rgb(247,251,255)\"],[0.125,\"rgb(222,235,247)\"],[0.25,\"rgb(198,219,239)\"],[0.375,\"rgb(158,202,225)\"],[0.5,\"rgb(107,174,214)\"],[0.625,\"rgb(66,146,198)\"],[0.75,\"rgb(33,113,181)\"],[0.875,\"rgb(8,81,156)\"],[1.0,\"rgb(8,48,107)\"]],\"reversescale\":false,\"showscale\":true},\"type\":\"parcoords\"}],                        {\"title\":{\"text\":\"Parallel Coordinate Plot\"},\"template\":{\"data\":{\"histogram2dcontour\":[{\"type\":\"histogram2dcontour\",\"colorbar\":{\"outlinewidth\":0,\"ticks\":\"\"},\"colorscale\":[[0.0,\"#0d0887\"],[0.1111111111111111,\"#46039f\"],[0.2222222222222222,\"#7201a8\"],[0.3333333333333333,\"#9c179e\"],[0.4444444444444444,\"#bd3786\"],[0.5555555555555556,\"#d8576b\"],[0.6666666666666666,\"#ed7953\"],[0.7777777777777778,\"#fb9f3a\"],[0.8888888888888888,\"#fdca26\"],[1.0,\"#f0f921\"]]}],\"choropleth\":[{\"type\":\"choropleth\",\"colorbar\":{\"outlinewidth\":0,\"ticks\":\"\"}}],\"histogram2d\":[{\"type\":\"histogram2d\",\"colorbar\":{\"outlinewidth\":0,\"ticks\":\"\"},\"colorscale\":[[0.0,\"#0d0887\"],[0.1111111111111111,\"#46039f\"],[0.2222222222222222,\"#7201a8\"],[0.3333333333333333,\"#9c179e\"],[0.4444444444444444,\"#bd3786\"],[0.5555555555555556,\"#d8576b\"],[0.6666666666666666,\"#ed7953\"],[0.7777777777777778,\"#fb9f3a\"],[0.8888888888888888,\"#fdca26\"],[1.0,\"#f0f921\"]]}],\"heatmap\":[{\"type\":\"heatmap\",\"colorbar\":{\"outlinewidth\":0,\"ticks\":\"\"},\"colorscale\":[[0.0,\"#0d0887\"],[0.1111111111111111,\"#46039f\"],[0.2222222222222222,\"#7201a8\"],[0.3333333333333333,\"#9c179e\"],[0.4444444444444444,\"#bd3786\"],[0.5555555555555556,\"#d8576b\"],[0.6666666666666666,\"#ed7953\"],[0.7777777777777778,\"#fb9f3a\"],[0.8888888888888888,\"#fdca26\"],[1.0,\"#f0f921\"]]}],\"heatmapgl\":[{\"type\":\"heatmapgl\",\"colorbar\":{\"outlinewidth\":0,\"ticks\":\"\"},\"colorscale\":[[0.0,\"#0d0887\"],[0.1111111111111111,\"#46039f\"],[0.2222222222222222,\"#7201a8\"],[0.3333333333333333,\"#9c179e\"],[0.4444444444444444,\"#bd3786\"],[0.5555555555555556,\"#d8576b\"],[0.6666666666666666,\"#ed7953\"],[0.7777777777777778,\"#fb9f3a\"],[0.8888888888888888,\"#fdca26\"],[1.0,\"#f0f921\"]]}],\"contourcarpet\":[{\"type\":\"contourcarpet\",\"colorbar\":{\"outlinewidth\":0,\"ticks\":\"\"}}],\"contour\":[{\"type\":\"contour\",\"colorbar\":{\"outlinewidth\":0,\"ticks\":\"\"},\"colorscale\":[[0.0,\"#0d0887\"],[0.1111111111111111,\"#46039f\"],[0.2222222222222222,\"#7201a8\"],[0.3333333333333333,\"#9c179e\"],[0.4444444444444444,\"#bd3786\"],[0.5555555555555556,\"#d8576b\"],[0.6666666666666666,\"#ed7953\"],[0.7777777777777778,\"#fb9f3a\"],[0.8888888888888888,\"#fdca26\"],[1.0,\"#f0f921\"]]}],\"surface\":[{\"type\":\"surface\",\"colorbar\":{\"outlinewidth\":0,\"ticks\":\"\"},\"colorscale\":[[0.0,\"#0d0887\"],[0.1111111111111111,\"#46039f\"],[0.2222222222222222,\"#7201a8\"],[0.3333333333333333,\"#9c179e\"],[0.4444444444444444,\"#bd3786\"],[0.5555555555555556,\"#d8576b\"],[0.6666666666666666,\"#ed7953\"],[0.7777777777777778,\"#fb9f3a\"],[0.8888888888888888,\"#fdca26\"],[1.0,\"#f0f921\"]]}],\"mesh3d\":[{\"type\":\"mesh3d\",\"colorbar\":{\"outlinewidth\":0,\"ticks\":\"\"}}],\"scatter\":[{\"fillpattern\":{\"fillmode\":\"overlay\",\"size\":10,\"solidity\":0.2},\"type\":\"scatter\"}],\"parcoords\":[{\"type\":\"parcoords\",\"line\":{\"colorbar\":{\"outlinewidth\":0,\"ticks\":\"\"}}}],\"scatterpolargl\":[{\"type\":\"scatterpolargl\",\"marker\":{\"colorbar\":{\"outlinewidth\":0,\"ticks\":\"\"}}}],\"bar\":[{\"error_x\":{\"color\":\"#2a3f5f\"},\"error_y\":{\"color\":\"#2a3f5f\"},\"marker\":{\"line\":{\"color\":\"#E5ECF6\",\"width\":0.5},\"pattern\":{\"fillmode\":\"overlay\",\"size\":10,\"solidity\":0.2}},\"type\":\"bar\"}],\"scattergeo\":[{\"type\":\"scattergeo\",\"marker\":{\"colorbar\":{\"outlinewidth\":0,\"ticks\":\"\"}}}],\"scatterpolar\":[{\"type\":\"scatterpolar\",\"marker\":{\"colorbar\":{\"outlinewidth\":0,\"ticks\":\"\"}}}],\"histogram\":[{\"marker\":{\"pattern\":{\"fillmode\":\"overlay\",\"size\":10,\"solidity\":0.2}},\"type\":\"histogram\"}],\"scattergl\":[{\"type\":\"scattergl\",\"marker\":{\"colorbar\":{\"outlinewidth\":0,\"ticks\":\"\"}}}],\"scatter3d\":[{\"type\":\"scatter3d\",\"line\":{\"colorbar\":{\"outlinewidth\":0,\"ticks\":\"\"}},\"marker\":{\"colorbar\":{\"outlinewidth\":0,\"ticks\":\"\"}}}],\"scattermapbox\":[{\"type\":\"scattermapbox\",\"marker\":{\"colorbar\":{\"outlinewidth\":0,\"ticks\":\"\"}}}],\"scatterternary\":[{\"type\":\"scatterternary\",\"marker\":{\"colorbar\":{\"outlinewidth\":0,\"ticks\":\"\"}}}],\"scattercarpet\":[{\"type\":\"scattercarpet\",\"marker\":{\"colorbar\":{\"outlinewidth\":0,\"ticks\":\"\"}}}],\"carpet\":[{\"aaxis\":{\"endlinecolor\":\"#2a3f5f\",\"gridcolor\":\"white\",\"linecolor\":\"white\",\"minorgridcolor\":\"white\",\"startlinecolor\":\"#2a3f5f\"},\"baxis\":{\"endlinecolor\":\"#2a3f5f\",\"gridcolor\":\"white\",\"linecolor\":\"white\",\"minorgridcolor\":\"white\",\"startlinecolor\":\"#2a3f5f\"},\"type\":\"carpet\"}],\"table\":[{\"cells\":{\"fill\":{\"color\":\"#EBF0F8\"},\"line\":{\"color\":\"white\"}},\"header\":{\"fill\":{\"color\":\"#C8D4E3\"},\"line\":{\"color\":\"white\"}},\"type\":\"table\"}],\"barpolar\":[{\"marker\":{\"line\":{\"color\":\"#E5ECF6\",\"width\":0.5},\"pattern\":{\"fillmode\":\"overlay\",\"size\":10,\"solidity\":0.2}},\"type\":\"barpolar\"}],\"pie\":[{\"automargin\":true,\"type\":\"pie\"}]},\"layout\":{\"autotypenumbers\":\"strict\",\"colorway\":[\"#636efa\",\"#EF553B\",\"#00cc96\",\"#ab63fa\",\"#FFA15A\",\"#19d3f3\",\"#FF6692\",\"#B6E880\",\"#FF97FF\",\"#FECB52\"],\"font\":{\"color\":\"#2a3f5f\"},\"hovermode\":\"closest\",\"hoverlabel\":{\"align\":\"left\"},\"paper_bgcolor\":\"white\",\"plot_bgcolor\":\"#E5ECF6\",\"polar\":{\"bgcolor\":\"#E5ECF6\",\"angularaxis\":{\"gridcolor\":\"white\",\"linecolor\":\"white\",\"ticks\":\"\"},\"radialaxis\":{\"gridcolor\":\"white\",\"linecolor\":\"white\",\"ticks\":\"\"}},\"ternary\":{\"bgcolor\":\"#E5ECF6\",\"aaxis\":{\"gridcolor\":\"white\",\"linecolor\":\"white\",\"ticks\":\"\"},\"baxis\":{\"gridcolor\":\"white\",\"linecolor\":\"white\",\"ticks\":\"\"},\"caxis\":{\"gridcolor\":\"white\",\"linecolor\":\"white\",\"ticks\":\"\"}},\"coloraxis\":{\"colorbar\":{\"outlinewidth\":0,\"ticks\":\"\"}},\"colorscale\":{\"sequential\":[[0.0,\"#0d0887\"],[0.1111111111111111,\"#46039f\"],[0.2222222222222222,\"#7201a8\"],[0.3333333333333333,\"#9c179e\"],[0.4444444444444444,\"#bd3786\"],[0.5555555555555556,\"#d8576b\"],[0.6666666666666666,\"#ed7953\"],[0.7777777777777778,\"#fb9f3a\"],[0.8888888888888888,\"#fdca26\"],[1.0,\"#f0f921\"]],\"sequentialminus\":[[0.0,\"#0d0887\"],[0.1111111111111111,\"#46039f\"],[0.2222222222222222,\"#7201a8\"],[0.3333333333333333,\"#9c179e\"],[0.4444444444444444,\"#bd3786\"],[0.5555555555555556,\"#d8576b\"],[0.6666666666666666,\"#ed7953\"],[0.7777777777777778,\"#fb9f3a\"],[0.8888888888888888,\"#fdca26\"],[1.0,\"#f0f921\"]],\"diverging\":[[0,\"#8e0152\"],[0.1,\"#c51b7d\"],[0.2,\"#de77ae\"],[0.3,\"#f1b6da\"],[0.4,\"#fde0ef\"],[0.5,\"#f7f7f7\"],[0.6,\"#e6f5d0\"],[0.7,\"#b8e186\"],[0.8,\"#7fbc41\"],[0.9,\"#4d9221\"],[1,\"#276419\"]]},\"xaxis\":{\"gridcolor\":\"white\",\"linecolor\":\"white\",\"ticks\":\"\",\"title\":{\"standoff\":15},\"zerolinecolor\":\"white\",\"automargin\":true,\"zerolinewidth\":2},\"yaxis\":{\"gridcolor\":\"white\",\"linecolor\":\"white\",\"ticks\":\"\",\"title\":{\"standoff\":15},\"zerolinecolor\":\"white\",\"automargin\":true,\"zerolinewidth\":2},\"scene\":{\"xaxis\":{\"backgroundcolor\":\"#E5ECF6\",\"gridcolor\":\"white\",\"linecolor\":\"white\",\"showbackground\":true,\"ticks\":\"\",\"zerolinecolor\":\"white\",\"gridwidth\":2},\"yaxis\":{\"backgroundcolor\":\"#E5ECF6\",\"gridcolor\":\"white\",\"linecolor\":\"white\",\"showbackground\":true,\"ticks\":\"\",\"zerolinecolor\":\"white\",\"gridwidth\":2},\"zaxis\":{\"backgroundcolor\":\"#E5ECF6\",\"gridcolor\":\"white\",\"linecolor\":\"white\",\"showbackground\":true,\"ticks\":\"\",\"zerolinecolor\":\"white\",\"gridwidth\":2}},\"shapedefaults\":{\"line\":{\"color\":\"#2a3f5f\"}},\"annotationdefaults\":{\"arrowcolor\":\"#2a3f5f\",\"arrowhead\":0,\"arrowwidth\":1},\"geo\":{\"bgcolor\":\"white\",\"landcolor\":\"#E5ECF6\",\"subunitcolor\":\"white\",\"showland\":true,\"showlakes\":true,\"lakecolor\":\"white\"},\"title\":{\"x\":0.05},\"mapbox\":{\"style\":\"light\"}}}},                        {\"responsive\": true}                    ).then(function(){\n",
       "                            \n",
       "var gd = document.getElementById('472d2430-67f4-4009-b2fc-379183f24ef5');\n",
       "var x = new MutationObserver(function (mutations, observer) {{\n",
       "        var display = window.getComputedStyle(gd).display;\n",
       "        if (!display || display === 'none') {{\n",
       "            console.log([gd, 'removed!']);\n",
       "            Plotly.purge(gd);\n",
       "            observer.disconnect();\n",
       "        }}\n",
       "}});\n",
       "\n",
       "// Listen for the removal of the full notebook cells\n",
       "var notebookContainer = gd.closest('#notebook-container');\n",
       "if (notebookContainer) {{\n",
       "    x.observe(notebookContainer, {childList: true});\n",
       "}}\n",
       "\n",
       "// Listen for the clearing of the current output cell\n",
       "var outputEl = gd.closest('.output');\n",
       "if (outputEl) {{\n",
       "    x.observe(outputEl, {childList: true});\n",
       "}}\n",
       "\n",
       "                        })                };                });            </script>        </div>"
      ]
     },
     "metadata": {},
     "output_type": "display_data"
    }
   ],
   "source": [
    "visualization.plot_parallel_coordinate(study)"
   ]
  },
  {
   "cell_type": "code",
   "execution_count": 8,
   "id": "892ef1fc",
   "metadata": {},
   "outputs": [
    {
     "data": {
      "application/vnd.plotly.v1+json": {
       "config": {
        "plotlyServerURL": "https://plot.ly"
       },
       "data": [],
       "layout": {
        "template": {
         "data": {
          "bar": [
           {
            "error_x": {
             "color": "#2a3f5f"
            },
            "error_y": {
             "color": "#2a3f5f"
            },
            "marker": {
             "line": {
              "color": "#E5ECF6",
              "width": 0.5
             },
             "pattern": {
              "fillmode": "overlay",
              "size": 10,
              "solidity": 0.2
             }
            },
            "type": "bar"
           }
          ],
          "barpolar": [
           {
            "marker": {
             "line": {
              "color": "#E5ECF6",
              "width": 0.5
             },
             "pattern": {
              "fillmode": "overlay",
              "size": 10,
              "solidity": 0.2
             }
            },
            "type": "barpolar"
           }
          ],
          "carpet": [
           {
            "aaxis": {
             "endlinecolor": "#2a3f5f",
             "gridcolor": "white",
             "linecolor": "white",
             "minorgridcolor": "white",
             "startlinecolor": "#2a3f5f"
            },
            "baxis": {
             "endlinecolor": "#2a3f5f",
             "gridcolor": "white",
             "linecolor": "white",
             "minorgridcolor": "white",
             "startlinecolor": "#2a3f5f"
            },
            "type": "carpet"
           }
          ],
          "choropleth": [
           {
            "colorbar": {
             "outlinewidth": 0,
             "ticks": ""
            },
            "type": "choropleth"
           }
          ],
          "contour": [
           {
            "colorbar": {
             "outlinewidth": 0,
             "ticks": ""
            },
            "colorscale": [
             [
              0,
              "#0d0887"
             ],
             [
              0.1111111111111111,
              "#46039f"
             ],
             [
              0.2222222222222222,
              "#7201a8"
             ],
             [
              0.3333333333333333,
              "#9c179e"
             ],
             [
              0.4444444444444444,
              "#bd3786"
             ],
             [
              0.5555555555555556,
              "#d8576b"
             ],
             [
              0.6666666666666666,
              "#ed7953"
             ],
             [
              0.7777777777777778,
              "#fb9f3a"
             ],
             [
              0.8888888888888888,
              "#fdca26"
             ],
             [
              1,
              "#f0f921"
             ]
            ],
            "type": "contour"
           }
          ],
          "contourcarpet": [
           {
            "colorbar": {
             "outlinewidth": 0,
             "ticks": ""
            },
            "type": "contourcarpet"
           }
          ],
          "heatmap": [
           {
            "colorbar": {
             "outlinewidth": 0,
             "ticks": ""
            },
            "colorscale": [
             [
              0,
              "#0d0887"
             ],
             [
              0.1111111111111111,
              "#46039f"
             ],
             [
              0.2222222222222222,
              "#7201a8"
             ],
             [
              0.3333333333333333,
              "#9c179e"
             ],
             [
              0.4444444444444444,
              "#bd3786"
             ],
             [
              0.5555555555555556,
              "#d8576b"
             ],
             [
              0.6666666666666666,
              "#ed7953"
             ],
             [
              0.7777777777777778,
              "#fb9f3a"
             ],
             [
              0.8888888888888888,
              "#fdca26"
             ],
             [
              1,
              "#f0f921"
             ]
            ],
            "type": "heatmap"
           }
          ],
          "heatmapgl": [
           {
            "colorbar": {
             "outlinewidth": 0,
             "ticks": ""
            },
            "colorscale": [
             [
              0,
              "#0d0887"
             ],
             [
              0.1111111111111111,
              "#46039f"
             ],
             [
              0.2222222222222222,
              "#7201a8"
             ],
             [
              0.3333333333333333,
              "#9c179e"
             ],
             [
              0.4444444444444444,
              "#bd3786"
             ],
             [
              0.5555555555555556,
              "#d8576b"
             ],
             [
              0.6666666666666666,
              "#ed7953"
             ],
             [
              0.7777777777777778,
              "#fb9f3a"
             ],
             [
              0.8888888888888888,
              "#fdca26"
             ],
             [
              1,
              "#f0f921"
             ]
            ],
            "type": "heatmapgl"
           }
          ],
          "histogram": [
           {
            "marker": {
             "pattern": {
              "fillmode": "overlay",
              "size": 10,
              "solidity": 0.2
             }
            },
            "type": "histogram"
           }
          ],
          "histogram2d": [
           {
            "colorbar": {
             "outlinewidth": 0,
             "ticks": ""
            },
            "colorscale": [
             [
              0,
              "#0d0887"
             ],
             [
              0.1111111111111111,
              "#46039f"
             ],
             [
              0.2222222222222222,
              "#7201a8"
             ],
             [
              0.3333333333333333,
              "#9c179e"
             ],
             [
              0.4444444444444444,
              "#bd3786"
             ],
             [
              0.5555555555555556,
              "#d8576b"
             ],
             [
              0.6666666666666666,
              "#ed7953"
             ],
             [
              0.7777777777777778,
              "#fb9f3a"
             ],
             [
              0.8888888888888888,
              "#fdca26"
             ],
             [
              1,
              "#f0f921"
             ]
            ],
            "type": "histogram2d"
           }
          ],
          "histogram2dcontour": [
           {
            "colorbar": {
             "outlinewidth": 0,
             "ticks": ""
            },
            "colorscale": [
             [
              0,
              "#0d0887"
             ],
             [
              0.1111111111111111,
              "#46039f"
             ],
             [
              0.2222222222222222,
              "#7201a8"
             ],
             [
              0.3333333333333333,
              "#9c179e"
             ],
             [
              0.4444444444444444,
              "#bd3786"
             ],
             [
              0.5555555555555556,
              "#d8576b"
             ],
             [
              0.6666666666666666,
              "#ed7953"
             ],
             [
              0.7777777777777778,
              "#fb9f3a"
             ],
             [
              0.8888888888888888,
              "#fdca26"
             ],
             [
              1,
              "#f0f921"
             ]
            ],
            "type": "histogram2dcontour"
           }
          ],
          "mesh3d": [
           {
            "colorbar": {
             "outlinewidth": 0,
             "ticks": ""
            },
            "type": "mesh3d"
           }
          ],
          "parcoords": [
           {
            "line": {
             "colorbar": {
              "outlinewidth": 0,
              "ticks": ""
             }
            },
            "type": "parcoords"
           }
          ],
          "pie": [
           {
            "automargin": true,
            "type": "pie"
           }
          ],
          "scatter": [
           {
            "fillpattern": {
             "fillmode": "overlay",
             "size": 10,
             "solidity": 0.2
            },
            "type": "scatter"
           }
          ],
          "scatter3d": [
           {
            "line": {
             "colorbar": {
              "outlinewidth": 0,
              "ticks": ""
             }
            },
            "marker": {
             "colorbar": {
              "outlinewidth": 0,
              "ticks": ""
             }
            },
            "type": "scatter3d"
           }
          ],
          "scattercarpet": [
           {
            "marker": {
             "colorbar": {
              "outlinewidth": 0,
              "ticks": ""
             }
            },
            "type": "scattercarpet"
           }
          ],
          "scattergeo": [
           {
            "marker": {
             "colorbar": {
              "outlinewidth": 0,
              "ticks": ""
             }
            },
            "type": "scattergeo"
           }
          ],
          "scattergl": [
           {
            "marker": {
             "colorbar": {
              "outlinewidth": 0,
              "ticks": ""
             }
            },
            "type": "scattergl"
           }
          ],
          "scattermapbox": [
           {
            "marker": {
             "colorbar": {
              "outlinewidth": 0,
              "ticks": ""
             }
            },
            "type": "scattermapbox"
           }
          ],
          "scatterpolar": [
           {
            "marker": {
             "colorbar": {
              "outlinewidth": 0,
              "ticks": ""
             }
            },
            "type": "scatterpolar"
           }
          ],
          "scatterpolargl": [
           {
            "marker": {
             "colorbar": {
              "outlinewidth": 0,
              "ticks": ""
             }
            },
            "type": "scatterpolargl"
           }
          ],
          "scatterternary": [
           {
            "marker": {
             "colorbar": {
              "outlinewidth": 0,
              "ticks": ""
             }
            },
            "type": "scatterternary"
           }
          ],
          "surface": [
           {
            "colorbar": {
             "outlinewidth": 0,
             "ticks": ""
            },
            "colorscale": [
             [
              0,
              "#0d0887"
             ],
             [
              0.1111111111111111,
              "#46039f"
             ],
             [
              0.2222222222222222,
              "#7201a8"
             ],
             [
              0.3333333333333333,
              "#9c179e"
             ],
             [
              0.4444444444444444,
              "#bd3786"
             ],
             [
              0.5555555555555556,
              "#d8576b"
             ],
             [
              0.6666666666666666,
              "#ed7953"
             ],
             [
              0.7777777777777778,
              "#fb9f3a"
             ],
             [
              0.8888888888888888,
              "#fdca26"
             ],
             [
              1,
              "#f0f921"
             ]
            ],
            "type": "surface"
           }
          ],
          "table": [
           {
            "cells": {
             "fill": {
              "color": "#EBF0F8"
             },
             "line": {
              "color": "white"
             }
            },
            "header": {
             "fill": {
              "color": "#C8D4E3"
             },
             "line": {
              "color": "white"
             }
            },
            "type": "table"
           }
          ]
         },
         "layout": {
          "annotationdefaults": {
           "arrowcolor": "#2a3f5f",
           "arrowhead": 0,
           "arrowwidth": 1
          },
          "autotypenumbers": "strict",
          "coloraxis": {
           "colorbar": {
            "outlinewidth": 0,
            "ticks": ""
           }
          },
          "colorscale": {
           "diverging": [
            [
             0,
             "#8e0152"
            ],
            [
             0.1,
             "#c51b7d"
            ],
            [
             0.2,
             "#de77ae"
            ],
            [
             0.3,
             "#f1b6da"
            ],
            [
             0.4,
             "#fde0ef"
            ],
            [
             0.5,
             "#f7f7f7"
            ],
            [
             0.6,
             "#e6f5d0"
            ],
            [
             0.7,
             "#b8e186"
            ],
            [
             0.8,
             "#7fbc41"
            ],
            [
             0.9,
             "#4d9221"
            ],
            [
             1,
             "#276419"
            ]
           ],
           "sequential": [
            [
             0,
             "#0d0887"
            ],
            [
             0.1111111111111111,
             "#46039f"
            ],
            [
             0.2222222222222222,
             "#7201a8"
            ],
            [
             0.3333333333333333,
             "#9c179e"
            ],
            [
             0.4444444444444444,
             "#bd3786"
            ],
            [
             0.5555555555555556,
             "#d8576b"
            ],
            [
             0.6666666666666666,
             "#ed7953"
            ],
            [
             0.7777777777777778,
             "#fb9f3a"
            ],
            [
             0.8888888888888888,
             "#fdca26"
            ],
            [
             1,
             "#f0f921"
            ]
           ],
           "sequentialminus": [
            [
             0,
             "#0d0887"
            ],
            [
             0.1111111111111111,
             "#46039f"
            ],
            [
             0.2222222222222222,
             "#7201a8"
            ],
            [
             0.3333333333333333,
             "#9c179e"
            ],
            [
             0.4444444444444444,
             "#bd3786"
            ],
            [
             0.5555555555555556,
             "#d8576b"
            ],
            [
             0.6666666666666666,
             "#ed7953"
            ],
            [
             0.7777777777777778,
             "#fb9f3a"
            ],
            [
             0.8888888888888888,
             "#fdca26"
            ],
            [
             1,
             "#f0f921"
            ]
           ]
          },
          "colorway": [
           "#636efa",
           "#EF553B",
           "#00cc96",
           "#ab63fa",
           "#FFA15A",
           "#19d3f3",
           "#FF6692",
           "#B6E880",
           "#FF97FF",
           "#FECB52"
          ],
          "font": {
           "color": "#2a3f5f"
          },
          "geo": {
           "bgcolor": "white",
           "lakecolor": "white",
           "landcolor": "#E5ECF6",
           "showlakes": true,
           "showland": true,
           "subunitcolor": "white"
          },
          "hoverlabel": {
           "align": "left"
          },
          "hovermode": "closest",
          "mapbox": {
           "style": "light"
          },
          "paper_bgcolor": "white",
          "plot_bgcolor": "#E5ECF6",
          "polar": {
           "angularaxis": {
            "gridcolor": "white",
            "linecolor": "white",
            "ticks": ""
           },
           "bgcolor": "#E5ECF6",
           "radialaxis": {
            "gridcolor": "white",
            "linecolor": "white",
            "ticks": ""
           }
          },
          "scene": {
           "xaxis": {
            "backgroundcolor": "#E5ECF6",
            "gridcolor": "white",
            "gridwidth": 2,
            "linecolor": "white",
            "showbackground": true,
            "ticks": "",
            "zerolinecolor": "white"
           },
           "yaxis": {
            "backgroundcolor": "#E5ECF6",
            "gridcolor": "white",
            "gridwidth": 2,
            "linecolor": "white",
            "showbackground": true,
            "ticks": "",
            "zerolinecolor": "white"
           },
           "zaxis": {
            "backgroundcolor": "#E5ECF6",
            "gridcolor": "white",
            "gridwidth": 2,
            "linecolor": "white",
            "showbackground": true,
            "ticks": "",
            "zerolinecolor": "white"
           }
          },
          "shapedefaults": {
           "line": {
            "color": "#2a3f5f"
           }
          },
          "ternary": {
           "aaxis": {
            "gridcolor": "white",
            "linecolor": "white",
            "ticks": ""
           },
           "baxis": {
            "gridcolor": "white",
            "linecolor": "white",
            "ticks": ""
           },
           "bgcolor": "#E5ECF6",
           "caxis": {
            "gridcolor": "white",
            "linecolor": "white",
            "ticks": ""
           }
          },
          "title": {
           "x": 0.05
          },
          "xaxis": {
           "automargin": true,
           "gridcolor": "white",
           "linecolor": "white",
           "ticks": "",
           "title": {
            "standoff": 15
           },
           "zerolinecolor": "white",
           "zerolinewidth": 2
          },
          "yaxis": {
           "automargin": true,
           "gridcolor": "white",
           "linecolor": "white",
           "ticks": "",
           "title": {
            "standoff": 15
           },
           "zerolinecolor": "white",
           "zerolinewidth": 2
          }
         }
        },
        "title": {
         "text": "Contour Plot"
        }
       }
      },
      "text/html": [
       "<div>                            <div id=\"cea45e78-6a20-4509-81bc-868a469ac6fe\" class=\"plotly-graph-div\" style=\"height:525px; width:100%;\"></div>            <script type=\"text/javascript\">                require([\"plotly\"], function(Plotly) {                    window.PLOTLYENV=window.PLOTLYENV || {};                                    if (document.getElementById(\"cea45e78-6a20-4509-81bc-868a469ac6fe\")) {                    Plotly.newPlot(                        \"cea45e78-6a20-4509-81bc-868a469ac6fe\",                        [],                        {\"title\":{\"text\":\"Contour Plot\"},\"template\":{\"data\":{\"histogram2dcontour\":[{\"type\":\"histogram2dcontour\",\"colorbar\":{\"outlinewidth\":0,\"ticks\":\"\"},\"colorscale\":[[0.0,\"#0d0887\"],[0.1111111111111111,\"#46039f\"],[0.2222222222222222,\"#7201a8\"],[0.3333333333333333,\"#9c179e\"],[0.4444444444444444,\"#bd3786\"],[0.5555555555555556,\"#d8576b\"],[0.6666666666666666,\"#ed7953\"],[0.7777777777777778,\"#fb9f3a\"],[0.8888888888888888,\"#fdca26\"],[1.0,\"#f0f921\"]]}],\"choropleth\":[{\"type\":\"choropleth\",\"colorbar\":{\"outlinewidth\":0,\"ticks\":\"\"}}],\"histogram2d\":[{\"type\":\"histogram2d\",\"colorbar\":{\"outlinewidth\":0,\"ticks\":\"\"},\"colorscale\":[[0.0,\"#0d0887\"],[0.1111111111111111,\"#46039f\"],[0.2222222222222222,\"#7201a8\"],[0.3333333333333333,\"#9c179e\"],[0.4444444444444444,\"#bd3786\"],[0.5555555555555556,\"#d8576b\"],[0.6666666666666666,\"#ed7953\"],[0.7777777777777778,\"#fb9f3a\"],[0.8888888888888888,\"#fdca26\"],[1.0,\"#f0f921\"]]}],\"heatmap\":[{\"type\":\"heatmap\",\"colorbar\":{\"outlinewidth\":0,\"ticks\":\"\"},\"colorscale\":[[0.0,\"#0d0887\"],[0.1111111111111111,\"#46039f\"],[0.2222222222222222,\"#7201a8\"],[0.3333333333333333,\"#9c179e\"],[0.4444444444444444,\"#bd3786\"],[0.5555555555555556,\"#d8576b\"],[0.6666666666666666,\"#ed7953\"],[0.7777777777777778,\"#fb9f3a\"],[0.8888888888888888,\"#fdca26\"],[1.0,\"#f0f921\"]]}],\"heatmapgl\":[{\"type\":\"heatmapgl\",\"colorbar\":{\"outlinewidth\":0,\"ticks\":\"\"},\"colorscale\":[[0.0,\"#0d0887\"],[0.1111111111111111,\"#46039f\"],[0.2222222222222222,\"#7201a8\"],[0.3333333333333333,\"#9c179e\"],[0.4444444444444444,\"#bd3786\"],[0.5555555555555556,\"#d8576b\"],[0.6666666666666666,\"#ed7953\"],[0.7777777777777778,\"#fb9f3a\"],[0.8888888888888888,\"#fdca26\"],[1.0,\"#f0f921\"]]}],\"contourcarpet\":[{\"type\":\"contourcarpet\",\"colorbar\":{\"outlinewidth\":0,\"ticks\":\"\"}}],\"contour\":[{\"type\":\"contour\",\"colorbar\":{\"outlinewidth\":0,\"ticks\":\"\"},\"colorscale\":[[0.0,\"#0d0887\"],[0.1111111111111111,\"#46039f\"],[0.2222222222222222,\"#7201a8\"],[0.3333333333333333,\"#9c179e\"],[0.4444444444444444,\"#bd3786\"],[0.5555555555555556,\"#d8576b\"],[0.6666666666666666,\"#ed7953\"],[0.7777777777777778,\"#fb9f3a\"],[0.8888888888888888,\"#fdca26\"],[1.0,\"#f0f921\"]]}],\"surface\":[{\"type\":\"surface\",\"colorbar\":{\"outlinewidth\":0,\"ticks\":\"\"},\"colorscale\":[[0.0,\"#0d0887\"],[0.1111111111111111,\"#46039f\"],[0.2222222222222222,\"#7201a8\"],[0.3333333333333333,\"#9c179e\"],[0.4444444444444444,\"#bd3786\"],[0.5555555555555556,\"#d8576b\"],[0.6666666666666666,\"#ed7953\"],[0.7777777777777778,\"#fb9f3a\"],[0.8888888888888888,\"#fdca26\"],[1.0,\"#f0f921\"]]}],\"mesh3d\":[{\"type\":\"mesh3d\",\"colorbar\":{\"outlinewidth\":0,\"ticks\":\"\"}}],\"scatter\":[{\"fillpattern\":{\"fillmode\":\"overlay\",\"size\":10,\"solidity\":0.2},\"type\":\"scatter\"}],\"parcoords\":[{\"type\":\"parcoords\",\"line\":{\"colorbar\":{\"outlinewidth\":0,\"ticks\":\"\"}}}],\"scatterpolargl\":[{\"type\":\"scatterpolargl\",\"marker\":{\"colorbar\":{\"outlinewidth\":0,\"ticks\":\"\"}}}],\"bar\":[{\"error_x\":{\"color\":\"#2a3f5f\"},\"error_y\":{\"color\":\"#2a3f5f\"},\"marker\":{\"line\":{\"color\":\"#E5ECF6\",\"width\":0.5},\"pattern\":{\"fillmode\":\"overlay\",\"size\":10,\"solidity\":0.2}},\"type\":\"bar\"}],\"scattergeo\":[{\"type\":\"scattergeo\",\"marker\":{\"colorbar\":{\"outlinewidth\":0,\"ticks\":\"\"}}}],\"scatterpolar\":[{\"type\":\"scatterpolar\",\"marker\":{\"colorbar\":{\"outlinewidth\":0,\"ticks\":\"\"}}}],\"histogram\":[{\"marker\":{\"pattern\":{\"fillmode\":\"overlay\",\"size\":10,\"solidity\":0.2}},\"type\":\"histogram\"}],\"scattergl\":[{\"type\":\"scattergl\",\"marker\":{\"colorbar\":{\"outlinewidth\":0,\"ticks\":\"\"}}}],\"scatter3d\":[{\"type\":\"scatter3d\",\"line\":{\"colorbar\":{\"outlinewidth\":0,\"ticks\":\"\"}},\"marker\":{\"colorbar\":{\"outlinewidth\":0,\"ticks\":\"\"}}}],\"scattermapbox\":[{\"type\":\"scattermapbox\",\"marker\":{\"colorbar\":{\"outlinewidth\":0,\"ticks\":\"\"}}}],\"scatterternary\":[{\"type\":\"scatterternary\",\"marker\":{\"colorbar\":{\"outlinewidth\":0,\"ticks\":\"\"}}}],\"scattercarpet\":[{\"type\":\"scattercarpet\",\"marker\":{\"colorbar\":{\"outlinewidth\":0,\"ticks\":\"\"}}}],\"carpet\":[{\"aaxis\":{\"endlinecolor\":\"#2a3f5f\",\"gridcolor\":\"white\",\"linecolor\":\"white\",\"minorgridcolor\":\"white\",\"startlinecolor\":\"#2a3f5f\"},\"baxis\":{\"endlinecolor\":\"#2a3f5f\",\"gridcolor\":\"white\",\"linecolor\":\"white\",\"minorgridcolor\":\"white\",\"startlinecolor\":\"#2a3f5f\"},\"type\":\"carpet\"}],\"table\":[{\"cells\":{\"fill\":{\"color\":\"#EBF0F8\"},\"line\":{\"color\":\"white\"}},\"header\":{\"fill\":{\"color\":\"#C8D4E3\"},\"line\":{\"color\":\"white\"}},\"type\":\"table\"}],\"barpolar\":[{\"marker\":{\"line\":{\"color\":\"#E5ECF6\",\"width\":0.5},\"pattern\":{\"fillmode\":\"overlay\",\"size\":10,\"solidity\":0.2}},\"type\":\"barpolar\"}],\"pie\":[{\"automargin\":true,\"type\":\"pie\"}]},\"layout\":{\"autotypenumbers\":\"strict\",\"colorway\":[\"#636efa\",\"#EF553B\",\"#00cc96\",\"#ab63fa\",\"#FFA15A\",\"#19d3f3\",\"#FF6692\",\"#B6E880\",\"#FF97FF\",\"#FECB52\"],\"font\":{\"color\":\"#2a3f5f\"},\"hovermode\":\"closest\",\"hoverlabel\":{\"align\":\"left\"},\"paper_bgcolor\":\"white\",\"plot_bgcolor\":\"#E5ECF6\",\"polar\":{\"bgcolor\":\"#E5ECF6\",\"angularaxis\":{\"gridcolor\":\"white\",\"linecolor\":\"white\",\"ticks\":\"\"},\"radialaxis\":{\"gridcolor\":\"white\",\"linecolor\":\"white\",\"ticks\":\"\"}},\"ternary\":{\"bgcolor\":\"#E5ECF6\",\"aaxis\":{\"gridcolor\":\"white\",\"linecolor\":\"white\",\"ticks\":\"\"},\"baxis\":{\"gridcolor\":\"white\",\"linecolor\":\"white\",\"ticks\":\"\"},\"caxis\":{\"gridcolor\":\"white\",\"linecolor\":\"white\",\"ticks\":\"\"}},\"coloraxis\":{\"colorbar\":{\"outlinewidth\":0,\"ticks\":\"\"}},\"colorscale\":{\"sequential\":[[0.0,\"#0d0887\"],[0.1111111111111111,\"#46039f\"],[0.2222222222222222,\"#7201a8\"],[0.3333333333333333,\"#9c179e\"],[0.4444444444444444,\"#bd3786\"],[0.5555555555555556,\"#d8576b\"],[0.6666666666666666,\"#ed7953\"],[0.7777777777777778,\"#fb9f3a\"],[0.8888888888888888,\"#fdca26\"],[1.0,\"#f0f921\"]],\"sequentialminus\":[[0.0,\"#0d0887\"],[0.1111111111111111,\"#46039f\"],[0.2222222222222222,\"#7201a8\"],[0.3333333333333333,\"#9c179e\"],[0.4444444444444444,\"#bd3786\"],[0.5555555555555556,\"#d8576b\"],[0.6666666666666666,\"#ed7953\"],[0.7777777777777778,\"#fb9f3a\"],[0.8888888888888888,\"#fdca26\"],[1.0,\"#f0f921\"]],\"diverging\":[[0,\"#8e0152\"],[0.1,\"#c51b7d\"],[0.2,\"#de77ae\"],[0.3,\"#f1b6da\"],[0.4,\"#fde0ef\"],[0.5,\"#f7f7f7\"],[0.6,\"#e6f5d0\"],[0.7,\"#b8e186\"],[0.8,\"#7fbc41\"],[0.9,\"#4d9221\"],[1,\"#276419\"]]},\"xaxis\":{\"gridcolor\":\"white\",\"linecolor\":\"white\",\"ticks\":\"\",\"title\":{\"standoff\":15},\"zerolinecolor\":\"white\",\"automargin\":true,\"zerolinewidth\":2},\"yaxis\":{\"gridcolor\":\"white\",\"linecolor\":\"white\",\"ticks\":\"\",\"title\":{\"standoff\":15},\"zerolinecolor\":\"white\",\"automargin\":true,\"zerolinewidth\":2},\"scene\":{\"xaxis\":{\"backgroundcolor\":\"#E5ECF6\",\"gridcolor\":\"white\",\"linecolor\":\"white\",\"showbackground\":true,\"ticks\":\"\",\"zerolinecolor\":\"white\",\"gridwidth\":2},\"yaxis\":{\"backgroundcolor\":\"#E5ECF6\",\"gridcolor\":\"white\",\"linecolor\":\"white\",\"showbackground\":true,\"ticks\":\"\",\"zerolinecolor\":\"white\",\"gridwidth\":2},\"zaxis\":{\"backgroundcolor\":\"#E5ECF6\",\"gridcolor\":\"white\",\"linecolor\":\"white\",\"showbackground\":true,\"ticks\":\"\",\"zerolinecolor\":\"white\",\"gridwidth\":2}},\"shapedefaults\":{\"line\":{\"color\":\"#2a3f5f\"}},\"annotationdefaults\":{\"arrowcolor\":\"#2a3f5f\",\"arrowhead\":0,\"arrowwidth\":1},\"geo\":{\"bgcolor\":\"white\",\"landcolor\":\"#E5ECF6\",\"subunitcolor\":\"white\",\"showland\":true,\"showlakes\":true,\"lakecolor\":\"white\"},\"title\":{\"x\":0.05},\"mapbox\":{\"style\":\"light\"}}}},                        {\"responsive\": true}                    ).then(function(){\n",
       "                            \n",
       "var gd = document.getElementById('cea45e78-6a20-4509-81bc-868a469ac6fe');\n",
       "var x = new MutationObserver(function (mutations, observer) {{\n",
       "        var display = window.getComputedStyle(gd).display;\n",
       "        if (!display || display === 'none') {{\n",
       "            console.log([gd, 'removed!']);\n",
       "            Plotly.purge(gd);\n",
       "            observer.disconnect();\n",
       "        }}\n",
       "}});\n",
       "\n",
       "// Listen for the removal of the full notebook cells\n",
       "var notebookContainer = gd.closest('#notebook-container');\n",
       "if (notebookContainer) {{\n",
       "    x.observe(notebookContainer, {childList: true});\n",
       "}}\n",
       "\n",
       "// Listen for the clearing of the current output cell\n",
       "var outputEl = gd.closest('.output');\n",
       "if (outputEl) {{\n",
       "    x.observe(outputEl, {childList: true});\n",
       "}}\n",
       "\n",
       "                        })                };                });            </script>        </div>"
      ]
     },
     "metadata": {},
     "output_type": "display_data"
    }
   ],
   "source": [
    "visualization.plot_contour(study)"
   ]
  },
  {
   "cell_type": "code",
   "execution_count": 9,
   "id": "bcd7143c",
   "metadata": {},
   "outputs": [
    {
     "data": {
      "application/vnd.plotly.v1+json": {
       "config": {
        "plotlyServerURL": "https://plot.ly"
       },
       "data": [
        {
         "marker": {
          "color": [
           0,
           1,
           2,
           3,
           4,
           5,
           6,
           7,
           8,
           9,
           10,
           11,
           12,
           13,
           14,
           15,
           16,
           17,
           18,
           19,
           20,
           21,
           22,
           23,
           24,
           25,
           26,
           27,
           28,
           29,
           30,
           31,
           32,
           33,
           34,
           35,
           36,
           37,
           38,
           39,
           40,
           41,
           42,
           43,
           44,
           45,
           46,
           47,
           48,
           49,
           50,
           51,
           52,
           53,
           54,
           55,
           56,
           57,
           58,
           59,
           60,
           61,
           62,
           63,
           64,
           65,
           66,
           67,
           68,
           69,
           70,
           71,
           72,
           73,
           74,
           75,
           76,
           77,
           78,
           79,
           80,
           81,
           82,
           83,
           84,
           85,
           86,
           87,
           88,
           89,
           90,
           91,
           92,
           93,
           94,
           95,
           96,
           97,
           98,
           99,
           100,
           101,
           102,
           103,
           104,
           105,
           106,
           107,
           108,
           109,
           110,
           111,
           112,
           113
          ],
          "colorbar": {
           "title": {
            "text": "Trial"
           },
           "x": 1,
           "xpad": 40
          },
          "colorscale": [
           [
            0,
            "rgb(247,251,255)"
           ],
           [
            0.125,
            "rgb(222,235,247)"
           ],
           [
            0.25,
            "rgb(198,219,239)"
           ],
           [
            0.375,
            "rgb(158,202,225)"
           ],
           [
            0.5,
            "rgb(107,174,214)"
           ],
           [
            0.625,
            "rgb(66,146,198)"
           ],
           [
            0.75,
            "rgb(33,113,181)"
           ],
           [
            0.875,
            "rgb(8,81,156)"
           ],
           [
            1,
            "rgb(8,48,107)"
           ]
          ],
          "line": {
           "color": "Grey",
           "width": 0.5
          }
         },
         "mode": "markers",
         "showlegend": false,
         "type": "scatter",
         "x": [
          "gaus6",
          "gaus4",
          "gaus6",
          "cgau6",
          "gaus6",
          "cgau4",
          "cmor",
          "cgau4",
          "cgau5",
          "cgau3",
          "cgau2",
          "cgau4",
          "gaus5",
          "cgau6",
          "cgau6",
          "cgau6",
          "cgau2",
          "gaus5",
          "cgau2",
          "shan",
          "gaus7",
          "cgau2",
          "gaus8",
          "fbsp",
          "shan",
          "shan",
          "shan",
          "shan",
          "shan",
          "gaus2",
          "cgau7",
          "gaus1",
          "gaus1",
          "morl",
          "cgau8",
          "morl",
          "morl",
          "mexh",
          "cgau1",
          "gaus3",
          "mexh",
          "cgau1",
          "cmor",
          "gaus6",
          "cgau1",
          "cgau1",
          "cgau1",
          "cgau1",
          "gaus4",
          "gaus4",
          "shan",
          "cgau6",
          "cgau6",
          "cgau6",
          "cgau5",
          "cgau5",
          "shan",
          "shan",
          "shan",
          "shan",
          "cgau3",
          "cgau6",
          "gaus7",
          "cgau2",
          "cgau2",
          "cgau2",
          "cgau2",
          "fbsp",
          "gaus8",
          "cgau4",
          "gaus8",
          "gaus8",
          "cgau4",
          "gaus2",
          "cgau7",
          "gaus2",
          "gaus2",
          "cgau7",
          "cgau6",
          "gaus5",
          "gaus5",
          "cgau8",
          "cgau6",
          "cgau6",
          "cgau8",
          "cgau8",
          "cgau8",
          "cgau6",
          "cgau8",
          "gaus3",
          "cgau6",
          "gaus3",
          "cgau6",
          "shan",
          "cmor",
          "gaus3",
          "gaus5",
          "cmor",
          "gaus5",
          "shan",
          "cmor",
          "shan",
          "shan",
          "shan",
          "gaus6",
          "gaus6",
          "cgau3",
          "cgau1",
          "cgau1",
          "cgau1",
          "cgau3",
          "cgau1",
          "cgau3",
          "cgau3"
         ],
         "y": [
          0.5454545617103577,
          0.7303030490875244,
          0.8060606122016907,
          0.8333333134651184,
          0.7333333492279053,
          0.8060606122016907,
          0.7848485112190247,
          0.8272727131843567,
          0.7939394116401672,
          0.739393949508667,
          0.8606060743331909,
          0.7939394116401672,
          0.8363636136054993,
          0.7818182110786438,
          0.8545454740524292,
          0.49696969985961914,
          0.800000011920929,
          0.7515151500701904,
          0.8030303120613098,
          0.8575757741928101,
          0.8090909123420715,
          0.8181818127632141,
          0.539393961429596,
          0.5181818008422852,
          0.8333333134651184,
          0.8515151739120483,
          0.5303030014038086,
          0.760606050491333,
          0.7575757503509521,
          0.7060605883598328,
          0.469696968793869,
          0.7030302882194519,
          0.7787878513336182,
          0.8090909123420715,
          0.7909091114997864,
          0.821212112903595,
          0.6878787875175476,
          0.7272727489471436,
          0.842424213886261,
          0.8393939137458801,
          0.6727272868156433,
          0.7151514887809753,
          0.8181818127632141,
          0.8060606122016907,
          0.8303030133247375,
          0.8787878751754761,
          0.7181817889213562,
          0.5090909004211426,
          0.521212100982666,
          0.760606050491333,
          0.8545454740524292,
          0.800000011920929,
          0.8272727131843567,
          0.8515151739120483,
          0.7939394116401672,
          0.7151514887809753,
          0.7060605883598328,
          0.8303030133247375,
          0.7818182110786438,
          0.7545454502105713,
          0.8303030133247375,
          0.8303030133247375,
          0.800000011920929,
          0.7515151500701904,
          0.4939393997192383,
          0.7333333492279053,
          0.5,
          0.5242424011230469,
          0.821212112903595,
          0.7757575511932373,
          0.8393939137458801,
          0.469696968793869,
          0.7545454502105713,
          0.596969723701477,
          0.521212100982666,
          0.7575757503509521,
          0.8030303120613098,
          0.8181818127632141,
          0.8545454740524292,
          0.7848485112190247,
          0.8454545736312866,
          0.8696969747543335,
          0.521212100982666,
          0.8181818127632141,
          0.8272727131843567,
          0.8181818127632141,
          0.7545454502105713,
          0.5151515007019043,
          0.8121212124824524,
          0.8242424130439758,
          0.8333333134651184,
          0.581818163394928,
          0.5090909004211426,
          0.5060606002807617,
          0.8303030133247375,
          0.8121212124824524,
          0.7969697117805481,
          0.821212112903595,
          0.5060606002807617,
          0.800000011920929,
          0.7787878513336182,
          0.800000011920929,
          0.5121212005615234,
          0.7757575511932373,
          0.521212100982666,
          0.821212112903595,
          0.8696969747543335,
          0.821212112903595,
          0.7878788113594055,
          0.7939394116401672,
          0.8272727131843567,
          0.7666666507720947,
          0.5090909004211426,
          0.7909091114997864
         ]
        }
       ],
       "layout": {
        "template": {
         "data": {
          "bar": [
           {
            "error_x": {
             "color": "#2a3f5f"
            },
            "error_y": {
             "color": "#2a3f5f"
            },
            "marker": {
             "line": {
              "color": "#E5ECF6",
              "width": 0.5
             },
             "pattern": {
              "fillmode": "overlay",
              "size": 10,
              "solidity": 0.2
             }
            },
            "type": "bar"
           }
          ],
          "barpolar": [
           {
            "marker": {
             "line": {
              "color": "#E5ECF6",
              "width": 0.5
             },
             "pattern": {
              "fillmode": "overlay",
              "size": 10,
              "solidity": 0.2
             }
            },
            "type": "barpolar"
           }
          ],
          "carpet": [
           {
            "aaxis": {
             "endlinecolor": "#2a3f5f",
             "gridcolor": "white",
             "linecolor": "white",
             "minorgridcolor": "white",
             "startlinecolor": "#2a3f5f"
            },
            "baxis": {
             "endlinecolor": "#2a3f5f",
             "gridcolor": "white",
             "linecolor": "white",
             "minorgridcolor": "white",
             "startlinecolor": "#2a3f5f"
            },
            "type": "carpet"
           }
          ],
          "choropleth": [
           {
            "colorbar": {
             "outlinewidth": 0,
             "ticks": ""
            },
            "type": "choropleth"
           }
          ],
          "contour": [
           {
            "colorbar": {
             "outlinewidth": 0,
             "ticks": ""
            },
            "colorscale": [
             [
              0,
              "#0d0887"
             ],
             [
              0.1111111111111111,
              "#46039f"
             ],
             [
              0.2222222222222222,
              "#7201a8"
             ],
             [
              0.3333333333333333,
              "#9c179e"
             ],
             [
              0.4444444444444444,
              "#bd3786"
             ],
             [
              0.5555555555555556,
              "#d8576b"
             ],
             [
              0.6666666666666666,
              "#ed7953"
             ],
             [
              0.7777777777777778,
              "#fb9f3a"
             ],
             [
              0.8888888888888888,
              "#fdca26"
             ],
             [
              1,
              "#f0f921"
             ]
            ],
            "type": "contour"
           }
          ],
          "contourcarpet": [
           {
            "colorbar": {
             "outlinewidth": 0,
             "ticks": ""
            },
            "type": "contourcarpet"
           }
          ],
          "heatmap": [
           {
            "colorbar": {
             "outlinewidth": 0,
             "ticks": ""
            },
            "colorscale": [
             [
              0,
              "#0d0887"
             ],
             [
              0.1111111111111111,
              "#46039f"
             ],
             [
              0.2222222222222222,
              "#7201a8"
             ],
             [
              0.3333333333333333,
              "#9c179e"
             ],
             [
              0.4444444444444444,
              "#bd3786"
             ],
             [
              0.5555555555555556,
              "#d8576b"
             ],
             [
              0.6666666666666666,
              "#ed7953"
             ],
             [
              0.7777777777777778,
              "#fb9f3a"
             ],
             [
              0.8888888888888888,
              "#fdca26"
             ],
             [
              1,
              "#f0f921"
             ]
            ],
            "type": "heatmap"
           }
          ],
          "heatmapgl": [
           {
            "colorbar": {
             "outlinewidth": 0,
             "ticks": ""
            },
            "colorscale": [
             [
              0,
              "#0d0887"
             ],
             [
              0.1111111111111111,
              "#46039f"
             ],
             [
              0.2222222222222222,
              "#7201a8"
             ],
             [
              0.3333333333333333,
              "#9c179e"
             ],
             [
              0.4444444444444444,
              "#bd3786"
             ],
             [
              0.5555555555555556,
              "#d8576b"
             ],
             [
              0.6666666666666666,
              "#ed7953"
             ],
             [
              0.7777777777777778,
              "#fb9f3a"
             ],
             [
              0.8888888888888888,
              "#fdca26"
             ],
             [
              1,
              "#f0f921"
             ]
            ],
            "type": "heatmapgl"
           }
          ],
          "histogram": [
           {
            "marker": {
             "pattern": {
              "fillmode": "overlay",
              "size": 10,
              "solidity": 0.2
             }
            },
            "type": "histogram"
           }
          ],
          "histogram2d": [
           {
            "colorbar": {
             "outlinewidth": 0,
             "ticks": ""
            },
            "colorscale": [
             [
              0,
              "#0d0887"
             ],
             [
              0.1111111111111111,
              "#46039f"
             ],
             [
              0.2222222222222222,
              "#7201a8"
             ],
             [
              0.3333333333333333,
              "#9c179e"
             ],
             [
              0.4444444444444444,
              "#bd3786"
             ],
             [
              0.5555555555555556,
              "#d8576b"
             ],
             [
              0.6666666666666666,
              "#ed7953"
             ],
             [
              0.7777777777777778,
              "#fb9f3a"
             ],
             [
              0.8888888888888888,
              "#fdca26"
             ],
             [
              1,
              "#f0f921"
             ]
            ],
            "type": "histogram2d"
           }
          ],
          "histogram2dcontour": [
           {
            "colorbar": {
             "outlinewidth": 0,
             "ticks": ""
            },
            "colorscale": [
             [
              0,
              "#0d0887"
             ],
             [
              0.1111111111111111,
              "#46039f"
             ],
             [
              0.2222222222222222,
              "#7201a8"
             ],
             [
              0.3333333333333333,
              "#9c179e"
             ],
             [
              0.4444444444444444,
              "#bd3786"
             ],
             [
              0.5555555555555556,
              "#d8576b"
             ],
             [
              0.6666666666666666,
              "#ed7953"
             ],
             [
              0.7777777777777778,
              "#fb9f3a"
             ],
             [
              0.8888888888888888,
              "#fdca26"
             ],
             [
              1,
              "#f0f921"
             ]
            ],
            "type": "histogram2dcontour"
           }
          ],
          "mesh3d": [
           {
            "colorbar": {
             "outlinewidth": 0,
             "ticks": ""
            },
            "type": "mesh3d"
           }
          ],
          "parcoords": [
           {
            "line": {
             "colorbar": {
              "outlinewidth": 0,
              "ticks": ""
             }
            },
            "type": "parcoords"
           }
          ],
          "pie": [
           {
            "automargin": true,
            "type": "pie"
           }
          ],
          "scatter": [
           {
            "fillpattern": {
             "fillmode": "overlay",
             "size": 10,
             "solidity": 0.2
            },
            "type": "scatter"
           }
          ],
          "scatter3d": [
           {
            "line": {
             "colorbar": {
              "outlinewidth": 0,
              "ticks": ""
             }
            },
            "marker": {
             "colorbar": {
              "outlinewidth": 0,
              "ticks": ""
             }
            },
            "type": "scatter3d"
           }
          ],
          "scattercarpet": [
           {
            "marker": {
             "colorbar": {
              "outlinewidth": 0,
              "ticks": ""
             }
            },
            "type": "scattercarpet"
           }
          ],
          "scattergeo": [
           {
            "marker": {
             "colorbar": {
              "outlinewidth": 0,
              "ticks": ""
             }
            },
            "type": "scattergeo"
           }
          ],
          "scattergl": [
           {
            "marker": {
             "colorbar": {
              "outlinewidth": 0,
              "ticks": ""
             }
            },
            "type": "scattergl"
           }
          ],
          "scattermapbox": [
           {
            "marker": {
             "colorbar": {
              "outlinewidth": 0,
              "ticks": ""
             }
            },
            "type": "scattermapbox"
           }
          ],
          "scatterpolar": [
           {
            "marker": {
             "colorbar": {
              "outlinewidth": 0,
              "ticks": ""
             }
            },
            "type": "scatterpolar"
           }
          ],
          "scatterpolargl": [
           {
            "marker": {
             "colorbar": {
              "outlinewidth": 0,
              "ticks": ""
             }
            },
            "type": "scatterpolargl"
           }
          ],
          "scatterternary": [
           {
            "marker": {
             "colorbar": {
              "outlinewidth": 0,
              "ticks": ""
             }
            },
            "type": "scatterternary"
           }
          ],
          "surface": [
           {
            "colorbar": {
             "outlinewidth": 0,
             "ticks": ""
            },
            "colorscale": [
             [
              0,
              "#0d0887"
             ],
             [
              0.1111111111111111,
              "#46039f"
             ],
             [
              0.2222222222222222,
              "#7201a8"
             ],
             [
              0.3333333333333333,
              "#9c179e"
             ],
             [
              0.4444444444444444,
              "#bd3786"
             ],
             [
              0.5555555555555556,
              "#d8576b"
             ],
             [
              0.6666666666666666,
              "#ed7953"
             ],
             [
              0.7777777777777778,
              "#fb9f3a"
             ],
             [
              0.8888888888888888,
              "#fdca26"
             ],
             [
              1,
              "#f0f921"
             ]
            ],
            "type": "surface"
           }
          ],
          "table": [
           {
            "cells": {
             "fill": {
              "color": "#EBF0F8"
             },
             "line": {
              "color": "white"
             }
            },
            "header": {
             "fill": {
              "color": "#C8D4E3"
             },
             "line": {
              "color": "white"
             }
            },
            "type": "table"
           }
          ]
         },
         "layout": {
          "annotationdefaults": {
           "arrowcolor": "#2a3f5f",
           "arrowhead": 0,
           "arrowwidth": 1
          },
          "autotypenumbers": "strict",
          "coloraxis": {
           "colorbar": {
            "outlinewidth": 0,
            "ticks": ""
           }
          },
          "colorscale": {
           "diverging": [
            [
             0,
             "#8e0152"
            ],
            [
             0.1,
             "#c51b7d"
            ],
            [
             0.2,
             "#de77ae"
            ],
            [
             0.3,
             "#f1b6da"
            ],
            [
             0.4,
             "#fde0ef"
            ],
            [
             0.5,
             "#f7f7f7"
            ],
            [
             0.6,
             "#e6f5d0"
            ],
            [
             0.7,
             "#b8e186"
            ],
            [
             0.8,
             "#7fbc41"
            ],
            [
             0.9,
             "#4d9221"
            ],
            [
             1,
             "#276419"
            ]
           ],
           "sequential": [
            [
             0,
             "#0d0887"
            ],
            [
             0.1111111111111111,
             "#46039f"
            ],
            [
             0.2222222222222222,
             "#7201a8"
            ],
            [
             0.3333333333333333,
             "#9c179e"
            ],
            [
             0.4444444444444444,
             "#bd3786"
            ],
            [
             0.5555555555555556,
             "#d8576b"
            ],
            [
             0.6666666666666666,
             "#ed7953"
            ],
            [
             0.7777777777777778,
             "#fb9f3a"
            ],
            [
             0.8888888888888888,
             "#fdca26"
            ],
            [
             1,
             "#f0f921"
            ]
           ],
           "sequentialminus": [
            [
             0,
             "#0d0887"
            ],
            [
             0.1111111111111111,
             "#46039f"
            ],
            [
             0.2222222222222222,
             "#7201a8"
            ],
            [
             0.3333333333333333,
             "#9c179e"
            ],
            [
             0.4444444444444444,
             "#bd3786"
            ],
            [
             0.5555555555555556,
             "#d8576b"
            ],
            [
             0.6666666666666666,
             "#ed7953"
            ],
            [
             0.7777777777777778,
             "#fb9f3a"
            ],
            [
             0.8888888888888888,
             "#fdca26"
            ],
            [
             1,
             "#f0f921"
            ]
           ]
          },
          "colorway": [
           "#636efa",
           "#EF553B",
           "#00cc96",
           "#ab63fa",
           "#FFA15A",
           "#19d3f3",
           "#FF6692",
           "#B6E880",
           "#FF97FF",
           "#FECB52"
          ],
          "font": {
           "color": "#2a3f5f"
          },
          "geo": {
           "bgcolor": "white",
           "lakecolor": "white",
           "landcolor": "#E5ECF6",
           "showlakes": true,
           "showland": true,
           "subunitcolor": "white"
          },
          "hoverlabel": {
           "align": "left"
          },
          "hovermode": "closest",
          "mapbox": {
           "style": "light"
          },
          "paper_bgcolor": "white",
          "plot_bgcolor": "#E5ECF6",
          "polar": {
           "angularaxis": {
            "gridcolor": "white",
            "linecolor": "white",
            "ticks": ""
           },
           "bgcolor": "#E5ECF6",
           "radialaxis": {
            "gridcolor": "white",
            "linecolor": "white",
            "ticks": ""
           }
          },
          "scene": {
           "xaxis": {
            "backgroundcolor": "#E5ECF6",
            "gridcolor": "white",
            "gridwidth": 2,
            "linecolor": "white",
            "showbackground": true,
            "ticks": "",
            "zerolinecolor": "white"
           },
           "yaxis": {
            "backgroundcolor": "#E5ECF6",
            "gridcolor": "white",
            "gridwidth": 2,
            "linecolor": "white",
            "showbackground": true,
            "ticks": "",
            "zerolinecolor": "white"
           },
           "zaxis": {
            "backgroundcolor": "#E5ECF6",
            "gridcolor": "white",
            "gridwidth": 2,
            "linecolor": "white",
            "showbackground": true,
            "ticks": "",
            "zerolinecolor": "white"
           }
          },
          "shapedefaults": {
           "line": {
            "color": "#2a3f5f"
           }
          },
          "ternary": {
           "aaxis": {
            "gridcolor": "white",
            "linecolor": "white",
            "ticks": ""
           },
           "baxis": {
            "gridcolor": "white",
            "linecolor": "white",
            "ticks": ""
           },
           "bgcolor": "#E5ECF6",
           "caxis": {
            "gridcolor": "white",
            "linecolor": "white",
            "ticks": ""
           }
          },
          "title": {
           "x": 0.05
          },
          "xaxis": {
           "automargin": true,
           "gridcolor": "white",
           "linecolor": "white",
           "ticks": "",
           "title": {
            "standoff": 15
           },
           "zerolinecolor": "white",
           "zerolinewidth": 2
          },
          "yaxis": {
           "automargin": true,
           "gridcolor": "white",
           "linecolor": "white",
           "ticks": "",
           "title": {
            "standoff": 15
           },
           "zerolinecolor": "white",
           "zerolinewidth": 2
          }
         }
        },
        "title": {
         "text": "Slice Plot"
        },
        "xaxis": {
         "title": {
          "text": "wavelet"
         }
        },
        "yaxis": {
         "title": {
          "text": "Objective Value"
         }
        }
       }
      },
      "text/html": [
       "<div>                            <div id=\"c2e6b3a8-236c-41a8-9af6-2cb48955539e\" class=\"plotly-graph-div\" style=\"height:525px; width:100%;\"></div>            <script type=\"text/javascript\">                require([\"plotly\"], function(Plotly) {                    window.PLOTLYENV=window.PLOTLYENV || {};                                    if (document.getElementById(\"c2e6b3a8-236c-41a8-9af6-2cb48955539e\")) {                    Plotly.newPlot(                        \"c2e6b3a8-236c-41a8-9af6-2cb48955539e\",                        [{\"marker\":{\"color\":[0,1,2,3,4,5,6,7,8,9,10,11,12,13,14,15,16,17,18,19,20,21,22,23,24,25,26,27,28,29,30,31,32,33,34,35,36,37,38,39,40,41,42,43,44,45,46,47,48,49,50,51,52,53,54,55,56,57,58,59,60,61,62,63,64,65,66,67,68,69,70,71,72,73,74,75,76,77,78,79,80,81,82,83,84,85,86,87,88,89,90,91,92,93,94,95,96,97,98,99,100,101,102,103,104,105,106,107,108,109,110,111,112,113],\"colorbar\":{\"title\":{\"text\":\"Trial\"},\"x\":1.0,\"xpad\":40},\"colorscale\":[[0.0,\"rgb(247,251,255)\"],[0.125,\"rgb(222,235,247)\"],[0.25,\"rgb(198,219,239)\"],[0.375,\"rgb(158,202,225)\"],[0.5,\"rgb(107,174,214)\"],[0.625,\"rgb(66,146,198)\"],[0.75,\"rgb(33,113,181)\"],[0.875,\"rgb(8,81,156)\"],[1.0,\"rgb(8,48,107)\"]],\"line\":{\"color\":\"Grey\",\"width\":0.5}},\"mode\":\"markers\",\"showlegend\":false,\"x\":[\"gaus6\",\"gaus4\",\"gaus6\",\"cgau6\",\"gaus6\",\"cgau4\",\"cmor\",\"cgau4\",\"cgau5\",\"cgau3\",\"cgau2\",\"cgau4\",\"gaus5\",\"cgau6\",\"cgau6\",\"cgau6\",\"cgau2\",\"gaus5\",\"cgau2\",\"shan\",\"gaus7\",\"cgau2\",\"gaus8\",\"fbsp\",\"shan\",\"shan\",\"shan\",\"shan\",\"shan\",\"gaus2\",\"cgau7\",\"gaus1\",\"gaus1\",\"morl\",\"cgau8\",\"morl\",\"morl\",\"mexh\",\"cgau1\",\"gaus3\",\"mexh\",\"cgau1\",\"cmor\",\"gaus6\",\"cgau1\",\"cgau1\",\"cgau1\",\"cgau1\",\"gaus4\",\"gaus4\",\"shan\",\"cgau6\",\"cgau6\",\"cgau6\",\"cgau5\",\"cgau5\",\"shan\",\"shan\",\"shan\",\"shan\",\"cgau3\",\"cgau6\",\"gaus7\",\"cgau2\",\"cgau2\",\"cgau2\",\"cgau2\",\"fbsp\",\"gaus8\",\"cgau4\",\"gaus8\",\"gaus8\",\"cgau4\",\"gaus2\",\"cgau7\",\"gaus2\",\"gaus2\",\"cgau7\",\"cgau6\",\"gaus5\",\"gaus5\",\"cgau8\",\"cgau6\",\"cgau6\",\"cgau8\",\"cgau8\",\"cgau8\",\"cgau6\",\"cgau8\",\"gaus3\",\"cgau6\",\"gaus3\",\"cgau6\",\"shan\",\"cmor\",\"gaus3\",\"gaus5\",\"cmor\",\"gaus5\",\"shan\",\"cmor\",\"shan\",\"shan\",\"shan\",\"gaus6\",\"gaus6\",\"cgau3\",\"cgau1\",\"cgau1\",\"cgau1\",\"cgau3\",\"cgau1\",\"cgau3\",\"cgau3\"],\"y\":[0.5454545617103577,0.7303030490875244,0.8060606122016907,0.8333333134651184,0.7333333492279053,0.8060606122016907,0.7848485112190247,0.8272727131843567,0.7939394116401672,0.739393949508667,0.8606060743331909,0.7939394116401672,0.8363636136054993,0.7818182110786438,0.8545454740524292,0.49696969985961914,0.800000011920929,0.7515151500701904,0.8030303120613098,0.8575757741928101,0.8090909123420715,0.8181818127632141,0.539393961429596,0.5181818008422852,0.8333333134651184,0.8515151739120483,0.5303030014038086,0.760606050491333,0.7575757503509521,0.7060605883598328,0.469696968793869,0.7030302882194519,0.7787878513336182,0.8090909123420715,0.7909091114997864,0.821212112903595,0.6878787875175476,0.7272727489471436,0.842424213886261,0.8393939137458801,0.6727272868156433,0.7151514887809753,0.8181818127632141,0.8060606122016907,0.8303030133247375,0.8787878751754761,0.7181817889213562,0.5090909004211426,0.521212100982666,0.760606050491333,0.8545454740524292,0.800000011920929,0.8272727131843567,0.8515151739120483,0.7939394116401672,0.7151514887809753,0.7060605883598328,0.8303030133247375,0.7818182110786438,0.7545454502105713,0.8303030133247375,0.8303030133247375,0.800000011920929,0.7515151500701904,0.4939393997192383,0.7333333492279053,0.5,0.5242424011230469,0.821212112903595,0.7757575511932373,0.8393939137458801,0.469696968793869,0.7545454502105713,0.596969723701477,0.521212100982666,0.7575757503509521,0.8030303120613098,0.8181818127632141,0.8545454740524292,0.7848485112190247,0.8454545736312866,0.8696969747543335,0.521212100982666,0.8181818127632141,0.8272727131843567,0.8181818127632141,0.7545454502105713,0.5151515007019043,0.8121212124824524,0.8242424130439758,0.8333333134651184,0.581818163394928,0.5090909004211426,0.5060606002807617,0.8303030133247375,0.8121212124824524,0.7969697117805481,0.821212112903595,0.5060606002807617,0.800000011920929,0.7787878513336182,0.800000011920929,0.5121212005615234,0.7757575511932373,0.521212100982666,0.821212112903595,0.8696969747543335,0.821212112903595,0.7878788113594055,0.7939394116401672,0.8272727131843567,0.7666666507720947,0.5090909004211426,0.7909091114997864],\"type\":\"scatter\"}],                        {\"title\":{\"text\":\"Slice Plot\"},\"template\":{\"data\":{\"histogram2dcontour\":[{\"type\":\"histogram2dcontour\",\"colorbar\":{\"outlinewidth\":0,\"ticks\":\"\"},\"colorscale\":[[0.0,\"#0d0887\"],[0.1111111111111111,\"#46039f\"],[0.2222222222222222,\"#7201a8\"],[0.3333333333333333,\"#9c179e\"],[0.4444444444444444,\"#bd3786\"],[0.5555555555555556,\"#d8576b\"],[0.6666666666666666,\"#ed7953\"],[0.7777777777777778,\"#fb9f3a\"],[0.8888888888888888,\"#fdca26\"],[1.0,\"#f0f921\"]]}],\"choropleth\":[{\"type\":\"choropleth\",\"colorbar\":{\"outlinewidth\":0,\"ticks\":\"\"}}],\"histogram2d\":[{\"type\":\"histogram2d\",\"colorbar\":{\"outlinewidth\":0,\"ticks\":\"\"},\"colorscale\":[[0.0,\"#0d0887\"],[0.1111111111111111,\"#46039f\"],[0.2222222222222222,\"#7201a8\"],[0.3333333333333333,\"#9c179e\"],[0.4444444444444444,\"#bd3786\"],[0.5555555555555556,\"#d8576b\"],[0.6666666666666666,\"#ed7953\"],[0.7777777777777778,\"#fb9f3a\"],[0.8888888888888888,\"#fdca26\"],[1.0,\"#f0f921\"]]}],\"heatmap\":[{\"type\":\"heatmap\",\"colorbar\":{\"outlinewidth\":0,\"ticks\":\"\"},\"colorscale\":[[0.0,\"#0d0887\"],[0.1111111111111111,\"#46039f\"],[0.2222222222222222,\"#7201a8\"],[0.3333333333333333,\"#9c179e\"],[0.4444444444444444,\"#bd3786\"],[0.5555555555555556,\"#d8576b\"],[0.6666666666666666,\"#ed7953\"],[0.7777777777777778,\"#fb9f3a\"],[0.8888888888888888,\"#fdca26\"],[1.0,\"#f0f921\"]]}],\"heatmapgl\":[{\"type\":\"heatmapgl\",\"colorbar\":{\"outlinewidth\":0,\"ticks\":\"\"},\"colorscale\":[[0.0,\"#0d0887\"],[0.1111111111111111,\"#46039f\"],[0.2222222222222222,\"#7201a8\"],[0.3333333333333333,\"#9c179e\"],[0.4444444444444444,\"#bd3786\"],[0.5555555555555556,\"#d8576b\"],[0.6666666666666666,\"#ed7953\"],[0.7777777777777778,\"#fb9f3a\"],[0.8888888888888888,\"#fdca26\"],[1.0,\"#f0f921\"]]}],\"contourcarpet\":[{\"type\":\"contourcarpet\",\"colorbar\":{\"outlinewidth\":0,\"ticks\":\"\"}}],\"contour\":[{\"type\":\"contour\",\"colorbar\":{\"outlinewidth\":0,\"ticks\":\"\"},\"colorscale\":[[0.0,\"#0d0887\"],[0.1111111111111111,\"#46039f\"],[0.2222222222222222,\"#7201a8\"],[0.3333333333333333,\"#9c179e\"],[0.4444444444444444,\"#bd3786\"],[0.5555555555555556,\"#d8576b\"],[0.6666666666666666,\"#ed7953\"],[0.7777777777777778,\"#fb9f3a\"],[0.8888888888888888,\"#fdca26\"],[1.0,\"#f0f921\"]]}],\"surface\":[{\"type\":\"surface\",\"colorbar\":{\"outlinewidth\":0,\"ticks\":\"\"},\"colorscale\":[[0.0,\"#0d0887\"],[0.1111111111111111,\"#46039f\"],[0.2222222222222222,\"#7201a8\"],[0.3333333333333333,\"#9c179e\"],[0.4444444444444444,\"#bd3786\"],[0.5555555555555556,\"#d8576b\"],[0.6666666666666666,\"#ed7953\"],[0.7777777777777778,\"#fb9f3a\"],[0.8888888888888888,\"#fdca26\"],[1.0,\"#f0f921\"]]}],\"mesh3d\":[{\"type\":\"mesh3d\",\"colorbar\":{\"outlinewidth\":0,\"ticks\":\"\"}}],\"scatter\":[{\"fillpattern\":{\"fillmode\":\"overlay\",\"size\":10,\"solidity\":0.2},\"type\":\"scatter\"}],\"parcoords\":[{\"type\":\"parcoords\",\"line\":{\"colorbar\":{\"outlinewidth\":0,\"ticks\":\"\"}}}],\"scatterpolargl\":[{\"type\":\"scatterpolargl\",\"marker\":{\"colorbar\":{\"outlinewidth\":0,\"ticks\":\"\"}}}],\"bar\":[{\"error_x\":{\"color\":\"#2a3f5f\"},\"error_y\":{\"color\":\"#2a3f5f\"},\"marker\":{\"line\":{\"color\":\"#E5ECF6\",\"width\":0.5},\"pattern\":{\"fillmode\":\"overlay\",\"size\":10,\"solidity\":0.2}},\"type\":\"bar\"}],\"scattergeo\":[{\"type\":\"scattergeo\",\"marker\":{\"colorbar\":{\"outlinewidth\":0,\"ticks\":\"\"}}}],\"scatterpolar\":[{\"type\":\"scatterpolar\",\"marker\":{\"colorbar\":{\"outlinewidth\":0,\"ticks\":\"\"}}}],\"histogram\":[{\"marker\":{\"pattern\":{\"fillmode\":\"overlay\",\"size\":10,\"solidity\":0.2}},\"type\":\"histogram\"}],\"scattergl\":[{\"type\":\"scattergl\",\"marker\":{\"colorbar\":{\"outlinewidth\":0,\"ticks\":\"\"}}}],\"scatter3d\":[{\"type\":\"scatter3d\",\"line\":{\"colorbar\":{\"outlinewidth\":0,\"ticks\":\"\"}},\"marker\":{\"colorbar\":{\"outlinewidth\":0,\"ticks\":\"\"}}}],\"scattermapbox\":[{\"type\":\"scattermapbox\",\"marker\":{\"colorbar\":{\"outlinewidth\":0,\"ticks\":\"\"}}}],\"scatterternary\":[{\"type\":\"scatterternary\",\"marker\":{\"colorbar\":{\"outlinewidth\":0,\"ticks\":\"\"}}}],\"scattercarpet\":[{\"type\":\"scattercarpet\",\"marker\":{\"colorbar\":{\"outlinewidth\":0,\"ticks\":\"\"}}}],\"carpet\":[{\"aaxis\":{\"endlinecolor\":\"#2a3f5f\",\"gridcolor\":\"white\",\"linecolor\":\"white\",\"minorgridcolor\":\"white\",\"startlinecolor\":\"#2a3f5f\"},\"baxis\":{\"endlinecolor\":\"#2a3f5f\",\"gridcolor\":\"white\",\"linecolor\":\"white\",\"minorgridcolor\":\"white\",\"startlinecolor\":\"#2a3f5f\"},\"type\":\"carpet\"}],\"table\":[{\"cells\":{\"fill\":{\"color\":\"#EBF0F8\"},\"line\":{\"color\":\"white\"}},\"header\":{\"fill\":{\"color\":\"#C8D4E3\"},\"line\":{\"color\":\"white\"}},\"type\":\"table\"}],\"barpolar\":[{\"marker\":{\"line\":{\"color\":\"#E5ECF6\",\"width\":0.5},\"pattern\":{\"fillmode\":\"overlay\",\"size\":10,\"solidity\":0.2}},\"type\":\"barpolar\"}],\"pie\":[{\"automargin\":true,\"type\":\"pie\"}]},\"layout\":{\"autotypenumbers\":\"strict\",\"colorway\":[\"#636efa\",\"#EF553B\",\"#00cc96\",\"#ab63fa\",\"#FFA15A\",\"#19d3f3\",\"#FF6692\",\"#B6E880\",\"#FF97FF\",\"#FECB52\"],\"font\":{\"color\":\"#2a3f5f\"},\"hovermode\":\"closest\",\"hoverlabel\":{\"align\":\"left\"},\"paper_bgcolor\":\"white\",\"plot_bgcolor\":\"#E5ECF6\",\"polar\":{\"bgcolor\":\"#E5ECF6\",\"angularaxis\":{\"gridcolor\":\"white\",\"linecolor\":\"white\",\"ticks\":\"\"},\"radialaxis\":{\"gridcolor\":\"white\",\"linecolor\":\"white\",\"ticks\":\"\"}},\"ternary\":{\"bgcolor\":\"#E5ECF6\",\"aaxis\":{\"gridcolor\":\"white\",\"linecolor\":\"white\",\"ticks\":\"\"},\"baxis\":{\"gridcolor\":\"white\",\"linecolor\":\"white\",\"ticks\":\"\"},\"caxis\":{\"gridcolor\":\"white\",\"linecolor\":\"white\",\"ticks\":\"\"}},\"coloraxis\":{\"colorbar\":{\"outlinewidth\":0,\"ticks\":\"\"}},\"colorscale\":{\"sequential\":[[0.0,\"#0d0887\"],[0.1111111111111111,\"#46039f\"],[0.2222222222222222,\"#7201a8\"],[0.3333333333333333,\"#9c179e\"],[0.4444444444444444,\"#bd3786\"],[0.5555555555555556,\"#d8576b\"],[0.6666666666666666,\"#ed7953\"],[0.7777777777777778,\"#fb9f3a\"],[0.8888888888888888,\"#fdca26\"],[1.0,\"#f0f921\"]],\"sequentialminus\":[[0.0,\"#0d0887\"],[0.1111111111111111,\"#46039f\"],[0.2222222222222222,\"#7201a8\"],[0.3333333333333333,\"#9c179e\"],[0.4444444444444444,\"#bd3786\"],[0.5555555555555556,\"#d8576b\"],[0.6666666666666666,\"#ed7953\"],[0.7777777777777778,\"#fb9f3a\"],[0.8888888888888888,\"#fdca26\"],[1.0,\"#f0f921\"]],\"diverging\":[[0,\"#8e0152\"],[0.1,\"#c51b7d\"],[0.2,\"#de77ae\"],[0.3,\"#f1b6da\"],[0.4,\"#fde0ef\"],[0.5,\"#f7f7f7\"],[0.6,\"#e6f5d0\"],[0.7,\"#b8e186\"],[0.8,\"#7fbc41\"],[0.9,\"#4d9221\"],[1,\"#276419\"]]},\"xaxis\":{\"gridcolor\":\"white\",\"linecolor\":\"white\",\"ticks\":\"\",\"title\":{\"standoff\":15},\"zerolinecolor\":\"white\",\"automargin\":true,\"zerolinewidth\":2},\"yaxis\":{\"gridcolor\":\"white\",\"linecolor\":\"white\",\"ticks\":\"\",\"title\":{\"standoff\":15},\"zerolinecolor\":\"white\",\"automargin\":true,\"zerolinewidth\":2},\"scene\":{\"xaxis\":{\"backgroundcolor\":\"#E5ECF6\",\"gridcolor\":\"white\",\"linecolor\":\"white\",\"showbackground\":true,\"ticks\":\"\",\"zerolinecolor\":\"white\",\"gridwidth\":2},\"yaxis\":{\"backgroundcolor\":\"#E5ECF6\",\"gridcolor\":\"white\",\"linecolor\":\"white\",\"showbackground\":true,\"ticks\":\"\",\"zerolinecolor\":\"white\",\"gridwidth\":2},\"zaxis\":{\"backgroundcolor\":\"#E5ECF6\",\"gridcolor\":\"white\",\"linecolor\":\"white\",\"showbackground\":true,\"ticks\":\"\",\"zerolinecolor\":\"white\",\"gridwidth\":2}},\"shapedefaults\":{\"line\":{\"color\":\"#2a3f5f\"}},\"annotationdefaults\":{\"arrowcolor\":\"#2a3f5f\",\"arrowhead\":0,\"arrowwidth\":1},\"geo\":{\"bgcolor\":\"white\",\"landcolor\":\"#E5ECF6\",\"subunitcolor\":\"white\",\"showland\":true,\"showlakes\":true,\"lakecolor\":\"white\"},\"title\":{\"x\":0.05},\"mapbox\":{\"style\":\"light\"}}},\"xaxis\":{\"title\":{\"text\":\"wavelet\"}},\"yaxis\":{\"title\":{\"text\":\"Objective Value\"}}},                        {\"responsive\": true}                    ).then(function(){\n",
       "                            \n",
       "var gd = document.getElementById('c2e6b3a8-236c-41a8-9af6-2cb48955539e');\n",
       "var x = new MutationObserver(function (mutations, observer) {{\n",
       "        var display = window.getComputedStyle(gd).display;\n",
       "        if (!display || display === 'none') {{\n",
       "            console.log([gd, 'removed!']);\n",
       "            Plotly.purge(gd);\n",
       "            observer.disconnect();\n",
       "        }}\n",
       "}});\n",
       "\n",
       "// Listen for the removal of the full notebook cells\n",
       "var notebookContainer = gd.closest('#notebook-container');\n",
       "if (notebookContainer) {{\n",
       "    x.observe(notebookContainer, {childList: true});\n",
       "}}\n",
       "\n",
       "// Listen for the clearing of the current output cell\n",
       "var outputEl = gd.closest('.output');\n",
       "if (outputEl) {{\n",
       "    x.observe(outputEl, {childList: true});\n",
       "}}\n",
       "\n",
       "                        })                };                });            </script>        </div>"
      ]
     },
     "metadata": {},
     "output_type": "display_data"
    }
   ],
   "source": [
    "visualization.plot_slice(study)"
   ]
  },
  {
   "cell_type": "code",
   "execution_count": 10,
   "id": "8e6e7ad3",
   "metadata": {},
   "outputs": [
    {
     "data": {
      "application/vnd.plotly.v1+json": {
       "config": {
        "plotlyServerURL": "https://plot.ly"
       },
       "data": [
        {
         "mode": "lines",
         "name": "optimize_wavelet_choice",
         "type": "scatter",
         "x": [
          0.469696968793869,
          0.473829200171461,
          0.477961431549053,
          0.482093662926645,
          0.48622589430423696,
          0.49035812568182896,
          0.49449035705942096,
          0.49862258843701296,
          0.5027548198146049,
          0.5068870511921969,
          0.5110192825697889,
          0.5151515139473809,
          0.5192837453249729,
          0.5234159767025649,
          0.5275482080801569,
          0.5316804394577489,
          0.5358126708353409,
          0.5399449022129329,
          0.5440771335905249,
          0.5482093649681168,
          0.5523415963457088,
          0.5564738277233008,
          0.5606060591008928,
          0.5647382904784848,
          0.5688705218560768,
          0.5730027532336688,
          0.5771349846112608,
          0.5812672159888528,
          0.5853994473664448,
          0.5895316787440368,
          0.5936639101216288,
          0.5977961414992208,
          0.6019283728768128,
          0.6060606042544048,
          0.6101928356319967,
          0.6143250670095887,
          0.6184572983871807,
          0.6225895297647727,
          0.6267217611423647,
          0.6308539925199567,
          0.6349862238975487,
          0.6391184552751407,
          0.6432506866527327,
          0.6473829180303247,
          0.6515151494079165,
          0.6556473807855085,
          0.6597796121631005,
          0.6639118435406925,
          0.6680440749182845,
          0.6721763062958765,
          0.6763085376734685,
          0.6804407690510605,
          0.6845730004286525,
          0.6887052318062445,
          0.6928374631838365,
          0.6969696945614285,
          0.7011019259390205,
          0.7052341573166125,
          0.7093663886942045,
          0.7134986200717965,
          0.7176308514493884,
          0.7217630828269804,
          0.7258953142045724,
          0.7300275455821644,
          0.7341597769597564,
          0.7382920083373484,
          0.7424242397149404,
          0.7465564710925324,
          0.7506887024701243,
          0.7548209338477163,
          0.7589531652253083,
          0.7630853966029003,
          0.7672176279804923,
          0.7713498593580843,
          0.7754820907356763,
          0.7796143221132683,
          0.7837465534908603,
          0.7878787848684523,
          0.7920110162460443,
          0.7961432476236363,
          0.8002754790012283,
          0.8044077103788203,
          0.8085399417564123,
          0.8126721731340043,
          0.8168044045115963,
          0.8209366358891883,
          0.8250688672667803,
          0.8292010986443722,
          0.8333333300219642,
          0.8374655613995562,
          0.8415977927771482,
          0.8457300241547402,
          0.8498622555323322,
          0.8539944869099241,
          0.8581267182875161,
          0.8622589496651081,
          0.8663911810427001,
          0.8705234124202921,
          0.8746556437978841,
          0.8787878751754761
         ],
         "y": [
          0.017543859649122806,
          0.017543859649122806,
          0.017543859649122806,
          0.017543859649122806,
          0.017543859649122806,
          0.017543859649122806,
          0.02631578947368421,
          0.03508771929824561,
          0.043859649122807015,
          0.06140350877192982,
          0.08771929824561403,
          0.10526315789473684,
          0.11403508771929824,
          0.14912280701754385,
          0.15789473684210525,
          0.16666666666666666,
          0.16666666666666666,
          0.17543859649122806,
          0.17543859649122806,
          0.18421052631578946,
          0.18421052631578946,
          0.18421052631578946,
          0.18421052631578946,
          0.18421052631578946,
          0.18421052631578946,
          0.18421052631578946,
          0.18421052631578946,
          0.18421052631578946,
          0.19298245614035087,
          0.19298245614035087,
          0.19298245614035087,
          0.20175438596491227,
          0.20175438596491227,
          0.20175438596491227,
          0.20175438596491227,
          0.20175438596491227,
          0.20175438596491227,
          0.20175438596491227,
          0.20175438596491227,
          0.20175438596491227,
          0.20175438596491227,
          0.20175438596491227,
          0.20175438596491227,
          0.20175438596491227,
          0.20175438596491227,
          0.20175438596491227,
          0.20175438596491227,
          0.20175438596491227,
          0.20175438596491227,
          0.20175438596491227,
          0.21052631578947367,
          0.21052631578947367,
          0.21052631578947367,
          0.21929824561403508,
          0.21929824561403508,
          0.21929824561403508,
          0.21929824561403508,
          0.22807017543859648,
          0.24561403508771928,
          0.24561403508771928,
          0.2631578947368421,
          0.2719298245614035,
          0.2719298245614035,
          0.2807017543859649,
          0.30701754385964913,
          0.30701754385964913,
          0.3157894736842105,
          0.3157894736842105,
          0.3157894736842105,
          0.35964912280701755,
          0.37719298245614036,
          0.39473684210526316,
          0.40350877192982454,
          0.40350877192982454,
          0.40350877192982454,
          0.43859649122807015,
          0.45614035087719296,
          0.47368421052631576,
          0.5,
          0.5350877192982456,
          0.5877192982456141,
          0.6052631578947368,
          0.631578947368421,
          0.6666666666666666,
          0.6666666666666666,
          0.7105263157894737,
          0.7631578947368421,
          0.7982456140350878,
          0.868421052631579,
          0.8771929824561403,
          0.8947368421052632,
          0.9122807017543859,
          0.9122807017543859,
          0.9298245614035088,
          0.9649122807017544,
          0.9736842105263158,
          0.9736842105263158,
          0.9912280701754386,
          0.9912280701754386,
          1
         ]
        }
       ],
       "layout": {
        "template": {
         "data": {
          "bar": [
           {
            "error_x": {
             "color": "#2a3f5f"
            },
            "error_y": {
             "color": "#2a3f5f"
            },
            "marker": {
             "line": {
              "color": "#E5ECF6",
              "width": 0.5
             },
             "pattern": {
              "fillmode": "overlay",
              "size": 10,
              "solidity": 0.2
             }
            },
            "type": "bar"
           }
          ],
          "barpolar": [
           {
            "marker": {
             "line": {
              "color": "#E5ECF6",
              "width": 0.5
             },
             "pattern": {
              "fillmode": "overlay",
              "size": 10,
              "solidity": 0.2
             }
            },
            "type": "barpolar"
           }
          ],
          "carpet": [
           {
            "aaxis": {
             "endlinecolor": "#2a3f5f",
             "gridcolor": "white",
             "linecolor": "white",
             "minorgridcolor": "white",
             "startlinecolor": "#2a3f5f"
            },
            "baxis": {
             "endlinecolor": "#2a3f5f",
             "gridcolor": "white",
             "linecolor": "white",
             "minorgridcolor": "white",
             "startlinecolor": "#2a3f5f"
            },
            "type": "carpet"
           }
          ],
          "choropleth": [
           {
            "colorbar": {
             "outlinewidth": 0,
             "ticks": ""
            },
            "type": "choropleth"
           }
          ],
          "contour": [
           {
            "colorbar": {
             "outlinewidth": 0,
             "ticks": ""
            },
            "colorscale": [
             [
              0,
              "#0d0887"
             ],
             [
              0.1111111111111111,
              "#46039f"
             ],
             [
              0.2222222222222222,
              "#7201a8"
             ],
             [
              0.3333333333333333,
              "#9c179e"
             ],
             [
              0.4444444444444444,
              "#bd3786"
             ],
             [
              0.5555555555555556,
              "#d8576b"
             ],
             [
              0.6666666666666666,
              "#ed7953"
             ],
             [
              0.7777777777777778,
              "#fb9f3a"
             ],
             [
              0.8888888888888888,
              "#fdca26"
             ],
             [
              1,
              "#f0f921"
             ]
            ],
            "type": "contour"
           }
          ],
          "contourcarpet": [
           {
            "colorbar": {
             "outlinewidth": 0,
             "ticks": ""
            },
            "type": "contourcarpet"
           }
          ],
          "heatmap": [
           {
            "colorbar": {
             "outlinewidth": 0,
             "ticks": ""
            },
            "colorscale": [
             [
              0,
              "#0d0887"
             ],
             [
              0.1111111111111111,
              "#46039f"
             ],
             [
              0.2222222222222222,
              "#7201a8"
             ],
             [
              0.3333333333333333,
              "#9c179e"
             ],
             [
              0.4444444444444444,
              "#bd3786"
             ],
             [
              0.5555555555555556,
              "#d8576b"
             ],
             [
              0.6666666666666666,
              "#ed7953"
             ],
             [
              0.7777777777777778,
              "#fb9f3a"
             ],
             [
              0.8888888888888888,
              "#fdca26"
             ],
             [
              1,
              "#f0f921"
             ]
            ],
            "type": "heatmap"
           }
          ],
          "heatmapgl": [
           {
            "colorbar": {
             "outlinewidth": 0,
             "ticks": ""
            },
            "colorscale": [
             [
              0,
              "#0d0887"
             ],
             [
              0.1111111111111111,
              "#46039f"
             ],
             [
              0.2222222222222222,
              "#7201a8"
             ],
             [
              0.3333333333333333,
              "#9c179e"
             ],
             [
              0.4444444444444444,
              "#bd3786"
             ],
             [
              0.5555555555555556,
              "#d8576b"
             ],
             [
              0.6666666666666666,
              "#ed7953"
             ],
             [
              0.7777777777777778,
              "#fb9f3a"
             ],
             [
              0.8888888888888888,
              "#fdca26"
             ],
             [
              1,
              "#f0f921"
             ]
            ],
            "type": "heatmapgl"
           }
          ],
          "histogram": [
           {
            "marker": {
             "pattern": {
              "fillmode": "overlay",
              "size": 10,
              "solidity": 0.2
             }
            },
            "type": "histogram"
           }
          ],
          "histogram2d": [
           {
            "colorbar": {
             "outlinewidth": 0,
             "ticks": ""
            },
            "colorscale": [
             [
              0,
              "#0d0887"
             ],
             [
              0.1111111111111111,
              "#46039f"
             ],
             [
              0.2222222222222222,
              "#7201a8"
             ],
             [
              0.3333333333333333,
              "#9c179e"
             ],
             [
              0.4444444444444444,
              "#bd3786"
             ],
             [
              0.5555555555555556,
              "#d8576b"
             ],
             [
              0.6666666666666666,
              "#ed7953"
             ],
             [
              0.7777777777777778,
              "#fb9f3a"
             ],
             [
              0.8888888888888888,
              "#fdca26"
             ],
             [
              1,
              "#f0f921"
             ]
            ],
            "type": "histogram2d"
           }
          ],
          "histogram2dcontour": [
           {
            "colorbar": {
             "outlinewidth": 0,
             "ticks": ""
            },
            "colorscale": [
             [
              0,
              "#0d0887"
             ],
             [
              0.1111111111111111,
              "#46039f"
             ],
             [
              0.2222222222222222,
              "#7201a8"
             ],
             [
              0.3333333333333333,
              "#9c179e"
             ],
             [
              0.4444444444444444,
              "#bd3786"
             ],
             [
              0.5555555555555556,
              "#d8576b"
             ],
             [
              0.6666666666666666,
              "#ed7953"
             ],
             [
              0.7777777777777778,
              "#fb9f3a"
             ],
             [
              0.8888888888888888,
              "#fdca26"
             ],
             [
              1,
              "#f0f921"
             ]
            ],
            "type": "histogram2dcontour"
           }
          ],
          "mesh3d": [
           {
            "colorbar": {
             "outlinewidth": 0,
             "ticks": ""
            },
            "type": "mesh3d"
           }
          ],
          "parcoords": [
           {
            "line": {
             "colorbar": {
              "outlinewidth": 0,
              "ticks": ""
             }
            },
            "type": "parcoords"
           }
          ],
          "pie": [
           {
            "automargin": true,
            "type": "pie"
           }
          ],
          "scatter": [
           {
            "fillpattern": {
             "fillmode": "overlay",
             "size": 10,
             "solidity": 0.2
            },
            "type": "scatter"
           }
          ],
          "scatter3d": [
           {
            "line": {
             "colorbar": {
              "outlinewidth": 0,
              "ticks": ""
             }
            },
            "marker": {
             "colorbar": {
              "outlinewidth": 0,
              "ticks": ""
             }
            },
            "type": "scatter3d"
           }
          ],
          "scattercarpet": [
           {
            "marker": {
             "colorbar": {
              "outlinewidth": 0,
              "ticks": ""
             }
            },
            "type": "scattercarpet"
           }
          ],
          "scattergeo": [
           {
            "marker": {
             "colorbar": {
              "outlinewidth": 0,
              "ticks": ""
             }
            },
            "type": "scattergeo"
           }
          ],
          "scattergl": [
           {
            "marker": {
             "colorbar": {
              "outlinewidth": 0,
              "ticks": ""
             }
            },
            "type": "scattergl"
           }
          ],
          "scattermapbox": [
           {
            "marker": {
             "colorbar": {
              "outlinewidth": 0,
              "ticks": ""
             }
            },
            "type": "scattermapbox"
           }
          ],
          "scatterpolar": [
           {
            "marker": {
             "colorbar": {
              "outlinewidth": 0,
              "ticks": ""
             }
            },
            "type": "scatterpolar"
           }
          ],
          "scatterpolargl": [
           {
            "marker": {
             "colorbar": {
              "outlinewidth": 0,
              "ticks": ""
             }
            },
            "type": "scatterpolargl"
           }
          ],
          "scatterternary": [
           {
            "marker": {
             "colorbar": {
              "outlinewidth": 0,
              "ticks": ""
             }
            },
            "type": "scatterternary"
           }
          ],
          "surface": [
           {
            "colorbar": {
             "outlinewidth": 0,
             "ticks": ""
            },
            "colorscale": [
             [
              0,
              "#0d0887"
             ],
             [
              0.1111111111111111,
              "#46039f"
             ],
             [
              0.2222222222222222,
              "#7201a8"
             ],
             [
              0.3333333333333333,
              "#9c179e"
             ],
             [
              0.4444444444444444,
              "#bd3786"
             ],
             [
              0.5555555555555556,
              "#d8576b"
             ],
             [
              0.6666666666666666,
              "#ed7953"
             ],
             [
              0.7777777777777778,
              "#fb9f3a"
             ],
             [
              0.8888888888888888,
              "#fdca26"
             ],
             [
              1,
              "#f0f921"
             ]
            ],
            "type": "surface"
           }
          ],
          "table": [
           {
            "cells": {
             "fill": {
              "color": "#EBF0F8"
             },
             "line": {
              "color": "white"
             }
            },
            "header": {
             "fill": {
              "color": "#C8D4E3"
             },
             "line": {
              "color": "white"
             }
            },
            "type": "table"
           }
          ]
         },
         "layout": {
          "annotationdefaults": {
           "arrowcolor": "#2a3f5f",
           "arrowhead": 0,
           "arrowwidth": 1
          },
          "autotypenumbers": "strict",
          "coloraxis": {
           "colorbar": {
            "outlinewidth": 0,
            "ticks": ""
           }
          },
          "colorscale": {
           "diverging": [
            [
             0,
             "#8e0152"
            ],
            [
             0.1,
             "#c51b7d"
            ],
            [
             0.2,
             "#de77ae"
            ],
            [
             0.3,
             "#f1b6da"
            ],
            [
             0.4,
             "#fde0ef"
            ],
            [
             0.5,
             "#f7f7f7"
            ],
            [
             0.6,
             "#e6f5d0"
            ],
            [
             0.7,
             "#b8e186"
            ],
            [
             0.8,
             "#7fbc41"
            ],
            [
             0.9,
             "#4d9221"
            ],
            [
             1,
             "#276419"
            ]
           ],
           "sequential": [
            [
             0,
             "#0d0887"
            ],
            [
             0.1111111111111111,
             "#46039f"
            ],
            [
             0.2222222222222222,
             "#7201a8"
            ],
            [
             0.3333333333333333,
             "#9c179e"
            ],
            [
             0.4444444444444444,
             "#bd3786"
            ],
            [
             0.5555555555555556,
             "#d8576b"
            ],
            [
             0.6666666666666666,
             "#ed7953"
            ],
            [
             0.7777777777777778,
             "#fb9f3a"
            ],
            [
             0.8888888888888888,
             "#fdca26"
            ],
            [
             1,
             "#f0f921"
            ]
           ],
           "sequentialminus": [
            [
             0,
             "#0d0887"
            ],
            [
             0.1111111111111111,
             "#46039f"
            ],
            [
             0.2222222222222222,
             "#7201a8"
            ],
            [
             0.3333333333333333,
             "#9c179e"
            ],
            [
             0.4444444444444444,
             "#bd3786"
            ],
            [
             0.5555555555555556,
             "#d8576b"
            ],
            [
             0.6666666666666666,
             "#ed7953"
            ],
            [
             0.7777777777777778,
             "#fb9f3a"
            ],
            [
             0.8888888888888888,
             "#fdca26"
            ],
            [
             1,
             "#f0f921"
            ]
           ]
          },
          "colorway": [
           "#636efa",
           "#EF553B",
           "#00cc96",
           "#ab63fa",
           "#FFA15A",
           "#19d3f3",
           "#FF6692",
           "#B6E880",
           "#FF97FF",
           "#FECB52"
          ],
          "font": {
           "color": "#2a3f5f"
          },
          "geo": {
           "bgcolor": "white",
           "lakecolor": "white",
           "landcolor": "#E5ECF6",
           "showlakes": true,
           "showland": true,
           "subunitcolor": "white"
          },
          "hoverlabel": {
           "align": "left"
          },
          "hovermode": "closest",
          "mapbox": {
           "style": "light"
          },
          "paper_bgcolor": "white",
          "plot_bgcolor": "#E5ECF6",
          "polar": {
           "angularaxis": {
            "gridcolor": "white",
            "linecolor": "white",
            "ticks": ""
           },
           "bgcolor": "#E5ECF6",
           "radialaxis": {
            "gridcolor": "white",
            "linecolor": "white",
            "ticks": ""
           }
          },
          "scene": {
           "xaxis": {
            "backgroundcolor": "#E5ECF6",
            "gridcolor": "white",
            "gridwidth": 2,
            "linecolor": "white",
            "showbackground": true,
            "ticks": "",
            "zerolinecolor": "white"
           },
           "yaxis": {
            "backgroundcolor": "#E5ECF6",
            "gridcolor": "white",
            "gridwidth": 2,
            "linecolor": "white",
            "showbackground": true,
            "ticks": "",
            "zerolinecolor": "white"
           },
           "zaxis": {
            "backgroundcolor": "#E5ECF6",
            "gridcolor": "white",
            "gridwidth": 2,
            "linecolor": "white",
            "showbackground": true,
            "ticks": "",
            "zerolinecolor": "white"
           }
          },
          "shapedefaults": {
           "line": {
            "color": "#2a3f5f"
           }
          },
          "ternary": {
           "aaxis": {
            "gridcolor": "white",
            "linecolor": "white",
            "ticks": ""
           },
           "baxis": {
            "gridcolor": "white",
            "linecolor": "white",
            "ticks": ""
           },
           "bgcolor": "#E5ECF6",
           "caxis": {
            "gridcolor": "white",
            "linecolor": "white",
            "ticks": ""
           }
          },
          "title": {
           "x": 0.05
          },
          "xaxis": {
           "automargin": true,
           "gridcolor": "white",
           "linecolor": "white",
           "ticks": "",
           "title": {
            "standoff": 15
           },
           "zerolinecolor": "white",
           "zerolinewidth": 2
          },
          "yaxis": {
           "automargin": true,
           "gridcolor": "white",
           "linecolor": "white",
           "ticks": "",
           "title": {
            "standoff": 15
           },
           "zerolinecolor": "white",
           "zerolinewidth": 2
          }
         }
        },
        "title": {
         "text": "Empirical Distribution Function Plot"
        },
        "xaxis": {
         "title": {
          "text": "Objective Value"
         }
        },
        "yaxis": {
         "range": [
          0,
          1
         ],
         "title": {
          "text": "Cumulative Probability"
         }
        }
       }
      },
      "text/html": [
       "<div>                            <div id=\"e52b7b75-776e-4e07-b953-e38b57c51f99\" class=\"plotly-graph-div\" style=\"height:525px; width:100%;\"></div>            <script type=\"text/javascript\">                require([\"plotly\"], function(Plotly) {                    window.PLOTLYENV=window.PLOTLYENV || {};                                    if (document.getElementById(\"e52b7b75-776e-4e07-b953-e38b57c51f99\")) {                    Plotly.newPlot(                        \"e52b7b75-776e-4e07-b953-e38b57c51f99\",                        [{\"mode\":\"lines\",\"name\":\"optimize_wavelet_choice\",\"x\":[0.469696968793869,0.473829200171461,0.477961431549053,0.482093662926645,0.48622589430423696,0.49035812568182896,0.49449035705942096,0.49862258843701296,0.5027548198146049,0.5068870511921969,0.5110192825697889,0.5151515139473809,0.5192837453249729,0.5234159767025649,0.5275482080801569,0.5316804394577489,0.5358126708353409,0.5399449022129329,0.5440771335905249,0.5482093649681168,0.5523415963457088,0.5564738277233008,0.5606060591008928,0.5647382904784848,0.5688705218560768,0.5730027532336688,0.5771349846112608,0.5812672159888528,0.5853994473664448,0.5895316787440368,0.5936639101216288,0.5977961414992208,0.6019283728768128,0.6060606042544048,0.6101928356319967,0.6143250670095887,0.6184572983871807,0.6225895297647727,0.6267217611423647,0.6308539925199567,0.6349862238975487,0.6391184552751407,0.6432506866527327,0.6473829180303247,0.6515151494079165,0.6556473807855085,0.6597796121631005,0.6639118435406925,0.6680440749182845,0.6721763062958765,0.6763085376734685,0.6804407690510605,0.6845730004286525,0.6887052318062445,0.6928374631838365,0.6969696945614285,0.7011019259390205,0.7052341573166125,0.7093663886942045,0.7134986200717965,0.7176308514493884,0.7217630828269804,0.7258953142045724,0.7300275455821644,0.7341597769597564,0.7382920083373484,0.7424242397149404,0.7465564710925324,0.7506887024701243,0.7548209338477163,0.7589531652253083,0.7630853966029003,0.7672176279804923,0.7713498593580843,0.7754820907356763,0.7796143221132683,0.7837465534908603,0.7878787848684523,0.7920110162460443,0.7961432476236363,0.8002754790012283,0.8044077103788203,0.8085399417564123,0.8126721731340043,0.8168044045115963,0.8209366358891883,0.8250688672667803,0.8292010986443722,0.8333333300219642,0.8374655613995562,0.8415977927771482,0.8457300241547402,0.8498622555323322,0.8539944869099241,0.8581267182875161,0.8622589496651081,0.8663911810427001,0.8705234124202921,0.8746556437978841,0.8787878751754761],\"y\":[0.017543859649122806,0.017543859649122806,0.017543859649122806,0.017543859649122806,0.017543859649122806,0.017543859649122806,0.02631578947368421,0.03508771929824561,0.043859649122807015,0.06140350877192982,0.08771929824561403,0.10526315789473684,0.11403508771929824,0.14912280701754385,0.15789473684210525,0.16666666666666666,0.16666666666666666,0.17543859649122806,0.17543859649122806,0.18421052631578946,0.18421052631578946,0.18421052631578946,0.18421052631578946,0.18421052631578946,0.18421052631578946,0.18421052631578946,0.18421052631578946,0.18421052631578946,0.19298245614035087,0.19298245614035087,0.19298245614035087,0.20175438596491227,0.20175438596491227,0.20175438596491227,0.20175438596491227,0.20175438596491227,0.20175438596491227,0.20175438596491227,0.20175438596491227,0.20175438596491227,0.20175438596491227,0.20175438596491227,0.20175438596491227,0.20175438596491227,0.20175438596491227,0.20175438596491227,0.20175438596491227,0.20175438596491227,0.20175438596491227,0.20175438596491227,0.21052631578947367,0.21052631578947367,0.21052631578947367,0.21929824561403508,0.21929824561403508,0.21929824561403508,0.21929824561403508,0.22807017543859648,0.24561403508771928,0.24561403508771928,0.2631578947368421,0.2719298245614035,0.2719298245614035,0.2807017543859649,0.30701754385964913,0.30701754385964913,0.3157894736842105,0.3157894736842105,0.3157894736842105,0.35964912280701755,0.37719298245614036,0.39473684210526316,0.40350877192982454,0.40350877192982454,0.40350877192982454,0.43859649122807015,0.45614035087719296,0.47368421052631576,0.5,0.5350877192982456,0.5877192982456141,0.6052631578947368,0.631578947368421,0.6666666666666666,0.6666666666666666,0.7105263157894737,0.7631578947368421,0.7982456140350878,0.868421052631579,0.8771929824561403,0.8947368421052632,0.9122807017543859,0.9122807017543859,0.9298245614035088,0.9649122807017544,0.9736842105263158,0.9736842105263158,0.9912280701754386,0.9912280701754386,1.0],\"type\":\"scatter\"}],                        {\"title\":{\"text\":\"Empirical Distribution Function Plot\"},\"xaxis\":{\"title\":{\"text\":\"Objective Value\"}},\"yaxis\":{\"title\":{\"text\":\"Cumulative Probability\"},\"range\":[0,1]},\"template\":{\"data\":{\"histogram2dcontour\":[{\"type\":\"histogram2dcontour\",\"colorbar\":{\"outlinewidth\":0,\"ticks\":\"\"},\"colorscale\":[[0.0,\"#0d0887\"],[0.1111111111111111,\"#46039f\"],[0.2222222222222222,\"#7201a8\"],[0.3333333333333333,\"#9c179e\"],[0.4444444444444444,\"#bd3786\"],[0.5555555555555556,\"#d8576b\"],[0.6666666666666666,\"#ed7953\"],[0.7777777777777778,\"#fb9f3a\"],[0.8888888888888888,\"#fdca26\"],[1.0,\"#f0f921\"]]}],\"choropleth\":[{\"type\":\"choropleth\",\"colorbar\":{\"outlinewidth\":0,\"ticks\":\"\"}}],\"histogram2d\":[{\"type\":\"histogram2d\",\"colorbar\":{\"outlinewidth\":0,\"ticks\":\"\"},\"colorscale\":[[0.0,\"#0d0887\"],[0.1111111111111111,\"#46039f\"],[0.2222222222222222,\"#7201a8\"],[0.3333333333333333,\"#9c179e\"],[0.4444444444444444,\"#bd3786\"],[0.5555555555555556,\"#d8576b\"],[0.6666666666666666,\"#ed7953\"],[0.7777777777777778,\"#fb9f3a\"],[0.8888888888888888,\"#fdca26\"],[1.0,\"#f0f921\"]]}],\"heatmap\":[{\"type\":\"heatmap\",\"colorbar\":{\"outlinewidth\":0,\"ticks\":\"\"},\"colorscale\":[[0.0,\"#0d0887\"],[0.1111111111111111,\"#46039f\"],[0.2222222222222222,\"#7201a8\"],[0.3333333333333333,\"#9c179e\"],[0.4444444444444444,\"#bd3786\"],[0.5555555555555556,\"#d8576b\"],[0.6666666666666666,\"#ed7953\"],[0.7777777777777778,\"#fb9f3a\"],[0.8888888888888888,\"#fdca26\"],[1.0,\"#f0f921\"]]}],\"heatmapgl\":[{\"type\":\"heatmapgl\",\"colorbar\":{\"outlinewidth\":0,\"ticks\":\"\"},\"colorscale\":[[0.0,\"#0d0887\"],[0.1111111111111111,\"#46039f\"],[0.2222222222222222,\"#7201a8\"],[0.3333333333333333,\"#9c179e\"],[0.4444444444444444,\"#bd3786\"],[0.5555555555555556,\"#d8576b\"],[0.6666666666666666,\"#ed7953\"],[0.7777777777777778,\"#fb9f3a\"],[0.8888888888888888,\"#fdca26\"],[1.0,\"#f0f921\"]]}],\"contourcarpet\":[{\"type\":\"contourcarpet\",\"colorbar\":{\"outlinewidth\":0,\"ticks\":\"\"}}],\"contour\":[{\"type\":\"contour\",\"colorbar\":{\"outlinewidth\":0,\"ticks\":\"\"},\"colorscale\":[[0.0,\"#0d0887\"],[0.1111111111111111,\"#46039f\"],[0.2222222222222222,\"#7201a8\"],[0.3333333333333333,\"#9c179e\"],[0.4444444444444444,\"#bd3786\"],[0.5555555555555556,\"#d8576b\"],[0.6666666666666666,\"#ed7953\"],[0.7777777777777778,\"#fb9f3a\"],[0.8888888888888888,\"#fdca26\"],[1.0,\"#f0f921\"]]}],\"surface\":[{\"type\":\"surface\",\"colorbar\":{\"outlinewidth\":0,\"ticks\":\"\"},\"colorscale\":[[0.0,\"#0d0887\"],[0.1111111111111111,\"#46039f\"],[0.2222222222222222,\"#7201a8\"],[0.3333333333333333,\"#9c179e\"],[0.4444444444444444,\"#bd3786\"],[0.5555555555555556,\"#d8576b\"],[0.6666666666666666,\"#ed7953\"],[0.7777777777777778,\"#fb9f3a\"],[0.8888888888888888,\"#fdca26\"],[1.0,\"#f0f921\"]]}],\"mesh3d\":[{\"type\":\"mesh3d\",\"colorbar\":{\"outlinewidth\":0,\"ticks\":\"\"}}],\"scatter\":[{\"fillpattern\":{\"fillmode\":\"overlay\",\"size\":10,\"solidity\":0.2},\"type\":\"scatter\"}],\"parcoords\":[{\"type\":\"parcoords\",\"line\":{\"colorbar\":{\"outlinewidth\":0,\"ticks\":\"\"}}}],\"scatterpolargl\":[{\"type\":\"scatterpolargl\",\"marker\":{\"colorbar\":{\"outlinewidth\":0,\"ticks\":\"\"}}}],\"bar\":[{\"error_x\":{\"color\":\"#2a3f5f\"},\"error_y\":{\"color\":\"#2a3f5f\"},\"marker\":{\"line\":{\"color\":\"#E5ECF6\",\"width\":0.5},\"pattern\":{\"fillmode\":\"overlay\",\"size\":10,\"solidity\":0.2}},\"type\":\"bar\"}],\"scattergeo\":[{\"type\":\"scattergeo\",\"marker\":{\"colorbar\":{\"outlinewidth\":0,\"ticks\":\"\"}}}],\"scatterpolar\":[{\"type\":\"scatterpolar\",\"marker\":{\"colorbar\":{\"outlinewidth\":0,\"ticks\":\"\"}}}],\"histogram\":[{\"marker\":{\"pattern\":{\"fillmode\":\"overlay\",\"size\":10,\"solidity\":0.2}},\"type\":\"histogram\"}],\"scattergl\":[{\"type\":\"scattergl\",\"marker\":{\"colorbar\":{\"outlinewidth\":0,\"ticks\":\"\"}}}],\"scatter3d\":[{\"type\":\"scatter3d\",\"line\":{\"colorbar\":{\"outlinewidth\":0,\"ticks\":\"\"}},\"marker\":{\"colorbar\":{\"outlinewidth\":0,\"ticks\":\"\"}}}],\"scattermapbox\":[{\"type\":\"scattermapbox\",\"marker\":{\"colorbar\":{\"outlinewidth\":0,\"ticks\":\"\"}}}],\"scatterternary\":[{\"type\":\"scatterternary\",\"marker\":{\"colorbar\":{\"outlinewidth\":0,\"ticks\":\"\"}}}],\"scattercarpet\":[{\"type\":\"scattercarpet\",\"marker\":{\"colorbar\":{\"outlinewidth\":0,\"ticks\":\"\"}}}],\"carpet\":[{\"aaxis\":{\"endlinecolor\":\"#2a3f5f\",\"gridcolor\":\"white\",\"linecolor\":\"white\",\"minorgridcolor\":\"white\",\"startlinecolor\":\"#2a3f5f\"},\"baxis\":{\"endlinecolor\":\"#2a3f5f\",\"gridcolor\":\"white\",\"linecolor\":\"white\",\"minorgridcolor\":\"white\",\"startlinecolor\":\"#2a3f5f\"},\"type\":\"carpet\"}],\"table\":[{\"cells\":{\"fill\":{\"color\":\"#EBF0F8\"},\"line\":{\"color\":\"white\"}},\"header\":{\"fill\":{\"color\":\"#C8D4E3\"},\"line\":{\"color\":\"white\"}},\"type\":\"table\"}],\"barpolar\":[{\"marker\":{\"line\":{\"color\":\"#E5ECF6\",\"width\":0.5},\"pattern\":{\"fillmode\":\"overlay\",\"size\":10,\"solidity\":0.2}},\"type\":\"barpolar\"}],\"pie\":[{\"automargin\":true,\"type\":\"pie\"}]},\"layout\":{\"autotypenumbers\":\"strict\",\"colorway\":[\"#636efa\",\"#EF553B\",\"#00cc96\",\"#ab63fa\",\"#FFA15A\",\"#19d3f3\",\"#FF6692\",\"#B6E880\",\"#FF97FF\",\"#FECB52\"],\"font\":{\"color\":\"#2a3f5f\"},\"hovermode\":\"closest\",\"hoverlabel\":{\"align\":\"left\"},\"paper_bgcolor\":\"white\",\"plot_bgcolor\":\"#E5ECF6\",\"polar\":{\"bgcolor\":\"#E5ECF6\",\"angularaxis\":{\"gridcolor\":\"white\",\"linecolor\":\"white\",\"ticks\":\"\"},\"radialaxis\":{\"gridcolor\":\"white\",\"linecolor\":\"white\",\"ticks\":\"\"}},\"ternary\":{\"bgcolor\":\"#E5ECF6\",\"aaxis\":{\"gridcolor\":\"white\",\"linecolor\":\"white\",\"ticks\":\"\"},\"baxis\":{\"gridcolor\":\"white\",\"linecolor\":\"white\",\"ticks\":\"\"},\"caxis\":{\"gridcolor\":\"white\",\"linecolor\":\"white\",\"ticks\":\"\"}},\"coloraxis\":{\"colorbar\":{\"outlinewidth\":0,\"ticks\":\"\"}},\"colorscale\":{\"sequential\":[[0.0,\"#0d0887\"],[0.1111111111111111,\"#46039f\"],[0.2222222222222222,\"#7201a8\"],[0.3333333333333333,\"#9c179e\"],[0.4444444444444444,\"#bd3786\"],[0.5555555555555556,\"#d8576b\"],[0.6666666666666666,\"#ed7953\"],[0.7777777777777778,\"#fb9f3a\"],[0.8888888888888888,\"#fdca26\"],[1.0,\"#f0f921\"]],\"sequentialminus\":[[0.0,\"#0d0887\"],[0.1111111111111111,\"#46039f\"],[0.2222222222222222,\"#7201a8\"],[0.3333333333333333,\"#9c179e\"],[0.4444444444444444,\"#bd3786\"],[0.5555555555555556,\"#d8576b\"],[0.6666666666666666,\"#ed7953\"],[0.7777777777777778,\"#fb9f3a\"],[0.8888888888888888,\"#fdca26\"],[1.0,\"#f0f921\"]],\"diverging\":[[0,\"#8e0152\"],[0.1,\"#c51b7d\"],[0.2,\"#de77ae\"],[0.3,\"#f1b6da\"],[0.4,\"#fde0ef\"],[0.5,\"#f7f7f7\"],[0.6,\"#e6f5d0\"],[0.7,\"#b8e186\"],[0.8,\"#7fbc41\"],[0.9,\"#4d9221\"],[1,\"#276419\"]]},\"xaxis\":{\"gridcolor\":\"white\",\"linecolor\":\"white\",\"ticks\":\"\",\"title\":{\"standoff\":15},\"zerolinecolor\":\"white\",\"automargin\":true,\"zerolinewidth\":2},\"yaxis\":{\"gridcolor\":\"white\",\"linecolor\":\"white\",\"ticks\":\"\",\"title\":{\"standoff\":15},\"zerolinecolor\":\"white\",\"automargin\":true,\"zerolinewidth\":2},\"scene\":{\"xaxis\":{\"backgroundcolor\":\"#E5ECF6\",\"gridcolor\":\"white\",\"linecolor\":\"white\",\"showbackground\":true,\"ticks\":\"\",\"zerolinecolor\":\"white\",\"gridwidth\":2},\"yaxis\":{\"backgroundcolor\":\"#E5ECF6\",\"gridcolor\":\"white\",\"linecolor\":\"white\",\"showbackground\":true,\"ticks\":\"\",\"zerolinecolor\":\"white\",\"gridwidth\":2},\"zaxis\":{\"backgroundcolor\":\"#E5ECF6\",\"gridcolor\":\"white\",\"linecolor\":\"white\",\"showbackground\":true,\"ticks\":\"\",\"zerolinecolor\":\"white\",\"gridwidth\":2}},\"shapedefaults\":{\"line\":{\"color\":\"#2a3f5f\"}},\"annotationdefaults\":{\"arrowcolor\":\"#2a3f5f\",\"arrowhead\":0,\"arrowwidth\":1},\"geo\":{\"bgcolor\":\"white\",\"landcolor\":\"#E5ECF6\",\"subunitcolor\":\"white\",\"showland\":true,\"showlakes\":true,\"lakecolor\":\"white\"},\"title\":{\"x\":0.05},\"mapbox\":{\"style\":\"light\"}}}},                        {\"responsive\": true}                    ).then(function(){\n",
       "                            \n",
       "var gd = document.getElementById('e52b7b75-776e-4e07-b953-e38b57c51f99');\n",
       "var x = new MutationObserver(function (mutations, observer) {{\n",
       "        var display = window.getComputedStyle(gd).display;\n",
       "        if (!display || display === 'none') {{\n",
       "            console.log([gd, 'removed!']);\n",
       "            Plotly.purge(gd);\n",
       "            observer.disconnect();\n",
       "        }}\n",
       "}});\n",
       "\n",
       "// Listen for the removal of the full notebook cells\n",
       "var notebookContainer = gd.closest('#notebook-container');\n",
       "if (notebookContainer) {{\n",
       "    x.observe(notebookContainer, {childList: true});\n",
       "}}\n",
       "\n",
       "// Listen for the clearing of the current output cell\n",
       "var outputEl = gd.closest('.output');\n",
       "if (outputEl) {{\n",
       "    x.observe(outputEl, {childList: true});\n",
       "}}\n",
       "\n",
       "                        })                };                });            </script>        </div>"
      ]
     },
     "metadata": {},
     "output_type": "display_data"
    }
   ],
   "source": [
    "visualization.plot_edf(study)"
   ]
  },
  {
   "cell_type": "code",
   "execution_count": 11,
   "id": "60bb5a91",
   "metadata": {},
   "outputs": [
    {
     "data": {
      "application/vnd.plotly.v1+json": {
       "config": {
        "plotlyServerURL": "https://plot.ly"
       },
       "data": [
        {
         "mode": "markers",
         "name": "Objective Value",
         "type": "scatter",
         "x": [
          0,
          1,
          2,
          3,
          4,
          5,
          6,
          7,
          8,
          9,
          10,
          11,
          12,
          13,
          14,
          15,
          16,
          17,
          18,
          19,
          20,
          21,
          22,
          23,
          24,
          25,
          26,
          27,
          28,
          29,
          30,
          31,
          32,
          33,
          34,
          35,
          36,
          37,
          38,
          39,
          40,
          41,
          42,
          43,
          44,
          45,
          46,
          47,
          48,
          49,
          50,
          51,
          52,
          53,
          54,
          55,
          56,
          57,
          58,
          59,
          60,
          61,
          62,
          63,
          64,
          65,
          66,
          67,
          68,
          69,
          70,
          71,
          72,
          73,
          74,
          75,
          76,
          77,
          78,
          79,
          80,
          81,
          82,
          83,
          84,
          85,
          86,
          87,
          88,
          89,
          90,
          91,
          92,
          93,
          94,
          95,
          96,
          97,
          98,
          99,
          100,
          101,
          102,
          103,
          104,
          105,
          106,
          107,
          108,
          109,
          110,
          111,
          112,
          113
         ],
         "y": [
          0.5454545617103577,
          0.7303030490875244,
          0.8060606122016907,
          0.8333333134651184,
          0.7333333492279053,
          0.8060606122016907,
          0.7848485112190247,
          0.8272727131843567,
          0.7939394116401672,
          0.739393949508667,
          0.8606060743331909,
          0.7939394116401672,
          0.8363636136054993,
          0.7818182110786438,
          0.8545454740524292,
          0.49696969985961914,
          0.800000011920929,
          0.7515151500701904,
          0.8030303120613098,
          0.8575757741928101,
          0.8090909123420715,
          0.8181818127632141,
          0.539393961429596,
          0.5181818008422852,
          0.8333333134651184,
          0.8515151739120483,
          0.5303030014038086,
          0.760606050491333,
          0.7575757503509521,
          0.7060605883598328,
          0.469696968793869,
          0.7030302882194519,
          0.7787878513336182,
          0.8090909123420715,
          0.7909091114997864,
          0.821212112903595,
          0.6878787875175476,
          0.7272727489471436,
          0.842424213886261,
          0.8393939137458801,
          0.6727272868156433,
          0.7151514887809753,
          0.8181818127632141,
          0.8060606122016907,
          0.8303030133247375,
          0.8787878751754761,
          0.7181817889213562,
          0.5090909004211426,
          0.521212100982666,
          0.760606050491333,
          0.8545454740524292,
          0.800000011920929,
          0.8272727131843567,
          0.8515151739120483,
          0.7939394116401672,
          0.7151514887809753,
          0.7060605883598328,
          0.8303030133247375,
          0.7818182110786438,
          0.7545454502105713,
          0.8303030133247375,
          0.8303030133247375,
          0.800000011920929,
          0.7515151500701904,
          0.4939393997192383,
          0.7333333492279053,
          0.5,
          0.5242424011230469,
          0.821212112903595,
          0.7757575511932373,
          0.8393939137458801,
          0.469696968793869,
          0.7545454502105713,
          0.596969723701477,
          0.521212100982666,
          0.7575757503509521,
          0.8030303120613098,
          0.8181818127632141,
          0.8545454740524292,
          0.7848485112190247,
          0.8454545736312866,
          0.8696969747543335,
          0.521212100982666,
          0.8181818127632141,
          0.8272727131843567,
          0.8181818127632141,
          0.7545454502105713,
          0.5151515007019043,
          0.8121212124824524,
          0.8242424130439758,
          0.8333333134651184,
          0.581818163394928,
          0.5090909004211426,
          0.5060606002807617,
          0.8303030133247375,
          0.8121212124824524,
          0.7969697117805481,
          0.821212112903595,
          0.5060606002807617,
          0.800000011920929,
          0.7787878513336182,
          0.800000011920929,
          0.5121212005615234,
          0.7757575511932373,
          0.521212100982666,
          0.821212112903595,
          0.8696969747543335,
          0.821212112903595,
          0.7878788113594055,
          0.7939394116401672,
          0.8272727131843567,
          0.7666666507720947,
          0.5090909004211426,
          0.7909091114997864
         ]
        },
        {
         "name": "Best Value",
         "type": "scatter",
         "x": [
          0,
          1,
          2,
          3,
          4,
          5,
          6,
          7,
          8,
          9,
          10,
          11,
          12,
          13,
          14,
          15,
          16,
          17,
          18,
          19,
          20,
          21,
          22,
          23,
          24,
          25,
          26,
          27,
          28,
          29,
          30,
          31,
          32,
          33,
          34,
          35,
          36,
          37,
          38,
          39,
          40,
          41,
          42,
          43,
          44,
          45,
          46,
          47,
          48,
          49,
          50,
          51,
          52,
          53,
          54,
          55,
          56,
          57,
          58,
          59,
          60,
          61,
          62,
          63,
          64,
          65,
          66,
          67,
          68,
          69,
          70,
          71,
          72,
          73,
          74,
          75,
          76,
          77,
          78,
          79,
          80,
          81,
          82,
          83,
          84,
          85,
          86,
          87,
          88,
          89,
          90,
          91,
          92,
          93,
          94,
          95,
          96,
          97,
          98,
          99,
          100,
          101,
          102,
          103,
          104,
          105,
          106,
          107,
          108,
          109,
          110,
          111,
          112,
          113
         ],
         "y": [
          0.5454545617103577,
          0.7303030490875244,
          0.8060606122016907,
          0.8333333134651184,
          0.8333333134651184,
          0.8333333134651184,
          0.8333333134651184,
          0.8333333134651184,
          0.8333333134651184,
          0.8333333134651184,
          0.8606060743331909,
          0.8606060743331909,
          0.8606060743331909,
          0.8606060743331909,
          0.8606060743331909,
          0.8606060743331909,
          0.8606060743331909,
          0.8606060743331909,
          0.8606060743331909,
          0.8606060743331909,
          0.8606060743331909,
          0.8606060743331909,
          0.8606060743331909,
          0.8606060743331909,
          0.8606060743331909,
          0.8606060743331909,
          0.8606060743331909,
          0.8606060743331909,
          0.8606060743331909,
          0.8606060743331909,
          0.8606060743331909,
          0.8606060743331909,
          0.8606060743331909,
          0.8606060743331909,
          0.8606060743331909,
          0.8606060743331909,
          0.8606060743331909,
          0.8606060743331909,
          0.8606060743331909,
          0.8606060743331909,
          0.8606060743331909,
          0.8606060743331909,
          0.8606060743331909,
          0.8606060743331909,
          0.8606060743331909,
          0.8787878751754761,
          0.8787878751754761,
          0.8787878751754761,
          0.8787878751754761,
          0.8787878751754761,
          0.8787878751754761,
          0.8787878751754761,
          0.8787878751754761,
          0.8787878751754761,
          0.8787878751754761,
          0.8787878751754761,
          0.8787878751754761,
          0.8787878751754761,
          0.8787878751754761,
          0.8787878751754761,
          0.8787878751754761,
          0.8787878751754761,
          0.8787878751754761,
          0.8787878751754761,
          0.8787878751754761,
          0.8787878751754761,
          0.8787878751754761,
          0.8787878751754761,
          0.8787878751754761,
          0.8787878751754761,
          0.8787878751754761,
          0.8787878751754761,
          0.8787878751754761,
          0.8787878751754761,
          0.8787878751754761,
          0.8787878751754761,
          0.8787878751754761,
          0.8787878751754761,
          0.8787878751754761,
          0.8787878751754761,
          0.8787878751754761,
          0.8787878751754761,
          0.8787878751754761,
          0.8787878751754761,
          0.8787878751754761,
          0.8787878751754761,
          0.8787878751754761,
          0.8787878751754761,
          0.8787878751754761,
          0.8787878751754761,
          0.8787878751754761,
          0.8787878751754761,
          0.8787878751754761,
          0.8787878751754761,
          0.8787878751754761,
          0.8787878751754761,
          0.8787878751754761,
          0.8787878751754761,
          0.8787878751754761,
          0.8787878751754761,
          0.8787878751754761,
          0.8787878751754761,
          0.8787878751754761,
          0.8787878751754761,
          0.8787878751754761,
          0.8787878751754761,
          0.8787878751754761,
          0.8787878751754761,
          0.8787878751754761,
          0.8787878751754761,
          0.8787878751754761,
          0.8787878751754761,
          0.8787878751754761,
          0.8787878751754761
         ]
        }
       ],
       "layout": {
        "template": {
         "data": {
          "bar": [
           {
            "error_x": {
             "color": "#2a3f5f"
            },
            "error_y": {
             "color": "#2a3f5f"
            },
            "marker": {
             "line": {
              "color": "#E5ECF6",
              "width": 0.5
             },
             "pattern": {
              "fillmode": "overlay",
              "size": 10,
              "solidity": 0.2
             }
            },
            "type": "bar"
           }
          ],
          "barpolar": [
           {
            "marker": {
             "line": {
              "color": "#E5ECF6",
              "width": 0.5
             },
             "pattern": {
              "fillmode": "overlay",
              "size": 10,
              "solidity": 0.2
             }
            },
            "type": "barpolar"
           }
          ],
          "carpet": [
           {
            "aaxis": {
             "endlinecolor": "#2a3f5f",
             "gridcolor": "white",
             "linecolor": "white",
             "minorgridcolor": "white",
             "startlinecolor": "#2a3f5f"
            },
            "baxis": {
             "endlinecolor": "#2a3f5f",
             "gridcolor": "white",
             "linecolor": "white",
             "minorgridcolor": "white",
             "startlinecolor": "#2a3f5f"
            },
            "type": "carpet"
           }
          ],
          "choropleth": [
           {
            "colorbar": {
             "outlinewidth": 0,
             "ticks": ""
            },
            "type": "choropleth"
           }
          ],
          "contour": [
           {
            "colorbar": {
             "outlinewidth": 0,
             "ticks": ""
            },
            "colorscale": [
             [
              0,
              "#0d0887"
             ],
             [
              0.1111111111111111,
              "#46039f"
             ],
             [
              0.2222222222222222,
              "#7201a8"
             ],
             [
              0.3333333333333333,
              "#9c179e"
             ],
             [
              0.4444444444444444,
              "#bd3786"
             ],
             [
              0.5555555555555556,
              "#d8576b"
             ],
             [
              0.6666666666666666,
              "#ed7953"
             ],
             [
              0.7777777777777778,
              "#fb9f3a"
             ],
             [
              0.8888888888888888,
              "#fdca26"
             ],
             [
              1,
              "#f0f921"
             ]
            ],
            "type": "contour"
           }
          ],
          "contourcarpet": [
           {
            "colorbar": {
             "outlinewidth": 0,
             "ticks": ""
            },
            "type": "contourcarpet"
           }
          ],
          "heatmap": [
           {
            "colorbar": {
             "outlinewidth": 0,
             "ticks": ""
            },
            "colorscale": [
             [
              0,
              "#0d0887"
             ],
             [
              0.1111111111111111,
              "#46039f"
             ],
             [
              0.2222222222222222,
              "#7201a8"
             ],
             [
              0.3333333333333333,
              "#9c179e"
             ],
             [
              0.4444444444444444,
              "#bd3786"
             ],
             [
              0.5555555555555556,
              "#d8576b"
             ],
             [
              0.6666666666666666,
              "#ed7953"
             ],
             [
              0.7777777777777778,
              "#fb9f3a"
             ],
             [
              0.8888888888888888,
              "#fdca26"
             ],
             [
              1,
              "#f0f921"
             ]
            ],
            "type": "heatmap"
           }
          ],
          "heatmapgl": [
           {
            "colorbar": {
             "outlinewidth": 0,
             "ticks": ""
            },
            "colorscale": [
             [
              0,
              "#0d0887"
             ],
             [
              0.1111111111111111,
              "#46039f"
             ],
             [
              0.2222222222222222,
              "#7201a8"
             ],
             [
              0.3333333333333333,
              "#9c179e"
             ],
             [
              0.4444444444444444,
              "#bd3786"
             ],
             [
              0.5555555555555556,
              "#d8576b"
             ],
             [
              0.6666666666666666,
              "#ed7953"
             ],
             [
              0.7777777777777778,
              "#fb9f3a"
             ],
             [
              0.8888888888888888,
              "#fdca26"
             ],
             [
              1,
              "#f0f921"
             ]
            ],
            "type": "heatmapgl"
           }
          ],
          "histogram": [
           {
            "marker": {
             "pattern": {
              "fillmode": "overlay",
              "size": 10,
              "solidity": 0.2
             }
            },
            "type": "histogram"
           }
          ],
          "histogram2d": [
           {
            "colorbar": {
             "outlinewidth": 0,
             "ticks": ""
            },
            "colorscale": [
             [
              0,
              "#0d0887"
             ],
             [
              0.1111111111111111,
              "#46039f"
             ],
             [
              0.2222222222222222,
              "#7201a8"
             ],
             [
              0.3333333333333333,
              "#9c179e"
             ],
             [
              0.4444444444444444,
              "#bd3786"
             ],
             [
              0.5555555555555556,
              "#d8576b"
             ],
             [
              0.6666666666666666,
              "#ed7953"
             ],
             [
              0.7777777777777778,
              "#fb9f3a"
             ],
             [
              0.8888888888888888,
              "#fdca26"
             ],
             [
              1,
              "#f0f921"
             ]
            ],
            "type": "histogram2d"
           }
          ],
          "histogram2dcontour": [
           {
            "colorbar": {
             "outlinewidth": 0,
             "ticks": ""
            },
            "colorscale": [
             [
              0,
              "#0d0887"
             ],
             [
              0.1111111111111111,
              "#46039f"
             ],
             [
              0.2222222222222222,
              "#7201a8"
             ],
             [
              0.3333333333333333,
              "#9c179e"
             ],
             [
              0.4444444444444444,
              "#bd3786"
             ],
             [
              0.5555555555555556,
              "#d8576b"
             ],
             [
              0.6666666666666666,
              "#ed7953"
             ],
             [
              0.7777777777777778,
              "#fb9f3a"
             ],
             [
              0.8888888888888888,
              "#fdca26"
             ],
             [
              1,
              "#f0f921"
             ]
            ],
            "type": "histogram2dcontour"
           }
          ],
          "mesh3d": [
           {
            "colorbar": {
             "outlinewidth": 0,
             "ticks": ""
            },
            "type": "mesh3d"
           }
          ],
          "parcoords": [
           {
            "line": {
             "colorbar": {
              "outlinewidth": 0,
              "ticks": ""
             }
            },
            "type": "parcoords"
           }
          ],
          "pie": [
           {
            "automargin": true,
            "type": "pie"
           }
          ],
          "scatter": [
           {
            "fillpattern": {
             "fillmode": "overlay",
             "size": 10,
             "solidity": 0.2
            },
            "type": "scatter"
           }
          ],
          "scatter3d": [
           {
            "line": {
             "colorbar": {
              "outlinewidth": 0,
              "ticks": ""
             }
            },
            "marker": {
             "colorbar": {
              "outlinewidth": 0,
              "ticks": ""
             }
            },
            "type": "scatter3d"
           }
          ],
          "scattercarpet": [
           {
            "marker": {
             "colorbar": {
              "outlinewidth": 0,
              "ticks": ""
             }
            },
            "type": "scattercarpet"
           }
          ],
          "scattergeo": [
           {
            "marker": {
             "colorbar": {
              "outlinewidth": 0,
              "ticks": ""
             }
            },
            "type": "scattergeo"
           }
          ],
          "scattergl": [
           {
            "marker": {
             "colorbar": {
              "outlinewidth": 0,
              "ticks": ""
             }
            },
            "type": "scattergl"
           }
          ],
          "scattermapbox": [
           {
            "marker": {
             "colorbar": {
              "outlinewidth": 0,
              "ticks": ""
             }
            },
            "type": "scattermapbox"
           }
          ],
          "scatterpolar": [
           {
            "marker": {
             "colorbar": {
              "outlinewidth": 0,
              "ticks": ""
             }
            },
            "type": "scatterpolar"
           }
          ],
          "scatterpolargl": [
           {
            "marker": {
             "colorbar": {
              "outlinewidth": 0,
              "ticks": ""
             }
            },
            "type": "scatterpolargl"
           }
          ],
          "scatterternary": [
           {
            "marker": {
             "colorbar": {
              "outlinewidth": 0,
              "ticks": ""
             }
            },
            "type": "scatterternary"
           }
          ],
          "surface": [
           {
            "colorbar": {
             "outlinewidth": 0,
             "ticks": ""
            },
            "colorscale": [
             [
              0,
              "#0d0887"
             ],
             [
              0.1111111111111111,
              "#46039f"
             ],
             [
              0.2222222222222222,
              "#7201a8"
             ],
             [
              0.3333333333333333,
              "#9c179e"
             ],
             [
              0.4444444444444444,
              "#bd3786"
             ],
             [
              0.5555555555555556,
              "#d8576b"
             ],
             [
              0.6666666666666666,
              "#ed7953"
             ],
             [
              0.7777777777777778,
              "#fb9f3a"
             ],
             [
              0.8888888888888888,
              "#fdca26"
             ],
             [
              1,
              "#f0f921"
             ]
            ],
            "type": "surface"
           }
          ],
          "table": [
           {
            "cells": {
             "fill": {
              "color": "#EBF0F8"
             },
             "line": {
              "color": "white"
             }
            },
            "header": {
             "fill": {
              "color": "#C8D4E3"
             },
             "line": {
              "color": "white"
             }
            },
            "type": "table"
           }
          ]
         },
         "layout": {
          "annotationdefaults": {
           "arrowcolor": "#2a3f5f",
           "arrowhead": 0,
           "arrowwidth": 1
          },
          "autotypenumbers": "strict",
          "coloraxis": {
           "colorbar": {
            "outlinewidth": 0,
            "ticks": ""
           }
          },
          "colorscale": {
           "diverging": [
            [
             0,
             "#8e0152"
            ],
            [
             0.1,
             "#c51b7d"
            ],
            [
             0.2,
             "#de77ae"
            ],
            [
             0.3,
             "#f1b6da"
            ],
            [
             0.4,
             "#fde0ef"
            ],
            [
             0.5,
             "#f7f7f7"
            ],
            [
             0.6,
             "#e6f5d0"
            ],
            [
             0.7,
             "#b8e186"
            ],
            [
             0.8,
             "#7fbc41"
            ],
            [
             0.9,
             "#4d9221"
            ],
            [
             1,
             "#276419"
            ]
           ],
           "sequential": [
            [
             0,
             "#0d0887"
            ],
            [
             0.1111111111111111,
             "#46039f"
            ],
            [
             0.2222222222222222,
             "#7201a8"
            ],
            [
             0.3333333333333333,
             "#9c179e"
            ],
            [
             0.4444444444444444,
             "#bd3786"
            ],
            [
             0.5555555555555556,
             "#d8576b"
            ],
            [
             0.6666666666666666,
             "#ed7953"
            ],
            [
             0.7777777777777778,
             "#fb9f3a"
            ],
            [
             0.8888888888888888,
             "#fdca26"
            ],
            [
             1,
             "#f0f921"
            ]
           ],
           "sequentialminus": [
            [
             0,
             "#0d0887"
            ],
            [
             0.1111111111111111,
             "#46039f"
            ],
            [
             0.2222222222222222,
             "#7201a8"
            ],
            [
             0.3333333333333333,
             "#9c179e"
            ],
            [
             0.4444444444444444,
             "#bd3786"
            ],
            [
             0.5555555555555556,
             "#d8576b"
            ],
            [
             0.6666666666666666,
             "#ed7953"
            ],
            [
             0.7777777777777778,
             "#fb9f3a"
            ],
            [
             0.8888888888888888,
             "#fdca26"
            ],
            [
             1,
             "#f0f921"
            ]
           ]
          },
          "colorway": [
           "#636efa",
           "#EF553B",
           "#00cc96",
           "#ab63fa",
           "#FFA15A",
           "#19d3f3",
           "#FF6692",
           "#B6E880",
           "#FF97FF",
           "#FECB52"
          ],
          "font": {
           "color": "#2a3f5f"
          },
          "geo": {
           "bgcolor": "white",
           "lakecolor": "white",
           "landcolor": "#E5ECF6",
           "showlakes": true,
           "showland": true,
           "subunitcolor": "white"
          },
          "hoverlabel": {
           "align": "left"
          },
          "hovermode": "closest",
          "mapbox": {
           "style": "light"
          },
          "paper_bgcolor": "white",
          "plot_bgcolor": "#E5ECF6",
          "polar": {
           "angularaxis": {
            "gridcolor": "white",
            "linecolor": "white",
            "ticks": ""
           },
           "bgcolor": "#E5ECF6",
           "radialaxis": {
            "gridcolor": "white",
            "linecolor": "white",
            "ticks": ""
           }
          },
          "scene": {
           "xaxis": {
            "backgroundcolor": "#E5ECF6",
            "gridcolor": "white",
            "gridwidth": 2,
            "linecolor": "white",
            "showbackground": true,
            "ticks": "",
            "zerolinecolor": "white"
           },
           "yaxis": {
            "backgroundcolor": "#E5ECF6",
            "gridcolor": "white",
            "gridwidth": 2,
            "linecolor": "white",
            "showbackground": true,
            "ticks": "",
            "zerolinecolor": "white"
           },
           "zaxis": {
            "backgroundcolor": "#E5ECF6",
            "gridcolor": "white",
            "gridwidth": 2,
            "linecolor": "white",
            "showbackground": true,
            "ticks": "",
            "zerolinecolor": "white"
           }
          },
          "shapedefaults": {
           "line": {
            "color": "#2a3f5f"
           }
          },
          "ternary": {
           "aaxis": {
            "gridcolor": "white",
            "linecolor": "white",
            "ticks": ""
           },
           "baxis": {
            "gridcolor": "white",
            "linecolor": "white",
            "ticks": ""
           },
           "bgcolor": "#E5ECF6",
           "caxis": {
            "gridcolor": "white",
            "linecolor": "white",
            "ticks": ""
           }
          },
          "title": {
           "x": 0.05
          },
          "xaxis": {
           "automargin": true,
           "gridcolor": "white",
           "linecolor": "white",
           "ticks": "",
           "title": {
            "standoff": 15
           },
           "zerolinecolor": "white",
           "zerolinewidth": 2
          },
          "yaxis": {
           "automargin": true,
           "gridcolor": "white",
           "linecolor": "white",
           "ticks": "",
           "title": {
            "standoff": 15
           },
           "zerolinecolor": "white",
           "zerolinewidth": 2
          }
         }
        },
        "title": {
         "text": "Optimization History Plot"
        },
        "xaxis": {
         "title": {
          "text": "Trial"
         }
        },
        "yaxis": {
         "title": {
          "text": "Objective Value"
         }
        }
       }
      },
      "text/html": [
       "<div>                            <div id=\"14954c56-1b35-4058-8d59-25a5eb4a88fe\" class=\"plotly-graph-div\" style=\"height:525px; width:100%;\"></div>            <script type=\"text/javascript\">                require([\"plotly\"], function(Plotly) {                    window.PLOTLYENV=window.PLOTLYENV || {};                                    if (document.getElementById(\"14954c56-1b35-4058-8d59-25a5eb4a88fe\")) {                    Plotly.newPlot(                        \"14954c56-1b35-4058-8d59-25a5eb4a88fe\",                        [{\"mode\":\"markers\",\"name\":\"Objective Value\",\"x\":[0,1,2,3,4,5,6,7,8,9,10,11,12,13,14,15,16,17,18,19,20,21,22,23,24,25,26,27,28,29,30,31,32,33,34,35,36,37,38,39,40,41,42,43,44,45,46,47,48,49,50,51,52,53,54,55,56,57,58,59,60,61,62,63,64,65,66,67,68,69,70,71,72,73,74,75,76,77,78,79,80,81,82,83,84,85,86,87,88,89,90,91,92,93,94,95,96,97,98,99,100,101,102,103,104,105,106,107,108,109,110,111,112,113],\"y\":[0.5454545617103577,0.7303030490875244,0.8060606122016907,0.8333333134651184,0.7333333492279053,0.8060606122016907,0.7848485112190247,0.8272727131843567,0.7939394116401672,0.739393949508667,0.8606060743331909,0.7939394116401672,0.8363636136054993,0.7818182110786438,0.8545454740524292,0.49696969985961914,0.800000011920929,0.7515151500701904,0.8030303120613098,0.8575757741928101,0.8090909123420715,0.8181818127632141,0.539393961429596,0.5181818008422852,0.8333333134651184,0.8515151739120483,0.5303030014038086,0.760606050491333,0.7575757503509521,0.7060605883598328,0.469696968793869,0.7030302882194519,0.7787878513336182,0.8090909123420715,0.7909091114997864,0.821212112903595,0.6878787875175476,0.7272727489471436,0.842424213886261,0.8393939137458801,0.6727272868156433,0.7151514887809753,0.8181818127632141,0.8060606122016907,0.8303030133247375,0.8787878751754761,0.7181817889213562,0.5090909004211426,0.521212100982666,0.760606050491333,0.8545454740524292,0.800000011920929,0.8272727131843567,0.8515151739120483,0.7939394116401672,0.7151514887809753,0.7060605883598328,0.8303030133247375,0.7818182110786438,0.7545454502105713,0.8303030133247375,0.8303030133247375,0.800000011920929,0.7515151500701904,0.4939393997192383,0.7333333492279053,0.5,0.5242424011230469,0.821212112903595,0.7757575511932373,0.8393939137458801,0.469696968793869,0.7545454502105713,0.596969723701477,0.521212100982666,0.7575757503509521,0.8030303120613098,0.8181818127632141,0.8545454740524292,0.7848485112190247,0.8454545736312866,0.8696969747543335,0.521212100982666,0.8181818127632141,0.8272727131843567,0.8181818127632141,0.7545454502105713,0.5151515007019043,0.8121212124824524,0.8242424130439758,0.8333333134651184,0.581818163394928,0.5090909004211426,0.5060606002807617,0.8303030133247375,0.8121212124824524,0.7969697117805481,0.821212112903595,0.5060606002807617,0.800000011920929,0.7787878513336182,0.800000011920929,0.5121212005615234,0.7757575511932373,0.521212100982666,0.821212112903595,0.8696969747543335,0.821212112903595,0.7878788113594055,0.7939394116401672,0.8272727131843567,0.7666666507720947,0.5090909004211426,0.7909091114997864],\"type\":\"scatter\"},{\"name\":\"Best Value\",\"x\":[0,1,2,3,4,5,6,7,8,9,10,11,12,13,14,15,16,17,18,19,20,21,22,23,24,25,26,27,28,29,30,31,32,33,34,35,36,37,38,39,40,41,42,43,44,45,46,47,48,49,50,51,52,53,54,55,56,57,58,59,60,61,62,63,64,65,66,67,68,69,70,71,72,73,74,75,76,77,78,79,80,81,82,83,84,85,86,87,88,89,90,91,92,93,94,95,96,97,98,99,100,101,102,103,104,105,106,107,108,109,110,111,112,113],\"y\":[0.5454545617103577,0.7303030490875244,0.8060606122016907,0.8333333134651184,0.8333333134651184,0.8333333134651184,0.8333333134651184,0.8333333134651184,0.8333333134651184,0.8333333134651184,0.8606060743331909,0.8606060743331909,0.8606060743331909,0.8606060743331909,0.8606060743331909,0.8606060743331909,0.8606060743331909,0.8606060743331909,0.8606060743331909,0.8606060743331909,0.8606060743331909,0.8606060743331909,0.8606060743331909,0.8606060743331909,0.8606060743331909,0.8606060743331909,0.8606060743331909,0.8606060743331909,0.8606060743331909,0.8606060743331909,0.8606060743331909,0.8606060743331909,0.8606060743331909,0.8606060743331909,0.8606060743331909,0.8606060743331909,0.8606060743331909,0.8606060743331909,0.8606060743331909,0.8606060743331909,0.8606060743331909,0.8606060743331909,0.8606060743331909,0.8606060743331909,0.8606060743331909,0.8787878751754761,0.8787878751754761,0.8787878751754761,0.8787878751754761,0.8787878751754761,0.8787878751754761,0.8787878751754761,0.8787878751754761,0.8787878751754761,0.8787878751754761,0.8787878751754761,0.8787878751754761,0.8787878751754761,0.8787878751754761,0.8787878751754761,0.8787878751754761,0.8787878751754761,0.8787878751754761,0.8787878751754761,0.8787878751754761,0.8787878751754761,0.8787878751754761,0.8787878751754761,0.8787878751754761,0.8787878751754761,0.8787878751754761,0.8787878751754761,0.8787878751754761,0.8787878751754761,0.8787878751754761,0.8787878751754761,0.8787878751754761,0.8787878751754761,0.8787878751754761,0.8787878751754761,0.8787878751754761,0.8787878751754761,0.8787878751754761,0.8787878751754761,0.8787878751754761,0.8787878751754761,0.8787878751754761,0.8787878751754761,0.8787878751754761,0.8787878751754761,0.8787878751754761,0.8787878751754761,0.8787878751754761,0.8787878751754761,0.8787878751754761,0.8787878751754761,0.8787878751754761,0.8787878751754761,0.8787878751754761,0.8787878751754761,0.8787878751754761,0.8787878751754761,0.8787878751754761,0.8787878751754761,0.8787878751754761,0.8787878751754761,0.8787878751754761,0.8787878751754761,0.8787878751754761,0.8787878751754761,0.8787878751754761,0.8787878751754761,0.8787878751754761,0.8787878751754761],\"type\":\"scatter\"}],                        {\"title\":{\"text\":\"Optimization History Plot\"},\"xaxis\":{\"title\":{\"text\":\"Trial\"}},\"yaxis\":{\"title\":{\"text\":\"Objective Value\"}},\"template\":{\"data\":{\"histogram2dcontour\":[{\"type\":\"histogram2dcontour\",\"colorbar\":{\"outlinewidth\":0,\"ticks\":\"\"},\"colorscale\":[[0.0,\"#0d0887\"],[0.1111111111111111,\"#46039f\"],[0.2222222222222222,\"#7201a8\"],[0.3333333333333333,\"#9c179e\"],[0.4444444444444444,\"#bd3786\"],[0.5555555555555556,\"#d8576b\"],[0.6666666666666666,\"#ed7953\"],[0.7777777777777778,\"#fb9f3a\"],[0.8888888888888888,\"#fdca26\"],[1.0,\"#f0f921\"]]}],\"choropleth\":[{\"type\":\"choropleth\",\"colorbar\":{\"outlinewidth\":0,\"ticks\":\"\"}}],\"histogram2d\":[{\"type\":\"histogram2d\",\"colorbar\":{\"outlinewidth\":0,\"ticks\":\"\"},\"colorscale\":[[0.0,\"#0d0887\"],[0.1111111111111111,\"#46039f\"],[0.2222222222222222,\"#7201a8\"],[0.3333333333333333,\"#9c179e\"],[0.4444444444444444,\"#bd3786\"],[0.5555555555555556,\"#d8576b\"],[0.6666666666666666,\"#ed7953\"],[0.7777777777777778,\"#fb9f3a\"],[0.8888888888888888,\"#fdca26\"],[1.0,\"#f0f921\"]]}],\"heatmap\":[{\"type\":\"heatmap\",\"colorbar\":{\"outlinewidth\":0,\"ticks\":\"\"},\"colorscale\":[[0.0,\"#0d0887\"],[0.1111111111111111,\"#46039f\"],[0.2222222222222222,\"#7201a8\"],[0.3333333333333333,\"#9c179e\"],[0.4444444444444444,\"#bd3786\"],[0.5555555555555556,\"#d8576b\"],[0.6666666666666666,\"#ed7953\"],[0.7777777777777778,\"#fb9f3a\"],[0.8888888888888888,\"#fdca26\"],[1.0,\"#f0f921\"]]}],\"heatmapgl\":[{\"type\":\"heatmapgl\",\"colorbar\":{\"outlinewidth\":0,\"ticks\":\"\"},\"colorscale\":[[0.0,\"#0d0887\"],[0.1111111111111111,\"#46039f\"],[0.2222222222222222,\"#7201a8\"],[0.3333333333333333,\"#9c179e\"],[0.4444444444444444,\"#bd3786\"],[0.5555555555555556,\"#d8576b\"],[0.6666666666666666,\"#ed7953\"],[0.7777777777777778,\"#fb9f3a\"],[0.8888888888888888,\"#fdca26\"],[1.0,\"#f0f921\"]]}],\"contourcarpet\":[{\"type\":\"contourcarpet\",\"colorbar\":{\"outlinewidth\":0,\"ticks\":\"\"}}],\"contour\":[{\"type\":\"contour\",\"colorbar\":{\"outlinewidth\":0,\"ticks\":\"\"},\"colorscale\":[[0.0,\"#0d0887\"],[0.1111111111111111,\"#46039f\"],[0.2222222222222222,\"#7201a8\"],[0.3333333333333333,\"#9c179e\"],[0.4444444444444444,\"#bd3786\"],[0.5555555555555556,\"#d8576b\"],[0.6666666666666666,\"#ed7953\"],[0.7777777777777778,\"#fb9f3a\"],[0.8888888888888888,\"#fdca26\"],[1.0,\"#f0f921\"]]}],\"surface\":[{\"type\":\"surface\",\"colorbar\":{\"outlinewidth\":0,\"ticks\":\"\"},\"colorscale\":[[0.0,\"#0d0887\"],[0.1111111111111111,\"#46039f\"],[0.2222222222222222,\"#7201a8\"],[0.3333333333333333,\"#9c179e\"],[0.4444444444444444,\"#bd3786\"],[0.5555555555555556,\"#d8576b\"],[0.6666666666666666,\"#ed7953\"],[0.7777777777777778,\"#fb9f3a\"],[0.8888888888888888,\"#fdca26\"],[1.0,\"#f0f921\"]]}],\"mesh3d\":[{\"type\":\"mesh3d\",\"colorbar\":{\"outlinewidth\":0,\"ticks\":\"\"}}],\"scatter\":[{\"fillpattern\":{\"fillmode\":\"overlay\",\"size\":10,\"solidity\":0.2},\"type\":\"scatter\"}],\"parcoords\":[{\"type\":\"parcoords\",\"line\":{\"colorbar\":{\"outlinewidth\":0,\"ticks\":\"\"}}}],\"scatterpolargl\":[{\"type\":\"scatterpolargl\",\"marker\":{\"colorbar\":{\"outlinewidth\":0,\"ticks\":\"\"}}}],\"bar\":[{\"error_x\":{\"color\":\"#2a3f5f\"},\"error_y\":{\"color\":\"#2a3f5f\"},\"marker\":{\"line\":{\"color\":\"#E5ECF6\",\"width\":0.5},\"pattern\":{\"fillmode\":\"overlay\",\"size\":10,\"solidity\":0.2}},\"type\":\"bar\"}],\"scattergeo\":[{\"type\":\"scattergeo\",\"marker\":{\"colorbar\":{\"outlinewidth\":0,\"ticks\":\"\"}}}],\"scatterpolar\":[{\"type\":\"scatterpolar\",\"marker\":{\"colorbar\":{\"outlinewidth\":0,\"ticks\":\"\"}}}],\"histogram\":[{\"marker\":{\"pattern\":{\"fillmode\":\"overlay\",\"size\":10,\"solidity\":0.2}},\"type\":\"histogram\"}],\"scattergl\":[{\"type\":\"scattergl\",\"marker\":{\"colorbar\":{\"outlinewidth\":0,\"ticks\":\"\"}}}],\"scatter3d\":[{\"type\":\"scatter3d\",\"line\":{\"colorbar\":{\"outlinewidth\":0,\"ticks\":\"\"}},\"marker\":{\"colorbar\":{\"outlinewidth\":0,\"ticks\":\"\"}}}],\"scattermapbox\":[{\"type\":\"scattermapbox\",\"marker\":{\"colorbar\":{\"outlinewidth\":0,\"ticks\":\"\"}}}],\"scatterternary\":[{\"type\":\"scatterternary\",\"marker\":{\"colorbar\":{\"outlinewidth\":0,\"ticks\":\"\"}}}],\"scattercarpet\":[{\"type\":\"scattercarpet\",\"marker\":{\"colorbar\":{\"outlinewidth\":0,\"ticks\":\"\"}}}],\"carpet\":[{\"aaxis\":{\"endlinecolor\":\"#2a3f5f\",\"gridcolor\":\"white\",\"linecolor\":\"white\",\"minorgridcolor\":\"white\",\"startlinecolor\":\"#2a3f5f\"},\"baxis\":{\"endlinecolor\":\"#2a3f5f\",\"gridcolor\":\"white\",\"linecolor\":\"white\",\"minorgridcolor\":\"white\",\"startlinecolor\":\"#2a3f5f\"},\"type\":\"carpet\"}],\"table\":[{\"cells\":{\"fill\":{\"color\":\"#EBF0F8\"},\"line\":{\"color\":\"white\"}},\"header\":{\"fill\":{\"color\":\"#C8D4E3\"},\"line\":{\"color\":\"white\"}},\"type\":\"table\"}],\"barpolar\":[{\"marker\":{\"line\":{\"color\":\"#E5ECF6\",\"width\":0.5},\"pattern\":{\"fillmode\":\"overlay\",\"size\":10,\"solidity\":0.2}},\"type\":\"barpolar\"}],\"pie\":[{\"automargin\":true,\"type\":\"pie\"}]},\"layout\":{\"autotypenumbers\":\"strict\",\"colorway\":[\"#636efa\",\"#EF553B\",\"#00cc96\",\"#ab63fa\",\"#FFA15A\",\"#19d3f3\",\"#FF6692\",\"#B6E880\",\"#FF97FF\",\"#FECB52\"],\"font\":{\"color\":\"#2a3f5f\"},\"hovermode\":\"closest\",\"hoverlabel\":{\"align\":\"left\"},\"paper_bgcolor\":\"white\",\"plot_bgcolor\":\"#E5ECF6\",\"polar\":{\"bgcolor\":\"#E5ECF6\",\"angularaxis\":{\"gridcolor\":\"white\",\"linecolor\":\"white\",\"ticks\":\"\"},\"radialaxis\":{\"gridcolor\":\"white\",\"linecolor\":\"white\",\"ticks\":\"\"}},\"ternary\":{\"bgcolor\":\"#E5ECF6\",\"aaxis\":{\"gridcolor\":\"white\",\"linecolor\":\"white\",\"ticks\":\"\"},\"baxis\":{\"gridcolor\":\"white\",\"linecolor\":\"white\",\"ticks\":\"\"},\"caxis\":{\"gridcolor\":\"white\",\"linecolor\":\"white\",\"ticks\":\"\"}},\"coloraxis\":{\"colorbar\":{\"outlinewidth\":0,\"ticks\":\"\"}},\"colorscale\":{\"sequential\":[[0.0,\"#0d0887\"],[0.1111111111111111,\"#46039f\"],[0.2222222222222222,\"#7201a8\"],[0.3333333333333333,\"#9c179e\"],[0.4444444444444444,\"#bd3786\"],[0.5555555555555556,\"#d8576b\"],[0.6666666666666666,\"#ed7953\"],[0.7777777777777778,\"#fb9f3a\"],[0.8888888888888888,\"#fdca26\"],[1.0,\"#f0f921\"]],\"sequentialminus\":[[0.0,\"#0d0887\"],[0.1111111111111111,\"#46039f\"],[0.2222222222222222,\"#7201a8\"],[0.3333333333333333,\"#9c179e\"],[0.4444444444444444,\"#bd3786\"],[0.5555555555555556,\"#d8576b\"],[0.6666666666666666,\"#ed7953\"],[0.7777777777777778,\"#fb9f3a\"],[0.8888888888888888,\"#fdca26\"],[1.0,\"#f0f921\"]],\"diverging\":[[0,\"#8e0152\"],[0.1,\"#c51b7d\"],[0.2,\"#de77ae\"],[0.3,\"#f1b6da\"],[0.4,\"#fde0ef\"],[0.5,\"#f7f7f7\"],[0.6,\"#e6f5d0\"],[0.7,\"#b8e186\"],[0.8,\"#7fbc41\"],[0.9,\"#4d9221\"],[1,\"#276419\"]]},\"xaxis\":{\"gridcolor\":\"white\",\"linecolor\":\"white\",\"ticks\":\"\",\"title\":{\"standoff\":15},\"zerolinecolor\":\"white\",\"automargin\":true,\"zerolinewidth\":2},\"yaxis\":{\"gridcolor\":\"white\",\"linecolor\":\"white\",\"ticks\":\"\",\"title\":{\"standoff\":15},\"zerolinecolor\":\"white\",\"automargin\":true,\"zerolinewidth\":2},\"scene\":{\"xaxis\":{\"backgroundcolor\":\"#E5ECF6\",\"gridcolor\":\"white\",\"linecolor\":\"white\",\"showbackground\":true,\"ticks\":\"\",\"zerolinecolor\":\"white\",\"gridwidth\":2},\"yaxis\":{\"backgroundcolor\":\"#E5ECF6\",\"gridcolor\":\"white\",\"linecolor\":\"white\",\"showbackground\":true,\"ticks\":\"\",\"zerolinecolor\":\"white\",\"gridwidth\":2},\"zaxis\":{\"backgroundcolor\":\"#E5ECF6\",\"gridcolor\":\"white\",\"linecolor\":\"white\",\"showbackground\":true,\"ticks\":\"\",\"zerolinecolor\":\"white\",\"gridwidth\":2}},\"shapedefaults\":{\"line\":{\"color\":\"#2a3f5f\"}},\"annotationdefaults\":{\"arrowcolor\":\"#2a3f5f\",\"arrowhead\":0,\"arrowwidth\":1},\"geo\":{\"bgcolor\":\"white\",\"landcolor\":\"#E5ECF6\",\"subunitcolor\":\"white\",\"showland\":true,\"showlakes\":true,\"lakecolor\":\"white\"},\"title\":{\"x\":0.05},\"mapbox\":{\"style\":\"light\"}}}},                        {\"responsive\": true}                    ).then(function(){\n",
       "                            \n",
       "var gd = document.getElementById('14954c56-1b35-4058-8d59-25a5eb4a88fe');\n",
       "var x = new MutationObserver(function (mutations, observer) {{\n",
       "        var display = window.getComputedStyle(gd).display;\n",
       "        if (!display || display === 'none') {{\n",
       "            console.log([gd, 'removed!']);\n",
       "            Plotly.purge(gd);\n",
       "            observer.disconnect();\n",
       "        }}\n",
       "}});\n",
       "\n",
       "// Listen for the removal of the full notebook cells\n",
       "var notebookContainer = gd.closest('#notebook-container');\n",
       "if (notebookContainer) {{\n",
       "    x.observe(notebookContainer, {childList: true});\n",
       "}}\n",
       "\n",
       "// Listen for the clearing of the current output cell\n",
       "var outputEl = gd.closest('.output');\n",
       "if (outputEl) {{\n",
       "    x.observe(outputEl, {childList: true});\n",
       "}}\n",
       "\n",
       "                        })                };                });            </script>        </div>"
      ]
     },
     "metadata": {},
     "output_type": "display_data"
    }
   ],
   "source": [
    "visualization.plot_optimization_history(study)"
   ]
  },
  {
   "cell_type": "code",
   "execution_count": 13,
   "id": "911b81c5",
   "metadata": {},
   "outputs": [
    {
     "data": {
      "text/html": [
       "<div>\n",
       "<style scoped>\n",
       "    .dataframe tbody tr th:only-of-type {\n",
       "        vertical-align: middle;\n",
       "    }\n",
       "\n",
       "    .dataframe tbody tr th {\n",
       "        vertical-align: top;\n",
       "    }\n",
       "\n",
       "    .dataframe thead th {\n",
       "        text-align: right;\n",
       "    }\n",
       "</style>\n",
       "<table border=\"1\" class=\"dataframe\">\n",
       "  <thead>\n",
       "    <tr style=\"text-align: right;\">\n",
       "      <th></th>\n",
       "      <th>number</th>\n",
       "      <th>value</th>\n",
       "      <th>params_wavelet</th>\n",
       "      <th>state</th>\n",
       "    </tr>\n",
       "  </thead>\n",
       "  <tbody>\n",
       "    <tr>\n",
       "      <th>0</th>\n",
       "      <td>0</td>\n",
       "      <td>0.545455</td>\n",
       "      <td>gaus6</td>\n",
       "      <td>COMPLETE</td>\n",
       "    </tr>\n",
       "    <tr>\n",
       "      <th>1</th>\n",
       "      <td>1</td>\n",
       "      <td>0.730303</td>\n",
       "      <td>gaus4</td>\n",
       "      <td>COMPLETE</td>\n",
       "    </tr>\n",
       "    <tr>\n",
       "      <th>2</th>\n",
       "      <td>2</td>\n",
       "      <td>0.806061</td>\n",
       "      <td>gaus6</td>\n",
       "      <td>COMPLETE</td>\n",
       "    </tr>\n",
       "    <tr>\n",
       "      <th>3</th>\n",
       "      <td>3</td>\n",
       "      <td>0.833333</td>\n",
       "      <td>cgau6</td>\n",
       "      <td>COMPLETE</td>\n",
       "    </tr>\n",
       "    <tr>\n",
       "      <th>4</th>\n",
       "      <td>4</td>\n",
       "      <td>0.733333</td>\n",
       "      <td>gaus6</td>\n",
       "      <td>COMPLETE</td>\n",
       "    </tr>\n",
       "    <tr>\n",
       "      <th>...</th>\n",
       "      <td>...</td>\n",
       "      <td>...</td>\n",
       "      <td>...</td>\n",
       "      <td>...</td>\n",
       "    </tr>\n",
       "    <tr>\n",
       "      <th>109</th>\n",
       "      <td>109</td>\n",
       "      <td>0.793939</td>\n",
       "      <td>cgau1</td>\n",
       "      <td>COMPLETE</td>\n",
       "    </tr>\n",
       "    <tr>\n",
       "      <th>110</th>\n",
       "      <td>110</td>\n",
       "      <td>0.827273</td>\n",
       "      <td>cgau3</td>\n",
       "      <td>COMPLETE</td>\n",
       "    </tr>\n",
       "    <tr>\n",
       "      <th>111</th>\n",
       "      <td>111</td>\n",
       "      <td>0.766667</td>\n",
       "      <td>cgau1</td>\n",
       "      <td>COMPLETE</td>\n",
       "    </tr>\n",
       "    <tr>\n",
       "      <th>112</th>\n",
       "      <td>112</td>\n",
       "      <td>0.509091</td>\n",
       "      <td>cgau3</td>\n",
       "      <td>COMPLETE</td>\n",
       "    </tr>\n",
       "    <tr>\n",
       "      <th>113</th>\n",
       "      <td>113</td>\n",
       "      <td>0.790909</td>\n",
       "      <td>cgau3</td>\n",
       "      <td>COMPLETE</td>\n",
       "    </tr>\n",
       "  </tbody>\n",
       "</table>\n",
       "<p>114 rows × 4 columns</p>\n",
       "</div>"
      ],
      "text/plain": [
       "     number     value params_wavelet     state\n",
       "0         0  0.545455          gaus6  COMPLETE\n",
       "1         1  0.730303          gaus4  COMPLETE\n",
       "2         2  0.806061          gaus6  COMPLETE\n",
       "3         3  0.833333          cgau6  COMPLETE\n",
       "4         4  0.733333          gaus6  COMPLETE\n",
       "..      ...       ...            ...       ...\n",
       "109     109  0.793939          cgau1  COMPLETE\n",
       "110     110  0.827273          cgau3  COMPLETE\n",
       "111     111  0.766667          cgau1  COMPLETE\n",
       "112     112  0.509091          cgau3  COMPLETE\n",
       "113     113  0.790909          cgau3  COMPLETE\n",
       "\n",
       "[114 rows x 4 columns]"
      ]
     },
     "execution_count": 13,
     "metadata": {},
     "output_type": "execute_result"
    }
   ],
   "source": [
    "df = study.trials_dataframe(attrs=('number', 'value', 'params', 'state'))\n",
    "df[df.state == \"COMPLETE\"]"
   ]
  }
 ],
 "metadata": {
  "kernelspec": {
   "display_name": "Python 3 (ipykernel)",
   "language": "python",
   "name": "python3"
  },
  "language_info": {
   "codemirror_mode": {
    "name": "ipython",
    "version": 3
   },
   "file_extension": ".py",
   "mimetype": "text/x-python",
   "name": "python",
   "nbconvert_exporter": "python",
   "pygments_lexer": "ipython3",
   "version": "3.9.13"
  },
  "toc": {
   "base_numbering": 1,
   "nav_menu": {},
   "number_sections": true,
   "sideBar": true,
   "skip_h1_title": false,
   "title_cell": "Table of Contents",
   "title_sidebar": "Contents",
   "toc_cell": false,
   "toc_position": {},
   "toc_section_display": true,
   "toc_window_display": false
  }
 },
 "nbformat": 4,
 "nbformat_minor": 5
}
